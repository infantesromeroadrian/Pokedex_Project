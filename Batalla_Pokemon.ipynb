{
 "cells": [
  {
   "cell_type": "code",
   "execution_count": 19,
   "metadata": {
    "collapsed": true,
    "ExecuteTime": {
     "start_time": "2023-04-22T23:49:25.663428Z",
     "end_time": "2023-04-22T23:49:25.728499Z"
    }
   },
   "outputs": [],
   "source": [
    "# Librerias\n",
    "\n",
    "import pandas as pd\n",
    "from sklearn.tree import DecisionTreeClassifier\n",
    "import plotly.graph_objs as go\n",
    "from plotly.subplots import make_subplots\n",
    "import jupyterlab_plotly as jp\n",
    "import plotly.express as px"
   ]
  },
  {
   "cell_type": "code",
   "execution_count": 20,
   "outputs": [
    {
     "data": {
      "text/plain": "       #                   Name   Type 1  Type 2  Total  HP  Attack  Defense  \\\n0      1              Bulbasaur    Grass  Poison    318  45      49       49   \n1      2                Ivysaur    Grass  Poison    405  60      62       63   \n2      3               Venusaur    Grass  Poison    525  80      82       83   \n3      3  VenusaurMega Venusaur    Grass  Poison    625  80     100      123   \n4      4             Charmander     Fire     NaN    309  39      52       43   \n..   ...                    ...      ...     ...    ...  ..     ...      ...   \n795  719                Diancie     Rock   Fairy    600  50     100      150   \n796  719    DiancieMega Diancie     Rock   Fairy    700  50     160      110   \n797  720    HoopaHoopa Confined  Psychic   Ghost    600  80     110       60   \n798  720     HoopaHoopa Unbound  Psychic    Dark    680  80     160       60   \n799  721              Volcanion     Fire   Water    600  80     110      120   \n\n     Sp. Atk  Sp. Def  Speed  Generation  Legendary  \n0         65       65     45           1      False  \n1         80       80     60           1      False  \n2        100      100     80           1      False  \n3        122      120     80           1      False  \n4         60       50     65           1      False  \n..       ...      ...    ...         ...        ...  \n795      100      150     50           6       True  \n796      160      110    110           6       True  \n797      150      130     70           6       True  \n798      170      130     80           6       True  \n799      130       90     70           6       True  \n\n[800 rows x 13 columns]",
      "text/html": "<div>\n<style scoped>\n    .dataframe tbody tr th:only-of-type {\n        vertical-align: middle;\n    }\n\n    .dataframe tbody tr th {\n        vertical-align: top;\n    }\n\n    .dataframe thead th {\n        text-align: right;\n    }\n</style>\n<table border=\"1\" class=\"dataframe\">\n  <thead>\n    <tr style=\"text-align: right;\">\n      <th></th>\n      <th>#</th>\n      <th>Name</th>\n      <th>Type 1</th>\n      <th>Type 2</th>\n      <th>Total</th>\n      <th>HP</th>\n      <th>Attack</th>\n      <th>Defense</th>\n      <th>Sp. Atk</th>\n      <th>Sp. Def</th>\n      <th>Speed</th>\n      <th>Generation</th>\n      <th>Legendary</th>\n    </tr>\n  </thead>\n  <tbody>\n    <tr>\n      <th>0</th>\n      <td>1</td>\n      <td>Bulbasaur</td>\n      <td>Grass</td>\n      <td>Poison</td>\n      <td>318</td>\n      <td>45</td>\n      <td>49</td>\n      <td>49</td>\n      <td>65</td>\n      <td>65</td>\n      <td>45</td>\n      <td>1</td>\n      <td>False</td>\n    </tr>\n    <tr>\n      <th>1</th>\n      <td>2</td>\n      <td>Ivysaur</td>\n      <td>Grass</td>\n      <td>Poison</td>\n      <td>405</td>\n      <td>60</td>\n      <td>62</td>\n      <td>63</td>\n      <td>80</td>\n      <td>80</td>\n      <td>60</td>\n      <td>1</td>\n      <td>False</td>\n    </tr>\n    <tr>\n      <th>2</th>\n      <td>3</td>\n      <td>Venusaur</td>\n      <td>Grass</td>\n      <td>Poison</td>\n      <td>525</td>\n      <td>80</td>\n      <td>82</td>\n      <td>83</td>\n      <td>100</td>\n      <td>100</td>\n      <td>80</td>\n      <td>1</td>\n      <td>False</td>\n    </tr>\n    <tr>\n      <th>3</th>\n      <td>3</td>\n      <td>VenusaurMega Venusaur</td>\n      <td>Grass</td>\n      <td>Poison</td>\n      <td>625</td>\n      <td>80</td>\n      <td>100</td>\n      <td>123</td>\n      <td>122</td>\n      <td>120</td>\n      <td>80</td>\n      <td>1</td>\n      <td>False</td>\n    </tr>\n    <tr>\n      <th>4</th>\n      <td>4</td>\n      <td>Charmander</td>\n      <td>Fire</td>\n      <td>NaN</td>\n      <td>309</td>\n      <td>39</td>\n      <td>52</td>\n      <td>43</td>\n      <td>60</td>\n      <td>50</td>\n      <td>65</td>\n      <td>1</td>\n      <td>False</td>\n    </tr>\n    <tr>\n      <th>...</th>\n      <td>...</td>\n      <td>...</td>\n      <td>...</td>\n      <td>...</td>\n      <td>...</td>\n      <td>...</td>\n      <td>...</td>\n      <td>...</td>\n      <td>...</td>\n      <td>...</td>\n      <td>...</td>\n      <td>...</td>\n      <td>...</td>\n    </tr>\n    <tr>\n      <th>795</th>\n      <td>719</td>\n      <td>Diancie</td>\n      <td>Rock</td>\n      <td>Fairy</td>\n      <td>600</td>\n      <td>50</td>\n      <td>100</td>\n      <td>150</td>\n      <td>100</td>\n      <td>150</td>\n      <td>50</td>\n      <td>6</td>\n      <td>True</td>\n    </tr>\n    <tr>\n      <th>796</th>\n      <td>719</td>\n      <td>DiancieMega Diancie</td>\n      <td>Rock</td>\n      <td>Fairy</td>\n      <td>700</td>\n      <td>50</td>\n      <td>160</td>\n      <td>110</td>\n      <td>160</td>\n      <td>110</td>\n      <td>110</td>\n      <td>6</td>\n      <td>True</td>\n    </tr>\n    <tr>\n      <th>797</th>\n      <td>720</td>\n      <td>HoopaHoopa Confined</td>\n      <td>Psychic</td>\n      <td>Ghost</td>\n      <td>600</td>\n      <td>80</td>\n      <td>110</td>\n      <td>60</td>\n      <td>150</td>\n      <td>130</td>\n      <td>70</td>\n      <td>6</td>\n      <td>True</td>\n    </tr>\n    <tr>\n      <th>798</th>\n      <td>720</td>\n      <td>HoopaHoopa Unbound</td>\n      <td>Psychic</td>\n      <td>Dark</td>\n      <td>680</td>\n      <td>80</td>\n      <td>160</td>\n      <td>60</td>\n      <td>170</td>\n      <td>130</td>\n      <td>80</td>\n      <td>6</td>\n      <td>True</td>\n    </tr>\n    <tr>\n      <th>799</th>\n      <td>721</td>\n      <td>Volcanion</td>\n      <td>Fire</td>\n      <td>Water</td>\n      <td>600</td>\n      <td>80</td>\n      <td>110</td>\n      <td>120</td>\n      <td>130</td>\n      <td>90</td>\n      <td>70</td>\n      <td>6</td>\n      <td>True</td>\n    </tr>\n  </tbody>\n</table>\n<p>800 rows × 13 columns</p>\n</div>"
     },
     "execution_count": 20,
     "metadata": {},
     "output_type": "execute_result"
    }
   ],
   "source": [
    "# Cargar los datos\n",
    "\n",
    "pokemon_data = pd.read_csv('pokemon.csv')\n",
    "pokemon_data"
   ],
   "metadata": {
    "collapsed": false,
    "ExecuteTime": {
     "start_time": "2023-04-22T23:49:25.666915Z",
     "end_time": "2023-04-22T23:49:25.739972Z"
    }
   }
  },
  {
   "cell_type": "code",
   "execution_count": 21,
   "outputs": [
    {
     "data": {
      "text/plain": "#               0\nName            0\nType 1          0\nType 2        386\nTotal           0\nHP              0\nAttack          0\nDefense         0\nSp. Atk         0\nSp. Def         0\nSpeed           0\nGeneration      0\nLegendary       0\ndtype: int64"
     },
     "execution_count": 21,
     "metadata": {},
     "output_type": "execute_result"
    }
   ],
   "source": [
    "# Vamos a ver si hay valores nulos\n",
    "\n",
    "pokemon_data.isnull().sum()"
   ],
   "metadata": {
    "collapsed": false,
    "ExecuteTime": {
     "start_time": "2023-04-22T23:49:25.680133Z",
     "end_time": "2023-04-22T23:49:25.786550Z"
    }
   }
  },
  {
   "cell_type": "code",
   "execution_count": 22,
   "outputs": [
    {
     "data": {
      "text/plain": "#             0\nName          0\nType 1        0\nType 2        0\nTotal         0\nHP            0\nAttack        0\nDefense       0\nSp. Atk       0\nSp. Def       0\nSpeed         0\nGeneration    0\nLegendary     0\ndtype: int64"
     },
     "execution_count": 22,
     "metadata": {},
     "output_type": "execute_result"
    }
   ],
   "source": [
    "# Vamos a sustituir los valores nulos por la palabra 'None'\n",
    "\n",
    "pokemon_data.fillna('None', inplace=True)\n",
    "pokemon_data.isnull().sum()"
   ],
   "metadata": {
    "collapsed": false,
    "ExecuteTime": {
     "start_time": "2023-04-22T23:49:25.684333Z",
     "end_time": "2023-04-22T23:49:25.786768Z"
    }
   }
  },
  {
   "cell_type": "code",
   "execution_count": 23,
   "outputs": [
    {
     "name": "stderr",
     "output_type": "stream",
     "text": [
      "/var/folders/b7/wmcd_tzj3hd8lsdlfgr85gb40000gn/T/ipykernel_34757/3438404718.py:3: FutureWarning: The default value of regex will change from True to False in a future version. In addition, single character regular expressions will *not* be treated as literal strings when regex=True.\n",
      "  pokemon_data['Name'] = pokemon_data['Name'].str.replace(' ', '').str.replace('.', '').str.replace('-', '').str.title()\n"
     ]
    },
    {
     "data": {
      "text/plain": "   #                  Name Type 1  Type 2  Total  HP  Attack  Defense  \\\n0  1             Bulbasaur  Grass  Poison    318  45      49       49   \n1  2               Ivysaur  Grass  Poison    405  60      62       63   \n2  3              Venusaur  Grass  Poison    525  80      82       83   \n3  3  Venusaurmegavenusaur  Grass  Poison    625  80     100      123   \n4  4            Charmander   Fire    None    309  39      52       43   \n\n   Sp. Atk  Sp. Def  Speed  Generation  Legendary  \n0       65       65     45           1      False  \n1       80       80     60           1      False  \n2      100      100     80           1      False  \n3      122      120     80           1      False  \n4       60       50     65           1      False  ",
      "text/html": "<div>\n<style scoped>\n    .dataframe tbody tr th:only-of-type {\n        vertical-align: middle;\n    }\n\n    .dataframe tbody tr th {\n        vertical-align: top;\n    }\n\n    .dataframe thead th {\n        text-align: right;\n    }\n</style>\n<table border=\"1\" class=\"dataframe\">\n  <thead>\n    <tr style=\"text-align: right;\">\n      <th></th>\n      <th>#</th>\n      <th>Name</th>\n      <th>Type 1</th>\n      <th>Type 2</th>\n      <th>Total</th>\n      <th>HP</th>\n      <th>Attack</th>\n      <th>Defense</th>\n      <th>Sp. Atk</th>\n      <th>Sp. Def</th>\n      <th>Speed</th>\n      <th>Generation</th>\n      <th>Legendary</th>\n    </tr>\n  </thead>\n  <tbody>\n    <tr>\n      <th>0</th>\n      <td>1</td>\n      <td>Bulbasaur</td>\n      <td>Grass</td>\n      <td>Poison</td>\n      <td>318</td>\n      <td>45</td>\n      <td>49</td>\n      <td>49</td>\n      <td>65</td>\n      <td>65</td>\n      <td>45</td>\n      <td>1</td>\n      <td>False</td>\n    </tr>\n    <tr>\n      <th>1</th>\n      <td>2</td>\n      <td>Ivysaur</td>\n      <td>Grass</td>\n      <td>Poison</td>\n      <td>405</td>\n      <td>60</td>\n      <td>62</td>\n      <td>63</td>\n      <td>80</td>\n      <td>80</td>\n      <td>60</td>\n      <td>1</td>\n      <td>False</td>\n    </tr>\n    <tr>\n      <th>2</th>\n      <td>3</td>\n      <td>Venusaur</td>\n      <td>Grass</td>\n      <td>Poison</td>\n      <td>525</td>\n      <td>80</td>\n      <td>82</td>\n      <td>83</td>\n      <td>100</td>\n      <td>100</td>\n      <td>80</td>\n      <td>1</td>\n      <td>False</td>\n    </tr>\n    <tr>\n      <th>3</th>\n      <td>3</td>\n      <td>Venusaurmegavenusaur</td>\n      <td>Grass</td>\n      <td>Poison</td>\n      <td>625</td>\n      <td>80</td>\n      <td>100</td>\n      <td>123</td>\n      <td>122</td>\n      <td>120</td>\n      <td>80</td>\n      <td>1</td>\n      <td>False</td>\n    </tr>\n    <tr>\n      <th>4</th>\n      <td>4</td>\n      <td>Charmander</td>\n      <td>Fire</td>\n      <td>None</td>\n      <td>309</td>\n      <td>39</td>\n      <td>52</td>\n      <td>43</td>\n      <td>60</td>\n      <td>50</td>\n      <td>65</td>\n      <td>1</td>\n      <td>False</td>\n    </tr>\n  </tbody>\n</table>\n</div>"
     },
     "execution_count": 23,
     "metadata": {},
     "output_type": "execute_result"
    }
   ],
   "source": [
    "# Vamos a trabajar la columna Name para eliminar espacio y caracteres especiales y convertir todo a formato Title\n",
    "\n",
    "pokemon_data['Name'] = pokemon_data['Name'].str.replace(' ', '').str.replace('.', '').str.replace('-', '').str.title()\n",
    "pokemon_data.head()"
   ],
   "metadata": {
    "collapsed": false,
    "ExecuteTime": {
     "start_time": "2023-04-22T23:49:25.696874Z",
     "end_time": "2023-04-22T23:49:25.786947Z"
    }
   }
  },
  {
   "cell_type": "code",
   "execution_count": 24,
   "outputs": [],
   "source": [
    "# Eliminar valores nulos\n",
    "\n",
    "pokemon_data.dropna(inplace=True)"
   ],
   "metadata": {
    "collapsed": false,
    "ExecuteTime": {
     "start_time": "2023-04-22T23:49:25.701355Z",
     "end_time": "2023-04-22T23:49:25.790224Z"
    }
   }
  },
  {
   "cell_type": "code",
   "execution_count": 25,
   "outputs": [
    {
     "data": {
      "text/plain": "   #                  Name  Total  HP  Attack  Defense  Sp. Atk  Sp. Def  \\\n0  1             Bulbasaur    318  45      49       49       65       65   \n1  2               Ivysaur    405  60      62       63       80       80   \n2  3              Venusaur    525  80      82       83      100      100   \n3  3  Venusaurmegavenusaur    625  80     100      123      122      120   \n4  4            Charmander    309  39      52       43       60       50   \n\n   Speed  Generation  ...  Type 2_Grass  Type 2_Ground  Type 2_Ice  \\\n0     45           1  ...             0              0           0   \n1     60           1  ...             0              0           0   \n2     80           1  ...             0              0           0   \n3     80           1  ...             0              0           0   \n4     65           1  ...             0              0           0   \n\n   Type 2_None  Type 2_Normal  Type 2_Poison  Type 2_Psychic  Type 2_Rock  \\\n0            0              0              1               0            0   \n1            0              0              1               0            0   \n2            0              0              1               0            0   \n3            0              0              1               0            0   \n4            1              0              0               0            0   \n\n   Type 2_Steel  Type 2_Water  \n0             0             0  \n1             0             0  \n2             0             0  \n3             0             0  \n4             0             0  \n\n[5 rows x 48 columns]",
      "text/html": "<div>\n<style scoped>\n    .dataframe tbody tr th:only-of-type {\n        vertical-align: middle;\n    }\n\n    .dataframe tbody tr th {\n        vertical-align: top;\n    }\n\n    .dataframe thead th {\n        text-align: right;\n    }\n</style>\n<table border=\"1\" class=\"dataframe\">\n  <thead>\n    <tr style=\"text-align: right;\">\n      <th></th>\n      <th>#</th>\n      <th>Name</th>\n      <th>Total</th>\n      <th>HP</th>\n      <th>Attack</th>\n      <th>Defense</th>\n      <th>Sp. Atk</th>\n      <th>Sp. Def</th>\n      <th>Speed</th>\n      <th>Generation</th>\n      <th>...</th>\n      <th>Type 2_Grass</th>\n      <th>Type 2_Ground</th>\n      <th>Type 2_Ice</th>\n      <th>Type 2_None</th>\n      <th>Type 2_Normal</th>\n      <th>Type 2_Poison</th>\n      <th>Type 2_Psychic</th>\n      <th>Type 2_Rock</th>\n      <th>Type 2_Steel</th>\n      <th>Type 2_Water</th>\n    </tr>\n  </thead>\n  <tbody>\n    <tr>\n      <th>0</th>\n      <td>1</td>\n      <td>Bulbasaur</td>\n      <td>318</td>\n      <td>45</td>\n      <td>49</td>\n      <td>49</td>\n      <td>65</td>\n      <td>65</td>\n      <td>45</td>\n      <td>1</td>\n      <td>...</td>\n      <td>0</td>\n      <td>0</td>\n      <td>0</td>\n      <td>0</td>\n      <td>0</td>\n      <td>1</td>\n      <td>0</td>\n      <td>0</td>\n      <td>0</td>\n      <td>0</td>\n    </tr>\n    <tr>\n      <th>1</th>\n      <td>2</td>\n      <td>Ivysaur</td>\n      <td>405</td>\n      <td>60</td>\n      <td>62</td>\n      <td>63</td>\n      <td>80</td>\n      <td>80</td>\n      <td>60</td>\n      <td>1</td>\n      <td>...</td>\n      <td>0</td>\n      <td>0</td>\n      <td>0</td>\n      <td>0</td>\n      <td>0</td>\n      <td>1</td>\n      <td>0</td>\n      <td>0</td>\n      <td>0</td>\n      <td>0</td>\n    </tr>\n    <tr>\n      <th>2</th>\n      <td>3</td>\n      <td>Venusaur</td>\n      <td>525</td>\n      <td>80</td>\n      <td>82</td>\n      <td>83</td>\n      <td>100</td>\n      <td>100</td>\n      <td>80</td>\n      <td>1</td>\n      <td>...</td>\n      <td>0</td>\n      <td>0</td>\n      <td>0</td>\n      <td>0</td>\n      <td>0</td>\n      <td>1</td>\n      <td>0</td>\n      <td>0</td>\n      <td>0</td>\n      <td>0</td>\n    </tr>\n    <tr>\n      <th>3</th>\n      <td>3</td>\n      <td>Venusaurmegavenusaur</td>\n      <td>625</td>\n      <td>80</td>\n      <td>100</td>\n      <td>123</td>\n      <td>122</td>\n      <td>120</td>\n      <td>80</td>\n      <td>1</td>\n      <td>...</td>\n      <td>0</td>\n      <td>0</td>\n      <td>0</td>\n      <td>0</td>\n      <td>0</td>\n      <td>1</td>\n      <td>0</td>\n      <td>0</td>\n      <td>0</td>\n      <td>0</td>\n    </tr>\n    <tr>\n      <th>4</th>\n      <td>4</td>\n      <td>Charmander</td>\n      <td>309</td>\n      <td>39</td>\n      <td>52</td>\n      <td>43</td>\n      <td>60</td>\n      <td>50</td>\n      <td>65</td>\n      <td>1</td>\n      <td>...</td>\n      <td>0</td>\n      <td>0</td>\n      <td>0</td>\n      <td>1</td>\n      <td>0</td>\n      <td>0</td>\n      <td>0</td>\n      <td>0</td>\n      <td>0</td>\n      <td>0</td>\n    </tr>\n  </tbody>\n</table>\n<p>5 rows × 48 columns</p>\n</div>"
     },
     "execution_count": 25,
     "metadata": {},
     "output_type": "execute_result"
    }
   ],
   "source": [
    "# Codificar variables categóricas\n",
    "\n",
    "pokemon_data = pd.get_dummies(pokemon_data, columns=['Type 1', 'Type 2'])\n",
    "pokemon_data.head()\n",
    "\n",
    "# pd.get_dummies sirve para convertir variables categóricas en variables numéricas"
   ],
   "metadata": {
    "collapsed": false,
    "ExecuteTime": {
     "start_time": "2023-04-22T23:49:25.706809Z",
     "end_time": "2023-04-22T23:49:25.790807Z"
    }
   }
  },
  {
   "cell_type": "code",
   "execution_count": 26,
   "outputs": [
    {
     "data": {
      "text/plain": "DecisionTreeClassifier()",
      "text/html": "<style>#sk-container-id-2 {color: black;background-color: white;}#sk-container-id-2 pre{padding: 0;}#sk-container-id-2 div.sk-toggleable {background-color: white;}#sk-container-id-2 label.sk-toggleable__label {cursor: pointer;display: block;width: 100%;margin-bottom: 0;padding: 0.3em;box-sizing: border-box;text-align: center;}#sk-container-id-2 label.sk-toggleable__label-arrow:before {content: \"▸\";float: left;margin-right: 0.25em;color: #696969;}#sk-container-id-2 label.sk-toggleable__label-arrow:hover:before {color: black;}#sk-container-id-2 div.sk-estimator:hover label.sk-toggleable__label-arrow:before {color: black;}#sk-container-id-2 div.sk-toggleable__content {max-height: 0;max-width: 0;overflow: hidden;text-align: left;background-color: #f0f8ff;}#sk-container-id-2 div.sk-toggleable__content pre {margin: 0.2em;color: black;border-radius: 0.25em;background-color: #f0f8ff;}#sk-container-id-2 input.sk-toggleable__control:checked~div.sk-toggleable__content {max-height: 200px;max-width: 100%;overflow: auto;}#sk-container-id-2 input.sk-toggleable__control:checked~label.sk-toggleable__label-arrow:before {content: \"▾\";}#sk-container-id-2 div.sk-estimator input.sk-toggleable__control:checked~label.sk-toggleable__label {background-color: #d4ebff;}#sk-container-id-2 div.sk-label input.sk-toggleable__control:checked~label.sk-toggleable__label {background-color: #d4ebff;}#sk-container-id-2 input.sk-hidden--visually {border: 0;clip: rect(1px 1px 1px 1px);clip: rect(1px, 1px, 1px, 1px);height: 1px;margin: -1px;overflow: hidden;padding: 0;position: absolute;width: 1px;}#sk-container-id-2 div.sk-estimator {font-family: monospace;background-color: #f0f8ff;border: 1px dotted black;border-radius: 0.25em;box-sizing: border-box;margin-bottom: 0.5em;}#sk-container-id-2 div.sk-estimator:hover {background-color: #d4ebff;}#sk-container-id-2 div.sk-parallel-item::after {content: \"\";width: 100%;border-bottom: 1px solid gray;flex-grow: 1;}#sk-container-id-2 div.sk-label:hover label.sk-toggleable__label {background-color: #d4ebff;}#sk-container-id-2 div.sk-serial::before {content: \"\";position: absolute;border-left: 1px solid gray;box-sizing: border-box;top: 0;bottom: 0;left: 50%;z-index: 0;}#sk-container-id-2 div.sk-serial {display: flex;flex-direction: column;align-items: center;background-color: white;padding-right: 0.2em;padding-left: 0.2em;position: relative;}#sk-container-id-2 div.sk-item {position: relative;z-index: 1;}#sk-container-id-2 div.sk-parallel {display: flex;align-items: stretch;justify-content: center;background-color: white;position: relative;}#sk-container-id-2 div.sk-item::before, #sk-container-id-2 div.sk-parallel-item::before {content: \"\";position: absolute;border-left: 1px solid gray;box-sizing: border-box;top: 0;bottom: 0;left: 50%;z-index: -1;}#sk-container-id-2 div.sk-parallel-item {display: flex;flex-direction: column;z-index: 1;position: relative;background-color: white;}#sk-container-id-2 div.sk-parallel-item:first-child::after {align-self: flex-end;width: 50%;}#sk-container-id-2 div.sk-parallel-item:last-child::after {align-self: flex-start;width: 50%;}#sk-container-id-2 div.sk-parallel-item:only-child::after {width: 0;}#sk-container-id-2 div.sk-dashed-wrapped {border: 1px dashed gray;margin: 0 0.4em 0.5em 0.4em;box-sizing: border-box;padding-bottom: 0.4em;background-color: white;}#sk-container-id-2 div.sk-label label {font-family: monospace;font-weight: bold;display: inline-block;line-height: 1.2em;}#sk-container-id-2 div.sk-label-container {text-align: center;}#sk-container-id-2 div.sk-container {/* jupyter's `normalize.less` sets `[hidden] { display: none; }` but bootstrap.min.css set `[hidden] { display: none !important; }` so we also need the `!important` here to be able to override the default hidden behavior on the sphinx rendered scikit-learn.org. See: https://github.com/scikit-learn/scikit-learn/issues/21755 */display: inline-block !important;position: relative;}#sk-container-id-2 div.sk-text-repr-fallback {display: none;}</style><div id=\"sk-container-id-2\" class=\"sk-top-container\"><div class=\"sk-text-repr-fallback\"><pre>DecisionTreeClassifier()</pre><b>In a Jupyter environment, please rerun this cell to show the HTML representation or trust the notebook. <br />On GitHub, the HTML representation is unable to render, please try loading this page with nbviewer.org.</b></div><div class=\"sk-container\" hidden><div class=\"sk-item\"><div class=\"sk-estimator sk-toggleable\"><input class=\"sk-toggleable__control sk-hidden--visually\" id=\"sk-estimator-id-2\" type=\"checkbox\" checked><label for=\"sk-estimator-id-2\" class=\"sk-toggleable__label sk-toggleable__label-arrow\">DecisionTreeClassifier</label><div class=\"sk-toggleable__content\"><pre>DecisionTreeClassifier()</pre></div></div></div></div></div>"
     },
     "execution_count": 26,
     "metadata": {},
     "output_type": "execute_result"
    }
   ],
   "source": [
    "# Entrenar el modelo\n",
    "\n",
    "X = pokemon_data.drop(['Name', 'Legendary'], axis=1) # Tomamos todas las columnas menos Name y Legendary porque son las que queremos predecir\n",
    "y = pokemon_data['Legendary'] # Tomamos la columna Legendary porque es la que queremos predecir\n",
    "model = DecisionTreeClassifier()\n",
    "model.fit(X, y)"
   ],
   "metadata": {
    "collapsed": false,
    "ExecuteTime": {
     "start_time": "2023-04-22T23:49:25.719245Z",
     "end_time": "2023-04-22T23:49:25.790930Z"
    }
   }
  },
  {
   "cell_type": "code",
   "execution_count": 50,
   "outputs": [],
   "source": [
    "# Creamos una función para predecir el ganador de una batalla\n",
    "\n",
    "def predict_battle(pokemon1, pokemon2):\n",
    "    stats1 = pokemon_data[pokemon_data['Name'] == pokemon1][['HP', 'Attack', 'Defense', 'Sp. Atk', 'Sp. Def', 'Speed']].values[0]\n",
    "    stats2 = pokemon_data[pokemon_data['Name'] == pokemon2][['HP', 'Attack', 'Defense', 'Sp. Atk', 'Sp. Def', 'Speed']].values[0]\n",
    "\n",
    "    if stats1.sum() > stats2.sum():\n",
    "        return pokemon1\n",
    "    else:\n",
    "        return pokemon2\n"
   ],
   "metadata": {
    "collapsed": false,
    "ExecuteTime": {
     "start_time": "2023-04-23T00:06:26.714270Z",
     "end_time": "2023-04-23T00:06:26.725814Z"
    }
   }
  },
  {
   "cell_type": "code",
   "execution_count": 58,
   "outputs": [],
   "source": [
    "import plotly.graph_objs as go\n",
    "import plotly.express as px\n",
    "import pandas as pd\n",
    "\n",
    "pokemon1 = input('Introduce el nombre del primer Pokémon: ')\n",
    "pokemon2 = input('Introduce el nombre del segundo Pokémon: ')\n",
    "\n",
    "\n",
    "def plot_stats(pokemon1, pokemon2):\n",
    "\n",
    "    print(f'Comienza la batalla entre {pokemon1} y {pokemon2}!')\n",
    "\n",
    "    winner = predict_battle(pokemon1, pokemon2)\n",
    "\n",
    "    stats1 = pokemon_data.loc[pokemon_data['Name'] == pokemon1, ['HP', 'Attack', 'Defense', 'Sp. Atk', 'Sp. Def', 'Speed']].values[0]\n",
    "    stats2 = pokemon_data.loc[pokemon_data['Name'] == pokemon2, ['HP', 'Attack', 'Defense', 'Sp. Atk', 'Sp. Def', 'Speed']].values[0]\n",
    "\n",
    "    data = pd.DataFrame({'Estadísticas': ['HP', 'Ataque', 'Defensa', 'Atq. Esp.', 'Def. Esp.', 'Velocidad'],\n",
    "                         pokemon1: stats1,\n",
    "                         pokemon2: stats2})\n",
    "\n",
    "    fig = go.Figure()\n",
    "\n",
    "    fig.add_trace(go.Bar(x=data['Estadísticas'],\n",
    "                         y=data[pokemon1],\n",
    "                         name=pokemon1,\n",
    "                         text=data[pokemon1],\n",
    "                         textposition='auto',\n",
    "                         marker_color='rgba(75, 192, 192, 0.8)',\n",
    "                         opacity=0.8))\n",
    "\n",
    "    fig.add_trace(go.Bar(x=data['Estadísticas'],\n",
    "                         y=data[pokemon2],\n",
    "                         name=pokemon2,\n",
    "                         text=data[pokemon2],\n",
    "                         textposition='auto',\n",
    "                         marker_color='rgba(255, 99, 71, 0.8)',\n",
    "                         opacity=0.8))\n",
    "\n",
    "    fig.update_layout(title=f'Comparación de estadísticas: {pokemon1} vs {pokemon2}',\n",
    "                      xaxis_title='Estadísticas',\n",
    "                      yaxis_title='Valor',\n",
    "                      barmode='group',\n",
    "                      bargap=0.2,\n",
    "                      bargroupgap=0.1,\n",
    "                      legend=dict(orientation='h', yanchor='bottom', y=1.02, xanchor='right', x=1),\n",
    "                      plot_bgcolor='rgba(54, 57, 63, 1)',\n",
    "                      paper_bgcolor='rgba(47, 49, 54, 1)',\n",
    "                      font=dict(color='white'),\n",
    "                      hovermode='x unified')\n",
    "\n",
    "    # Animación\n",
    "    animation_settings = dict(frame=dict(duration=50, redraw=True), fromcurrent=True)\n",
    "    fig.update_layout(updatemenus=[dict(type='buttons', showactive=False, buttons=[dict(label='Inicia la batalla', method='animate', args=[None, animation_settings])])])\n",
    "\n",
    "\n",
    "    # Definir frames de animación\n",
    "    frames = []\n",
    "    for t in range(101):\n",
    "        ratio = t / 100\n",
    "        frame_data = data.copy()\n",
    "        frame_data[pokemon1] = data[pokemon1] * ratio\n",
    "        frame_data[pokemon2] = data[pokemon2] * ratio\n",
    "        frame_data_melted = frame_data.melt(id_vars='Estadísticas', var_name='Pokémon', value_name='Valor')\n",
    "        frame_trace1 = go.Bar(x=frame_data['Estadísticas'], y=frame_data[pokemon1], name=pokemon1, text=frame_data[pokemon1], textposition='auto', marker_color='rgba(75, 192, 192, 0.8)', opacity=0.8)\n",
    "        frame_trace2 = go.Bar(x=frame_data['Estadísticas'], y=frame_data[pokemon2], name=pokemon2, text=frame_data[pokemon2], textposition='auto', marker_color='rgba(255, 99, 71, 0.8)', opacity=0.8)\n",
    "        frames.append(go.Frame(data=[frame_trace1, frame_trace2]))\n",
    "\n",
    "    fig.frames = frames\n",
    "\n",
    "    fig.show()\n",
    "    print(f'{winner} gana la batalla!')\n"
   ],
   "metadata": {
    "collapsed": false,
    "ExecuteTime": {
     "start_time": "2023-04-23T00:10:36.674741Z",
     "end_time": "2023-04-23T00:10:47.448515Z"
    }
   }
  },
  {
   "cell_type": "code",
   "execution_count": 59,
   "outputs": [
    {
     "name": "stdout",
     "output_type": "stream",
     "text": [
      "Comienza la batalla entre Charizard y Blastoise!\n"
     ]
    },
    {
     "data": {
      "application/vnd.plotly.v1+json": {
       "data": [
        {
         "marker": {
          "color": "rgba(75, 192, 192, 0.8)"
         },
         "name": "Charizard",
         "opacity": 0.8,
         "text": [
          78.0,
          84.0,
          78.0,
          109.0,
          85.0,
          100.0
         ],
         "textposition": "auto",
         "x": [
          "HP",
          "Ataque",
          "Defensa",
          "Atq. Esp.",
          "Def. Esp.",
          "Velocidad"
         ],
         "y": [
          78,
          84,
          78,
          109,
          85,
          100
         ],
         "type": "bar"
        },
        {
         "marker": {
          "color": "rgba(255, 99, 71, 0.8)"
         },
         "name": "Blastoise",
         "opacity": 0.8,
         "text": [
          79.0,
          83.0,
          100.0,
          85.0,
          105.0,
          78.0
         ],
         "textposition": "auto",
         "x": [
          "HP",
          "Ataque",
          "Defensa",
          "Atq. Esp.",
          "Def. Esp.",
          "Velocidad"
         ],
         "y": [
          79,
          83,
          100,
          85,
          105,
          78
         ],
         "type": "bar"
        }
       ],
       "layout": {
        "template": {
         "data": {
          "histogram2dcontour": [
           {
            "type": "histogram2dcontour",
            "colorbar": {
             "outlinewidth": 0,
             "ticks": ""
            },
            "colorscale": [
             [
              0.0,
              "#0d0887"
             ],
             [
              0.1111111111111111,
              "#46039f"
             ],
             [
              0.2222222222222222,
              "#7201a8"
             ],
             [
              0.3333333333333333,
              "#9c179e"
             ],
             [
              0.4444444444444444,
              "#bd3786"
             ],
             [
              0.5555555555555556,
              "#d8576b"
             ],
             [
              0.6666666666666666,
              "#ed7953"
             ],
             [
              0.7777777777777778,
              "#fb9f3a"
             ],
             [
              0.8888888888888888,
              "#fdca26"
             ],
             [
              1.0,
              "#f0f921"
             ]
            ]
           }
          ],
          "choropleth": [
           {
            "type": "choropleth",
            "colorbar": {
             "outlinewidth": 0,
             "ticks": ""
            }
           }
          ],
          "histogram2d": [
           {
            "type": "histogram2d",
            "colorbar": {
             "outlinewidth": 0,
             "ticks": ""
            },
            "colorscale": [
             [
              0.0,
              "#0d0887"
             ],
             [
              0.1111111111111111,
              "#46039f"
             ],
             [
              0.2222222222222222,
              "#7201a8"
             ],
             [
              0.3333333333333333,
              "#9c179e"
             ],
             [
              0.4444444444444444,
              "#bd3786"
             ],
             [
              0.5555555555555556,
              "#d8576b"
             ],
             [
              0.6666666666666666,
              "#ed7953"
             ],
             [
              0.7777777777777778,
              "#fb9f3a"
             ],
             [
              0.8888888888888888,
              "#fdca26"
             ],
             [
              1.0,
              "#f0f921"
             ]
            ]
           }
          ],
          "heatmap": [
           {
            "type": "heatmap",
            "colorbar": {
             "outlinewidth": 0,
             "ticks": ""
            },
            "colorscale": [
             [
              0.0,
              "#0d0887"
             ],
             [
              0.1111111111111111,
              "#46039f"
             ],
             [
              0.2222222222222222,
              "#7201a8"
             ],
             [
              0.3333333333333333,
              "#9c179e"
             ],
             [
              0.4444444444444444,
              "#bd3786"
             ],
             [
              0.5555555555555556,
              "#d8576b"
             ],
             [
              0.6666666666666666,
              "#ed7953"
             ],
             [
              0.7777777777777778,
              "#fb9f3a"
             ],
             [
              0.8888888888888888,
              "#fdca26"
             ],
             [
              1.0,
              "#f0f921"
             ]
            ]
           }
          ],
          "heatmapgl": [
           {
            "type": "heatmapgl",
            "colorbar": {
             "outlinewidth": 0,
             "ticks": ""
            },
            "colorscale": [
             [
              0.0,
              "#0d0887"
             ],
             [
              0.1111111111111111,
              "#46039f"
             ],
             [
              0.2222222222222222,
              "#7201a8"
             ],
             [
              0.3333333333333333,
              "#9c179e"
             ],
             [
              0.4444444444444444,
              "#bd3786"
             ],
             [
              0.5555555555555556,
              "#d8576b"
             ],
             [
              0.6666666666666666,
              "#ed7953"
             ],
             [
              0.7777777777777778,
              "#fb9f3a"
             ],
             [
              0.8888888888888888,
              "#fdca26"
             ],
             [
              1.0,
              "#f0f921"
             ]
            ]
           }
          ],
          "contourcarpet": [
           {
            "type": "contourcarpet",
            "colorbar": {
             "outlinewidth": 0,
             "ticks": ""
            }
           }
          ],
          "contour": [
           {
            "type": "contour",
            "colorbar": {
             "outlinewidth": 0,
             "ticks": ""
            },
            "colorscale": [
             [
              0.0,
              "#0d0887"
             ],
             [
              0.1111111111111111,
              "#46039f"
             ],
             [
              0.2222222222222222,
              "#7201a8"
             ],
             [
              0.3333333333333333,
              "#9c179e"
             ],
             [
              0.4444444444444444,
              "#bd3786"
             ],
             [
              0.5555555555555556,
              "#d8576b"
             ],
             [
              0.6666666666666666,
              "#ed7953"
             ],
             [
              0.7777777777777778,
              "#fb9f3a"
             ],
             [
              0.8888888888888888,
              "#fdca26"
             ],
             [
              1.0,
              "#f0f921"
             ]
            ]
           }
          ],
          "surface": [
           {
            "type": "surface",
            "colorbar": {
             "outlinewidth": 0,
             "ticks": ""
            },
            "colorscale": [
             [
              0.0,
              "#0d0887"
             ],
             [
              0.1111111111111111,
              "#46039f"
             ],
             [
              0.2222222222222222,
              "#7201a8"
             ],
             [
              0.3333333333333333,
              "#9c179e"
             ],
             [
              0.4444444444444444,
              "#bd3786"
             ],
             [
              0.5555555555555556,
              "#d8576b"
             ],
             [
              0.6666666666666666,
              "#ed7953"
             ],
             [
              0.7777777777777778,
              "#fb9f3a"
             ],
             [
              0.8888888888888888,
              "#fdca26"
             ],
             [
              1.0,
              "#f0f921"
             ]
            ]
           }
          ],
          "mesh3d": [
           {
            "type": "mesh3d",
            "colorbar": {
             "outlinewidth": 0,
             "ticks": ""
            }
           }
          ],
          "scatter": [
           {
            "marker": {
             "line": {
              "color": "#283442"
             }
            },
            "type": "scatter"
           }
          ],
          "parcoords": [
           {
            "type": "parcoords",
            "line": {
             "colorbar": {
              "outlinewidth": 0,
              "ticks": ""
             }
            }
           }
          ],
          "scatterpolargl": [
           {
            "type": "scatterpolargl",
            "marker": {
             "colorbar": {
              "outlinewidth": 0,
              "ticks": ""
             }
            }
           }
          ],
          "bar": [
           {
            "error_x": {
             "color": "#f2f5fa"
            },
            "error_y": {
             "color": "#f2f5fa"
            },
            "marker": {
             "line": {
              "color": "rgb(17,17,17)",
              "width": 0.5
             },
             "pattern": {
              "fillmode": "overlay",
              "size": 10,
              "solidity": 0.2
             }
            },
            "type": "bar"
           }
          ],
          "scattergeo": [
           {
            "type": "scattergeo",
            "marker": {
             "colorbar": {
              "outlinewidth": 0,
              "ticks": ""
             }
            }
           }
          ],
          "scatterpolar": [
           {
            "type": "scatterpolar",
            "marker": {
             "colorbar": {
              "outlinewidth": 0,
              "ticks": ""
             }
            }
           }
          ],
          "histogram": [
           {
            "marker": {
             "pattern": {
              "fillmode": "overlay",
              "size": 10,
              "solidity": 0.2
             }
            },
            "type": "histogram"
           }
          ],
          "scattergl": [
           {
            "marker": {
             "line": {
              "color": "#283442"
             }
            },
            "type": "scattergl"
           }
          ],
          "scatter3d": [
           {
            "type": "scatter3d",
            "line": {
             "colorbar": {
              "outlinewidth": 0,
              "ticks": ""
             }
            },
            "marker": {
             "colorbar": {
              "outlinewidth": 0,
              "ticks": ""
             }
            }
           }
          ],
          "scattermapbox": [
           {
            "type": "scattermapbox",
            "marker": {
             "colorbar": {
              "outlinewidth": 0,
              "ticks": ""
             }
            }
           }
          ],
          "scatterternary": [
           {
            "type": "scatterternary",
            "marker": {
             "colorbar": {
              "outlinewidth": 0,
              "ticks": ""
             }
            }
           }
          ],
          "scattercarpet": [
           {
            "type": "scattercarpet",
            "marker": {
             "colorbar": {
              "outlinewidth": 0,
              "ticks": ""
             }
            }
           }
          ],
          "carpet": [
           {
            "aaxis": {
             "endlinecolor": "#A2B1C6",
             "gridcolor": "#506784",
             "linecolor": "#506784",
             "minorgridcolor": "#506784",
             "startlinecolor": "#A2B1C6"
            },
            "baxis": {
             "endlinecolor": "#A2B1C6",
             "gridcolor": "#506784",
             "linecolor": "#506784",
             "minorgridcolor": "#506784",
             "startlinecolor": "#A2B1C6"
            },
            "type": "carpet"
           }
          ],
          "table": [
           {
            "cells": {
             "fill": {
              "color": "#506784"
             },
             "line": {
              "color": "rgb(17,17,17)"
             }
            },
            "header": {
             "fill": {
              "color": "#2a3f5f"
             },
             "line": {
              "color": "rgb(17,17,17)"
             }
            },
            "type": "table"
           }
          ],
          "barpolar": [
           {
            "marker": {
             "line": {
              "color": "rgb(17,17,17)",
              "width": 0.5
             },
             "pattern": {
              "fillmode": "overlay",
              "size": 10,
              "solidity": 0.2
             }
            },
            "type": "barpolar"
           }
          ],
          "pie": [
           {
            "automargin": true,
            "type": "pie"
           }
          ]
         },
         "layout": {
          "autotypenumbers": "strict",
          "colorway": [
           "#636efa",
           "#EF553B",
           "#00cc96",
           "#ab63fa",
           "#FFA15A",
           "#19d3f3",
           "#FF6692",
           "#B6E880",
           "#FF97FF",
           "#FECB52"
          ],
          "font": {
           "color": "#f2f5fa"
          },
          "hovermode": "closest",
          "hoverlabel": {
           "align": "left"
          },
          "paper_bgcolor": "rgb(17,17,17)",
          "plot_bgcolor": "rgb(17,17,17)",
          "polar": {
           "bgcolor": "rgb(17,17,17)",
           "angularaxis": {
            "gridcolor": "#506784",
            "linecolor": "#506784",
            "ticks": ""
           },
           "radialaxis": {
            "gridcolor": "#506784",
            "linecolor": "#506784",
            "ticks": ""
           }
          },
          "ternary": {
           "bgcolor": "rgb(17,17,17)",
           "aaxis": {
            "gridcolor": "#506784",
            "linecolor": "#506784",
            "ticks": ""
           },
           "baxis": {
            "gridcolor": "#506784",
            "linecolor": "#506784",
            "ticks": ""
           },
           "caxis": {
            "gridcolor": "#506784",
            "linecolor": "#506784",
            "ticks": ""
           }
          },
          "coloraxis": {
           "colorbar": {
            "outlinewidth": 0,
            "ticks": ""
           }
          },
          "colorscale": {
           "sequential": [
            [
             0.0,
             "#0d0887"
            ],
            [
             0.1111111111111111,
             "#46039f"
            ],
            [
             0.2222222222222222,
             "#7201a8"
            ],
            [
             0.3333333333333333,
             "#9c179e"
            ],
            [
             0.4444444444444444,
             "#bd3786"
            ],
            [
             0.5555555555555556,
             "#d8576b"
            ],
            [
             0.6666666666666666,
             "#ed7953"
            ],
            [
             0.7777777777777778,
             "#fb9f3a"
            ],
            [
             0.8888888888888888,
             "#fdca26"
            ],
            [
             1.0,
             "#f0f921"
            ]
           ],
           "sequentialminus": [
            [
             0.0,
             "#0d0887"
            ],
            [
             0.1111111111111111,
             "#46039f"
            ],
            [
             0.2222222222222222,
             "#7201a8"
            ],
            [
             0.3333333333333333,
             "#9c179e"
            ],
            [
             0.4444444444444444,
             "#bd3786"
            ],
            [
             0.5555555555555556,
             "#d8576b"
            ],
            [
             0.6666666666666666,
             "#ed7953"
            ],
            [
             0.7777777777777778,
             "#fb9f3a"
            ],
            [
             0.8888888888888888,
             "#fdca26"
            ],
            [
             1.0,
             "#f0f921"
            ]
           ],
           "diverging": [
            [
             0,
             "#8e0152"
            ],
            [
             0.1,
             "#c51b7d"
            ],
            [
             0.2,
             "#de77ae"
            ],
            [
             0.3,
             "#f1b6da"
            ],
            [
             0.4,
             "#fde0ef"
            ],
            [
             0.5,
             "#f7f7f7"
            ],
            [
             0.6,
             "#e6f5d0"
            ],
            [
             0.7,
             "#b8e186"
            ],
            [
             0.8,
             "#7fbc41"
            ],
            [
             0.9,
             "#4d9221"
            ],
            [
             1,
             "#276419"
            ]
           ]
          },
          "xaxis": {
           "gridcolor": "#283442",
           "linecolor": "#506784",
           "ticks": "",
           "title": {
            "standoff": 15
           },
           "zerolinecolor": "#283442",
           "automargin": true,
           "zerolinewidth": 2
          },
          "yaxis": {
           "gridcolor": "#283442",
           "linecolor": "#506784",
           "ticks": "",
           "title": {
            "standoff": 15
           },
           "zerolinecolor": "#283442",
           "automargin": true,
           "zerolinewidth": 2
          },
          "scene": {
           "xaxis": {
            "backgroundcolor": "rgb(17,17,17)",
            "gridcolor": "#506784",
            "linecolor": "#506784",
            "showbackground": true,
            "ticks": "",
            "zerolinecolor": "#C8D4E3",
            "gridwidth": 2
           },
           "yaxis": {
            "backgroundcolor": "rgb(17,17,17)",
            "gridcolor": "#506784",
            "linecolor": "#506784",
            "showbackground": true,
            "ticks": "",
            "zerolinecolor": "#C8D4E3",
            "gridwidth": 2
           },
           "zaxis": {
            "backgroundcolor": "rgb(17,17,17)",
            "gridcolor": "#506784",
            "linecolor": "#506784",
            "showbackground": true,
            "ticks": "",
            "zerolinecolor": "#C8D4E3",
            "gridwidth": 2
           }
          },
          "shapedefaults": {
           "line": {
            "color": "#f2f5fa"
           }
          },
          "annotationdefaults": {
           "arrowcolor": "#f2f5fa",
           "arrowhead": 0,
           "arrowwidth": 1
          },
          "geo": {
           "bgcolor": "rgb(17,17,17)",
           "landcolor": "rgb(17,17,17)",
           "subunitcolor": "#506784",
           "showland": true,
           "showlakes": true,
           "lakecolor": "rgb(17,17,17)"
          },
          "title": {
           "x": 0.05
          },
          "updatemenudefaults": {
           "bgcolor": "#506784",
           "borderwidth": 0
          },
          "sliderdefaults": {
           "bgcolor": "#C8D4E3",
           "borderwidth": 1,
           "bordercolor": "rgb(17,17,17)",
           "tickwidth": 0
          },
          "mapbox": {
           "style": "dark"
          }
         }
        },
        "legend": {
         "orientation": "h",
         "yanchor": "bottom",
         "y": 1.02,
         "xanchor": "right",
         "x": 1
        },
        "font": {
         "color": "white"
        },
        "title": {
         "text": "Comparación de estadísticas: Charizard vs Blastoise"
        },
        "xaxis": {
         "title": {
          "text": "Estadísticas"
         }
        },
        "yaxis": {
         "title": {
          "text": "Valor"
         }
        },
        "barmode": "group",
        "bargap": 0.2,
        "bargroupgap": 0.1,
        "plot_bgcolor": "rgba(54, 57, 63, 1)",
        "paper_bgcolor": "rgba(47, 49, 54, 1)",
        "hovermode": "x unified",
        "updatemenus": [
         {
          "buttons": [
           {
            "args": [
             null,
             {
              "frame": {
               "duration": 50,
               "redraw": true
              },
              "fromcurrent": true
             }
            ],
            "label": "Inicia la batalla",
            "method": "animate"
           }
          ],
          "showactive": false,
          "type": "buttons"
         }
        ]
       },
       "frames": [
        {
         "data": [
          {
           "marker": {
            "color": "rgba(75, 192, 192, 0.8)"
           },
           "name": "Charizard",
           "opacity": 0.8,
           "text": [
            0.0,
            0.0,
            0.0,
            0.0,
            0.0,
            0.0
           ],
           "textposition": "auto",
           "x": [
            "HP",
            "Ataque",
            "Defensa",
            "Atq. Esp.",
            "Def. Esp.",
            "Velocidad"
           ],
           "y": [
            0.0,
            0.0,
            0.0,
            0.0,
            0.0,
            0.0
           ],
           "type": "bar"
          },
          {
           "marker": {
            "color": "rgba(255, 99, 71, 0.8)"
           },
           "name": "Blastoise",
           "opacity": 0.8,
           "text": [
            0.0,
            0.0,
            0.0,
            0.0,
            0.0,
            0.0
           ],
           "textposition": "auto",
           "x": [
            "HP",
            "Ataque",
            "Defensa",
            "Atq. Esp.",
            "Def. Esp.",
            "Velocidad"
           ],
           "y": [
            0.0,
            0.0,
            0.0,
            0.0,
            0.0,
            0.0
           ],
           "type": "bar"
          }
         ]
        },
        {
         "data": [
          {
           "marker": {
            "color": "rgba(75, 192, 192, 0.8)"
           },
           "name": "Charizard",
           "opacity": 0.8,
           "text": [
            0.78,
            0.84,
            0.78,
            1.09,
            0.85,
            1.0
           ],
           "textposition": "auto",
           "x": [
            "HP",
            "Ataque",
            "Defensa",
            "Atq. Esp.",
            "Def. Esp.",
            "Velocidad"
           ],
           "y": [
            0.78,
            0.84,
            0.78,
            1.09,
            0.85,
            1.0
           ],
           "type": "bar"
          },
          {
           "marker": {
            "color": "rgba(255, 99, 71, 0.8)"
           },
           "name": "Blastoise",
           "opacity": 0.8,
           "text": [
            0.79,
            0.8300000000000001,
            1.0,
            0.85,
            1.05,
            0.78
           ],
           "textposition": "auto",
           "x": [
            "HP",
            "Ataque",
            "Defensa",
            "Atq. Esp.",
            "Def. Esp.",
            "Velocidad"
           ],
           "y": [
            0.79,
            0.8300000000000001,
            1.0,
            0.85,
            1.05,
            0.78
           ],
           "type": "bar"
          }
         ]
        },
        {
         "data": [
          {
           "marker": {
            "color": "rgba(75, 192, 192, 0.8)"
           },
           "name": "Charizard",
           "opacity": 0.8,
           "text": [
            1.56,
            1.68,
            1.56,
            2.18,
            1.7,
            2.0
           ],
           "textposition": "auto",
           "x": [
            "HP",
            "Ataque",
            "Defensa",
            "Atq. Esp.",
            "Def. Esp.",
            "Velocidad"
           ],
           "y": [
            1.56,
            1.68,
            1.56,
            2.18,
            1.7,
            2.0
           ],
           "type": "bar"
          },
          {
           "marker": {
            "color": "rgba(255, 99, 71, 0.8)"
           },
           "name": "Blastoise",
           "opacity": 0.8,
           "text": [
            1.58,
            1.6600000000000001,
            2.0,
            1.7,
            2.1,
            1.56
           ],
           "textposition": "auto",
           "x": [
            "HP",
            "Ataque",
            "Defensa",
            "Atq. Esp.",
            "Def. Esp.",
            "Velocidad"
           ],
           "y": [
            1.58,
            1.6600000000000001,
            2.0,
            1.7,
            2.1,
            1.56
           ],
           "type": "bar"
          }
         ]
        },
        {
         "data": [
          {
           "marker": {
            "color": "rgba(75, 192, 192, 0.8)"
           },
           "name": "Charizard",
           "opacity": 0.8,
           "text": [
            2.34,
            2.52,
            2.34,
            3.27,
            2.55,
            3.0
           ],
           "textposition": "auto",
           "x": [
            "HP",
            "Ataque",
            "Defensa",
            "Atq. Esp.",
            "Def. Esp.",
            "Velocidad"
           ],
           "y": [
            2.34,
            2.52,
            2.34,
            3.27,
            2.55,
            3.0
           ],
           "type": "bar"
          },
          {
           "marker": {
            "color": "rgba(255, 99, 71, 0.8)"
           },
           "name": "Blastoise",
           "opacity": 0.8,
           "text": [
            2.37,
            2.4899999999999998,
            3.0,
            2.55,
            3.15,
            2.34
           ],
           "textposition": "auto",
           "x": [
            "HP",
            "Ataque",
            "Defensa",
            "Atq. Esp.",
            "Def. Esp.",
            "Velocidad"
           ],
           "y": [
            2.37,
            2.4899999999999998,
            3.0,
            2.55,
            3.15,
            2.34
           ],
           "type": "bar"
          }
         ]
        },
        {
         "data": [
          {
           "marker": {
            "color": "rgba(75, 192, 192, 0.8)"
           },
           "name": "Charizard",
           "opacity": 0.8,
           "text": [
            3.12,
            3.36,
            3.12,
            4.36,
            3.4,
            4.0
           ],
           "textposition": "auto",
           "x": [
            "HP",
            "Ataque",
            "Defensa",
            "Atq. Esp.",
            "Def. Esp.",
            "Velocidad"
           ],
           "y": [
            3.12,
            3.36,
            3.12,
            4.36,
            3.4,
            4.0
           ],
           "type": "bar"
          },
          {
           "marker": {
            "color": "rgba(255, 99, 71, 0.8)"
           },
           "name": "Blastoise",
           "opacity": 0.8,
           "text": [
            3.16,
            3.3200000000000003,
            4.0,
            3.4,
            4.2,
            3.12
           ],
           "textposition": "auto",
           "x": [
            "HP",
            "Ataque",
            "Defensa",
            "Atq. Esp.",
            "Def. Esp.",
            "Velocidad"
           ],
           "y": [
            3.16,
            3.3200000000000003,
            4.0,
            3.4,
            4.2,
            3.12
           ],
           "type": "bar"
          }
         ]
        },
        {
         "data": [
          {
           "marker": {
            "color": "rgba(75, 192, 192, 0.8)"
           },
           "name": "Charizard",
           "opacity": 0.8,
           "text": [
            3.9000000000000004,
            4.2,
            3.9000000000000004,
            5.45,
            4.25,
            5.0
           ],
           "textposition": "auto",
           "x": [
            "HP",
            "Ataque",
            "Defensa",
            "Atq. Esp.",
            "Def. Esp.",
            "Velocidad"
           ],
           "y": [
            3.9000000000000004,
            4.2,
            3.9000000000000004,
            5.45,
            4.25,
            5.0
           ],
           "type": "bar"
          },
          {
           "marker": {
            "color": "rgba(255, 99, 71, 0.8)"
           },
           "name": "Blastoise",
           "opacity": 0.8,
           "text": [
            3.95,
            4.15,
            5.0,
            4.25,
            5.25,
            3.9000000000000004
           ],
           "textposition": "auto",
           "x": [
            "HP",
            "Ataque",
            "Defensa",
            "Atq. Esp.",
            "Def. Esp.",
            "Velocidad"
           ],
           "y": [
            3.95,
            4.15,
            5.0,
            4.25,
            5.25,
            3.9000000000000004
           ],
           "type": "bar"
          }
         ]
        },
        {
         "data": [
          {
           "marker": {
            "color": "rgba(75, 192, 192, 0.8)"
           },
           "name": "Charizard",
           "opacity": 0.8,
           "text": [
            4.68,
            5.04,
            4.68,
            6.54,
            5.1,
            6.0
           ],
           "textposition": "auto",
           "x": [
            "HP",
            "Ataque",
            "Defensa",
            "Atq. Esp.",
            "Def. Esp.",
            "Velocidad"
           ],
           "y": [
            4.68,
            5.04,
            4.68,
            6.54,
            5.1,
            6.0
           ],
           "type": "bar"
          },
          {
           "marker": {
            "color": "rgba(255, 99, 71, 0.8)"
           },
           "name": "Blastoise",
           "opacity": 0.8,
           "text": [
            4.74,
            4.9799999999999995,
            6.0,
            5.1,
            6.3,
            4.68
           ],
           "textposition": "auto",
           "x": [
            "HP",
            "Ataque",
            "Defensa",
            "Atq. Esp.",
            "Def. Esp.",
            "Velocidad"
           ],
           "y": [
            4.74,
            4.9799999999999995,
            6.0,
            5.1,
            6.3,
            4.68
           ],
           "type": "bar"
          }
         ]
        },
        {
         "data": [
          {
           "marker": {
            "color": "rgba(75, 192, 192, 0.8)"
           },
           "name": "Charizard",
           "opacity": 0.8,
           "text": [
            5.460000000000001,
            5.880000000000001,
            5.460000000000001,
            7.630000000000001,
            5.95,
            7.000000000000001
           ],
           "textposition": "auto",
           "x": [
            "HP",
            "Ataque",
            "Defensa",
            "Atq. Esp.",
            "Def. Esp.",
            "Velocidad"
           ],
           "y": [
            5.460000000000001,
            5.880000000000001,
            5.460000000000001,
            7.630000000000001,
            5.95,
            7.000000000000001
           ],
           "type": "bar"
          },
          {
           "marker": {
            "color": "rgba(255, 99, 71, 0.8)"
           },
           "name": "Blastoise",
           "opacity": 0.8,
           "text": [
            5.53,
            5.8100000000000005,
            7.000000000000001,
            5.95,
            7.3500000000000005,
            5.460000000000001
           ],
           "textposition": "auto",
           "x": [
            "HP",
            "Ataque",
            "Defensa",
            "Atq. Esp.",
            "Def. Esp.",
            "Velocidad"
           ],
           "y": [
            5.53,
            5.8100000000000005,
            7.000000000000001,
            5.95,
            7.3500000000000005,
            5.460000000000001
           ],
           "type": "bar"
          }
         ]
        },
        {
         "data": [
          {
           "marker": {
            "color": "rgba(75, 192, 192, 0.8)"
           },
           "name": "Charizard",
           "opacity": 0.8,
           "text": [
            6.24,
            6.72,
            6.24,
            8.72,
            6.8,
            8.0
           ],
           "textposition": "auto",
           "x": [
            "HP",
            "Ataque",
            "Defensa",
            "Atq. Esp.",
            "Def. Esp.",
            "Velocidad"
           ],
           "y": [
            6.24,
            6.72,
            6.24,
            8.72,
            6.8,
            8.0
           ],
           "type": "bar"
          },
          {
           "marker": {
            "color": "rgba(255, 99, 71, 0.8)"
           },
           "name": "Blastoise",
           "opacity": 0.8,
           "text": [
            6.32,
            6.640000000000001,
            8.0,
            6.8,
            8.4,
            6.24
           ],
           "textposition": "auto",
           "x": [
            "HP",
            "Ataque",
            "Defensa",
            "Atq. Esp.",
            "Def. Esp.",
            "Velocidad"
           ],
           "y": [
            6.32,
            6.640000000000001,
            8.0,
            6.8,
            8.4,
            6.24
           ],
           "type": "bar"
          }
         ]
        },
        {
         "data": [
          {
           "marker": {
            "color": "rgba(75, 192, 192, 0.8)"
           },
           "name": "Charizard",
           "opacity": 0.8,
           "text": [
            7.02,
            7.56,
            7.02,
            9.81,
            7.6499999999999995,
            9.0
           ],
           "textposition": "auto",
           "x": [
            "HP",
            "Ataque",
            "Defensa",
            "Atq. Esp.",
            "Def. Esp.",
            "Velocidad"
           ],
           "y": [
            7.02,
            7.56,
            7.02,
            9.81,
            7.6499999999999995,
            9.0
           ],
           "type": "bar"
          },
          {
           "marker": {
            "color": "rgba(255, 99, 71, 0.8)"
           },
           "name": "Blastoise",
           "opacity": 0.8,
           "text": [
            7.109999999999999,
            7.47,
            9.0,
            7.6499999999999995,
            9.45,
            7.02
           ],
           "textposition": "auto",
           "x": [
            "HP",
            "Ataque",
            "Defensa",
            "Atq. Esp.",
            "Def. Esp.",
            "Velocidad"
           ],
           "y": [
            7.109999999999999,
            7.47,
            9.0,
            7.6499999999999995,
            9.45,
            7.02
           ],
           "type": "bar"
          }
         ]
        },
        {
         "data": [
          {
           "marker": {
            "color": "rgba(75, 192, 192, 0.8)"
           },
           "name": "Charizard",
           "opacity": 0.8,
           "text": [
            7.800000000000001,
            8.4,
            7.800000000000001,
            10.9,
            8.5,
            10.0
           ],
           "textposition": "auto",
           "x": [
            "HP",
            "Ataque",
            "Defensa",
            "Atq. Esp.",
            "Def. Esp.",
            "Velocidad"
           ],
           "y": [
            7.800000000000001,
            8.4,
            7.800000000000001,
            10.9,
            8.5,
            10.0
           ],
           "type": "bar"
          },
          {
           "marker": {
            "color": "rgba(255, 99, 71, 0.8)"
           },
           "name": "Blastoise",
           "opacity": 0.8,
           "text": [
            7.9,
            8.3,
            10.0,
            8.5,
            10.5,
            7.800000000000001
           ],
           "textposition": "auto",
           "x": [
            "HP",
            "Ataque",
            "Defensa",
            "Atq. Esp.",
            "Def. Esp.",
            "Velocidad"
           ],
           "y": [
            7.9,
            8.3,
            10.0,
            8.5,
            10.5,
            7.800000000000001
           ],
           "type": "bar"
          }
         ]
        },
        {
         "data": [
          {
           "marker": {
            "color": "rgba(75, 192, 192, 0.8)"
           },
           "name": "Charizard",
           "opacity": 0.8,
           "text": [
            8.58,
            9.24,
            8.58,
            11.99,
            9.35,
            11.0
           ],
           "textposition": "auto",
           "x": [
            "HP",
            "Ataque",
            "Defensa",
            "Atq. Esp.",
            "Def. Esp.",
            "Velocidad"
           ],
           "y": [
            8.58,
            9.24,
            8.58,
            11.99,
            9.35,
            11.0
           ],
           "type": "bar"
          },
          {
           "marker": {
            "color": "rgba(255, 99, 71, 0.8)"
           },
           "name": "Blastoise",
           "opacity": 0.8,
           "text": [
            8.69,
            9.13,
            11.0,
            9.35,
            11.55,
            8.58
           ],
           "textposition": "auto",
           "x": [
            "HP",
            "Ataque",
            "Defensa",
            "Atq. Esp.",
            "Def. Esp.",
            "Velocidad"
           ],
           "y": [
            8.69,
            9.13,
            11.0,
            9.35,
            11.55,
            8.58
           ],
           "type": "bar"
          }
         ]
        },
        {
         "data": [
          {
           "marker": {
            "color": "rgba(75, 192, 192, 0.8)"
           },
           "name": "Charizard",
           "opacity": 0.8,
           "text": [
            9.36,
            10.08,
            9.36,
            13.08,
            10.2,
            12.0
           ],
           "textposition": "auto",
           "x": [
            "HP",
            "Ataque",
            "Defensa",
            "Atq. Esp.",
            "Def. Esp.",
            "Velocidad"
           ],
           "y": [
            9.36,
            10.08,
            9.36,
            13.08,
            10.2,
            12.0
           ],
           "type": "bar"
          },
          {
           "marker": {
            "color": "rgba(255, 99, 71, 0.8)"
           },
           "name": "Blastoise",
           "opacity": 0.8,
           "text": [
            9.48,
            9.959999999999999,
            12.0,
            10.2,
            12.6,
            9.36
           ],
           "textposition": "auto",
           "x": [
            "HP",
            "Ataque",
            "Defensa",
            "Atq. Esp.",
            "Def. Esp.",
            "Velocidad"
           ],
           "y": [
            9.48,
            9.959999999999999,
            12.0,
            10.2,
            12.6,
            9.36
           ],
           "type": "bar"
          }
         ]
        },
        {
         "data": [
          {
           "marker": {
            "color": "rgba(75, 192, 192, 0.8)"
           },
           "name": "Charizard",
           "opacity": 0.8,
           "text": [
            10.14,
            10.92,
            10.14,
            14.17,
            11.05,
            13.0
           ],
           "textposition": "auto",
           "x": [
            "HP",
            "Ataque",
            "Defensa",
            "Atq. Esp.",
            "Def. Esp.",
            "Velocidad"
           ],
           "y": [
            10.14,
            10.92,
            10.14,
            14.17,
            11.05,
            13.0
           ],
           "type": "bar"
          },
          {
           "marker": {
            "color": "rgba(255, 99, 71, 0.8)"
           },
           "name": "Blastoise",
           "opacity": 0.8,
           "text": [
            10.27,
            10.790000000000001,
            13.0,
            11.05,
            13.65,
            10.14
           ],
           "textposition": "auto",
           "x": [
            "HP",
            "Ataque",
            "Defensa",
            "Atq. Esp.",
            "Def. Esp.",
            "Velocidad"
           ],
           "y": [
            10.27,
            10.790000000000001,
            13.0,
            11.05,
            13.65,
            10.14
           ],
           "type": "bar"
          }
         ]
        },
        {
         "data": [
          {
           "marker": {
            "color": "rgba(75, 192, 192, 0.8)"
           },
           "name": "Charizard",
           "opacity": 0.8,
           "text": [
            10.920000000000002,
            11.760000000000002,
            10.920000000000002,
            15.260000000000002,
            11.9,
            14.000000000000002
           ],
           "textposition": "auto",
           "x": [
            "HP",
            "Ataque",
            "Defensa",
            "Atq. Esp.",
            "Def. Esp.",
            "Velocidad"
           ],
           "y": [
            10.920000000000002,
            11.760000000000002,
            10.920000000000002,
            15.260000000000002,
            11.9,
            14.000000000000002
           ],
           "type": "bar"
          },
          {
           "marker": {
            "color": "rgba(255, 99, 71, 0.8)"
           },
           "name": "Blastoise",
           "opacity": 0.8,
           "text": [
            11.06,
            11.620000000000001,
            14.000000000000002,
            11.9,
            14.700000000000001,
            10.920000000000002
           ],
           "textposition": "auto",
           "x": [
            "HP",
            "Ataque",
            "Defensa",
            "Atq. Esp.",
            "Def. Esp.",
            "Velocidad"
           ],
           "y": [
            11.06,
            11.620000000000001,
            14.000000000000002,
            11.9,
            14.700000000000001,
            10.920000000000002
           ],
           "type": "bar"
          }
         ]
        },
        {
         "data": [
          {
           "marker": {
            "color": "rgba(75, 192, 192, 0.8)"
           },
           "name": "Charizard",
           "opacity": 0.8,
           "text": [
            11.7,
            12.6,
            11.7,
            16.349999999999998,
            12.75,
            15.0
           ],
           "textposition": "auto",
           "x": [
            "HP",
            "Ataque",
            "Defensa",
            "Atq. Esp.",
            "Def. Esp.",
            "Velocidad"
           ],
           "y": [
            11.7,
            12.6,
            11.7,
            16.349999999999998,
            12.75,
            15.0
           ],
           "type": "bar"
          },
          {
           "marker": {
            "color": "rgba(255, 99, 71, 0.8)"
           },
           "name": "Blastoise",
           "opacity": 0.8,
           "text": [
            11.85,
            12.45,
            15.0,
            12.75,
            15.75,
            11.7
           ],
           "textposition": "auto",
           "x": [
            "HP",
            "Ataque",
            "Defensa",
            "Atq. Esp.",
            "Def. Esp.",
            "Velocidad"
           ],
           "y": [
            11.85,
            12.45,
            15.0,
            12.75,
            15.75,
            11.7
           ],
           "type": "bar"
          }
         ]
        },
        {
         "data": [
          {
           "marker": {
            "color": "rgba(75, 192, 192, 0.8)"
           },
           "name": "Charizard",
           "opacity": 0.8,
           "text": [
            12.48,
            13.44,
            12.48,
            17.44,
            13.6,
            16.0
           ],
           "textposition": "auto",
           "x": [
            "HP",
            "Ataque",
            "Defensa",
            "Atq. Esp.",
            "Def. Esp.",
            "Velocidad"
           ],
           "y": [
            12.48,
            13.44,
            12.48,
            17.44,
            13.6,
            16.0
           ],
           "type": "bar"
          },
          {
           "marker": {
            "color": "rgba(255, 99, 71, 0.8)"
           },
           "name": "Blastoise",
           "opacity": 0.8,
           "text": [
            12.64,
            13.280000000000001,
            16.0,
            13.6,
            16.8,
            12.48
           ],
           "textposition": "auto",
           "x": [
            "HP",
            "Ataque",
            "Defensa",
            "Atq. Esp.",
            "Def. Esp.",
            "Velocidad"
           ],
           "y": [
            12.64,
            13.280000000000001,
            16.0,
            13.6,
            16.8,
            12.48
           ],
           "type": "bar"
          }
         ]
        },
        {
         "data": [
          {
           "marker": {
            "color": "rgba(75, 192, 192, 0.8)"
           },
           "name": "Charizard",
           "opacity": 0.8,
           "text": [
            13.260000000000002,
            14.280000000000001,
            13.260000000000002,
            18.53,
            14.450000000000001,
            17.0
           ],
           "textposition": "auto",
           "x": [
            "HP",
            "Ataque",
            "Defensa",
            "Atq. Esp.",
            "Def. Esp.",
            "Velocidad"
           ],
           "y": [
            13.260000000000002,
            14.280000000000001,
            13.260000000000002,
            18.53,
            14.450000000000001,
            17.0
           ],
           "type": "bar"
          },
          {
           "marker": {
            "color": "rgba(255, 99, 71, 0.8)"
           },
           "name": "Blastoise",
           "opacity": 0.8,
           "text": [
            13.430000000000001,
            14.110000000000001,
            17.0,
            14.450000000000001,
            17.85,
            13.260000000000002
           ],
           "textposition": "auto",
           "x": [
            "HP",
            "Ataque",
            "Defensa",
            "Atq. Esp.",
            "Def. Esp.",
            "Velocidad"
           ],
           "y": [
            13.430000000000001,
            14.110000000000001,
            17.0,
            14.450000000000001,
            17.85,
            13.260000000000002
           ],
           "type": "bar"
          }
         ]
        },
        {
         "data": [
          {
           "marker": {
            "color": "rgba(75, 192, 192, 0.8)"
           },
           "name": "Charizard",
           "opacity": 0.8,
           "text": [
            14.04,
            15.12,
            14.04,
            19.62,
            15.299999999999999,
            18.0
           ],
           "textposition": "auto",
           "x": [
            "HP",
            "Ataque",
            "Defensa",
            "Atq. Esp.",
            "Def. Esp.",
            "Velocidad"
           ],
           "y": [
            14.04,
            15.12,
            14.04,
            19.62,
            15.299999999999999,
            18.0
           ],
           "type": "bar"
          },
          {
           "marker": {
            "color": "rgba(255, 99, 71, 0.8)"
           },
           "name": "Blastoise",
           "opacity": 0.8,
           "text": [
            14.219999999999999,
            14.94,
            18.0,
            15.299999999999999,
            18.9,
            14.04
           ],
           "textposition": "auto",
           "x": [
            "HP",
            "Ataque",
            "Defensa",
            "Atq. Esp.",
            "Def. Esp.",
            "Velocidad"
           ],
           "y": [
            14.219999999999999,
            14.94,
            18.0,
            15.299999999999999,
            18.9,
            14.04
           ],
           "type": "bar"
          }
         ]
        },
        {
         "data": [
          {
           "marker": {
            "color": "rgba(75, 192, 192, 0.8)"
           },
           "name": "Charizard",
           "opacity": 0.8,
           "text": [
            14.82,
            15.96,
            14.82,
            20.71,
            16.15,
            19.0
           ],
           "textposition": "auto",
           "x": [
            "HP",
            "Ataque",
            "Defensa",
            "Atq. Esp.",
            "Def. Esp.",
            "Velocidad"
           ],
           "y": [
            14.82,
            15.96,
            14.82,
            20.71,
            16.15,
            19.0
           ],
           "type": "bar"
          },
          {
           "marker": {
            "color": "rgba(255, 99, 71, 0.8)"
           },
           "name": "Blastoise",
           "opacity": 0.8,
           "text": [
            15.01,
            15.77,
            19.0,
            16.15,
            19.95,
            14.82
           ],
           "textposition": "auto",
           "x": [
            "HP",
            "Ataque",
            "Defensa",
            "Atq. Esp.",
            "Def. Esp.",
            "Velocidad"
           ],
           "y": [
            15.01,
            15.77,
            19.0,
            16.15,
            19.95,
            14.82
           ],
           "type": "bar"
          }
         ]
        },
        {
         "data": [
          {
           "marker": {
            "color": "rgba(75, 192, 192, 0.8)"
           },
           "name": "Charizard",
           "opacity": 0.8,
           "text": [
            15.600000000000001,
            16.8,
            15.600000000000001,
            21.8,
            17.0,
            20.0
           ],
           "textposition": "auto",
           "x": [
            "HP",
            "Ataque",
            "Defensa",
            "Atq. Esp.",
            "Def. Esp.",
            "Velocidad"
           ],
           "y": [
            15.600000000000001,
            16.8,
            15.600000000000001,
            21.8,
            17.0,
            20.0
           ],
           "type": "bar"
          },
          {
           "marker": {
            "color": "rgba(255, 99, 71, 0.8)"
           },
           "name": "Blastoise",
           "opacity": 0.8,
           "text": [
            15.8,
            16.6,
            20.0,
            17.0,
            21.0,
            15.600000000000001
           ],
           "textposition": "auto",
           "x": [
            "HP",
            "Ataque",
            "Defensa",
            "Atq. Esp.",
            "Def. Esp.",
            "Velocidad"
           ],
           "y": [
            15.8,
            16.6,
            20.0,
            17.0,
            21.0,
            15.600000000000001
           ],
           "type": "bar"
          }
         ]
        },
        {
         "data": [
          {
           "marker": {
            "color": "rgba(75, 192, 192, 0.8)"
           },
           "name": "Charizard",
           "opacity": 0.8,
           "text": [
            16.38,
            17.64,
            16.38,
            22.89,
            17.849999999999998,
            21.0
           ],
           "textposition": "auto",
           "x": [
            "HP",
            "Ataque",
            "Defensa",
            "Atq. Esp.",
            "Def. Esp.",
            "Velocidad"
           ],
           "y": [
            16.38,
            17.64,
            16.38,
            22.89,
            17.849999999999998,
            21.0
           ],
           "type": "bar"
          },
          {
           "marker": {
            "color": "rgba(255, 99, 71, 0.8)"
           },
           "name": "Blastoise",
           "opacity": 0.8,
           "text": [
            16.59,
            17.43,
            21.0,
            17.849999999999998,
            22.05,
            16.38
           ],
           "textposition": "auto",
           "x": [
            "HP",
            "Ataque",
            "Defensa",
            "Atq. Esp.",
            "Def. Esp.",
            "Velocidad"
           ],
           "y": [
            16.59,
            17.43,
            21.0,
            17.849999999999998,
            22.05,
            16.38
           ],
           "type": "bar"
          }
         ]
        },
        {
         "data": [
          {
           "marker": {
            "color": "rgba(75, 192, 192, 0.8)"
           },
           "name": "Charizard",
           "opacity": 0.8,
           "text": [
            17.16,
            18.48,
            17.16,
            23.98,
            18.7,
            22.0
           ],
           "textposition": "auto",
           "x": [
            "HP",
            "Ataque",
            "Defensa",
            "Atq. Esp.",
            "Def. Esp.",
            "Velocidad"
           ],
           "y": [
            17.16,
            18.48,
            17.16,
            23.98,
            18.7,
            22.0
           ],
           "type": "bar"
          },
          {
           "marker": {
            "color": "rgba(255, 99, 71, 0.8)"
           },
           "name": "Blastoise",
           "opacity": 0.8,
           "text": [
            17.38,
            18.26,
            22.0,
            18.7,
            23.1,
            17.16
           ],
           "textposition": "auto",
           "x": [
            "HP",
            "Ataque",
            "Defensa",
            "Atq. Esp.",
            "Def. Esp.",
            "Velocidad"
           ],
           "y": [
            17.38,
            18.26,
            22.0,
            18.7,
            23.1,
            17.16
           ],
           "type": "bar"
          }
         ]
        },
        {
         "data": [
          {
           "marker": {
            "color": "rgba(75, 192, 192, 0.8)"
           },
           "name": "Charizard",
           "opacity": 0.8,
           "text": [
            17.94,
            19.32,
            17.94,
            25.07,
            19.55,
            23.0
           ],
           "textposition": "auto",
           "x": [
            "HP",
            "Ataque",
            "Defensa",
            "Atq. Esp.",
            "Def. Esp.",
            "Velocidad"
           ],
           "y": [
            17.94,
            19.32,
            17.94,
            25.07,
            19.55,
            23.0
           ],
           "type": "bar"
          },
          {
           "marker": {
            "color": "rgba(255, 99, 71, 0.8)"
           },
           "name": "Blastoise",
           "opacity": 0.8,
           "text": [
            18.17,
            19.09,
            23.0,
            19.55,
            24.150000000000002,
            17.94
           ],
           "textposition": "auto",
           "x": [
            "HP",
            "Ataque",
            "Defensa",
            "Atq. Esp.",
            "Def. Esp.",
            "Velocidad"
           ],
           "y": [
            18.17,
            19.09,
            23.0,
            19.55,
            24.150000000000002,
            17.94
           ],
           "type": "bar"
          }
         ]
        },
        {
         "data": [
          {
           "marker": {
            "color": "rgba(75, 192, 192, 0.8)"
           },
           "name": "Charizard",
           "opacity": 0.8,
           "text": [
            18.72,
            20.16,
            18.72,
            26.16,
            20.4,
            24.0
           ],
           "textposition": "auto",
           "x": [
            "HP",
            "Ataque",
            "Defensa",
            "Atq. Esp.",
            "Def. Esp.",
            "Velocidad"
           ],
           "y": [
            18.72,
            20.16,
            18.72,
            26.16,
            20.4,
            24.0
           ],
           "type": "bar"
          },
          {
           "marker": {
            "color": "rgba(255, 99, 71, 0.8)"
           },
           "name": "Blastoise",
           "opacity": 0.8,
           "text": [
            18.96,
            19.919999999999998,
            24.0,
            20.4,
            25.2,
            18.72
           ],
           "textposition": "auto",
           "x": [
            "HP",
            "Ataque",
            "Defensa",
            "Atq. Esp.",
            "Def. Esp.",
            "Velocidad"
           ],
           "y": [
            18.96,
            19.919999999999998,
            24.0,
            20.4,
            25.2,
            18.72
           ],
           "type": "bar"
          }
         ]
        },
        {
         "data": [
          {
           "marker": {
            "color": "rgba(75, 192, 192, 0.8)"
           },
           "name": "Charizard",
           "opacity": 0.8,
           "text": [
            19.5,
            21.0,
            19.5,
            27.25,
            21.25,
            25.0
           ],
           "textposition": "auto",
           "x": [
            "HP",
            "Ataque",
            "Defensa",
            "Atq. Esp.",
            "Def. Esp.",
            "Velocidad"
           ],
           "y": [
            19.5,
            21.0,
            19.5,
            27.25,
            21.25,
            25.0
           ],
           "type": "bar"
          },
          {
           "marker": {
            "color": "rgba(255, 99, 71, 0.8)"
           },
           "name": "Blastoise",
           "opacity": 0.8,
           "text": [
            19.75,
            20.75,
            25.0,
            21.25,
            26.25,
            19.5
           ],
           "textposition": "auto",
           "x": [
            "HP",
            "Ataque",
            "Defensa",
            "Atq. Esp.",
            "Def. Esp.",
            "Velocidad"
           ],
           "y": [
            19.75,
            20.75,
            25.0,
            21.25,
            26.25,
            19.5
           ],
           "type": "bar"
          }
         ]
        },
        {
         "data": [
          {
           "marker": {
            "color": "rgba(75, 192, 192, 0.8)"
           },
           "name": "Charizard",
           "opacity": 0.8,
           "text": [
            20.28,
            21.84,
            20.28,
            28.34,
            22.1,
            26.0
           ],
           "textposition": "auto",
           "x": [
            "HP",
            "Ataque",
            "Defensa",
            "Atq. Esp.",
            "Def. Esp.",
            "Velocidad"
           ],
           "y": [
            20.28,
            21.84,
            20.28,
            28.34,
            22.1,
            26.0
           ],
           "type": "bar"
          },
          {
           "marker": {
            "color": "rgba(255, 99, 71, 0.8)"
           },
           "name": "Blastoise",
           "opacity": 0.8,
           "text": [
            20.54,
            21.580000000000002,
            26.0,
            22.1,
            27.3,
            20.28
           ],
           "textposition": "auto",
           "x": [
            "HP",
            "Ataque",
            "Defensa",
            "Atq. Esp.",
            "Def. Esp.",
            "Velocidad"
           ],
           "y": [
            20.54,
            21.580000000000002,
            26.0,
            22.1,
            27.3,
            20.28
           ],
           "type": "bar"
          }
         ]
        },
        {
         "data": [
          {
           "marker": {
            "color": "rgba(75, 192, 192, 0.8)"
           },
           "name": "Charizard",
           "opacity": 0.8,
           "text": [
            21.060000000000002,
            22.68,
            21.060000000000002,
            29.430000000000003,
            22.950000000000003,
            27.0
           ],
           "textposition": "auto",
           "x": [
            "HP",
            "Ataque",
            "Defensa",
            "Atq. Esp.",
            "Def. Esp.",
            "Velocidad"
           ],
           "y": [
            21.060000000000002,
            22.68,
            21.060000000000002,
            29.430000000000003,
            22.950000000000003,
            27.0
           ],
           "type": "bar"
          },
          {
           "marker": {
            "color": "rgba(255, 99, 71, 0.8)"
           },
           "name": "Blastoise",
           "opacity": 0.8,
           "text": [
            21.330000000000002,
            22.41,
            27.0,
            22.950000000000003,
            28.35,
            21.060000000000002
           ],
           "textposition": "auto",
           "x": [
            "HP",
            "Ataque",
            "Defensa",
            "Atq. Esp.",
            "Def. Esp.",
            "Velocidad"
           ],
           "y": [
            21.330000000000002,
            22.41,
            27.0,
            22.950000000000003,
            28.35,
            21.060000000000002
           ],
           "type": "bar"
          }
         ]
        },
        {
         "data": [
          {
           "marker": {
            "color": "rgba(75, 192, 192, 0.8)"
           },
           "name": "Charizard",
           "opacity": 0.8,
           "text": [
            21.840000000000003,
            23.520000000000003,
            21.840000000000003,
            30.520000000000003,
            23.8,
            28.000000000000004
           ],
           "textposition": "auto",
           "x": [
            "HP",
            "Ataque",
            "Defensa",
            "Atq. Esp.",
            "Def. Esp.",
            "Velocidad"
           ],
           "y": [
            21.840000000000003,
            23.520000000000003,
            21.840000000000003,
            30.520000000000003,
            23.8,
            28.000000000000004
           ],
           "type": "bar"
          },
          {
           "marker": {
            "color": "rgba(255, 99, 71, 0.8)"
           },
           "name": "Blastoise",
           "opacity": 0.8,
           "text": [
            22.12,
            23.240000000000002,
            28.000000000000004,
            23.8,
            29.400000000000002,
            21.840000000000003
           ],
           "textposition": "auto",
           "x": [
            "HP",
            "Ataque",
            "Defensa",
            "Atq. Esp.",
            "Def. Esp.",
            "Velocidad"
           ],
           "y": [
            22.12,
            23.240000000000002,
            28.000000000000004,
            23.8,
            29.400000000000002,
            21.840000000000003
           ],
           "type": "bar"
          }
         ]
        },
        {
         "data": [
          {
           "marker": {
            "color": "rgba(75, 192, 192, 0.8)"
           },
           "name": "Charizard",
           "opacity": 0.8,
           "text": [
            22.619999999999997,
            24.36,
            22.619999999999997,
            31.61,
            24.65,
            28.999999999999996
           ],
           "textposition": "auto",
           "x": [
            "HP",
            "Ataque",
            "Defensa",
            "Atq. Esp.",
            "Def. Esp.",
            "Velocidad"
           ],
           "y": [
            22.619999999999997,
            24.36,
            22.619999999999997,
            31.61,
            24.65,
            28.999999999999996
           ],
           "type": "bar"
          },
          {
           "marker": {
            "color": "rgba(255, 99, 71, 0.8)"
           },
           "name": "Blastoise",
           "opacity": 0.8,
           "text": [
            22.91,
            24.069999999999997,
            28.999999999999996,
            24.65,
            30.45,
            22.619999999999997
           ],
           "textposition": "auto",
           "x": [
            "HP",
            "Ataque",
            "Defensa",
            "Atq. Esp.",
            "Def. Esp.",
            "Velocidad"
           ],
           "y": [
            22.91,
            24.069999999999997,
            28.999999999999996,
            24.65,
            30.45,
            22.619999999999997
           ],
           "type": "bar"
          }
         ]
        },
        {
         "data": [
          {
           "marker": {
            "color": "rgba(75, 192, 192, 0.8)"
           },
           "name": "Charizard",
           "opacity": 0.8,
           "text": [
            23.4,
            25.2,
            23.4,
            32.699999999999996,
            25.5,
            30.0
           ],
           "textposition": "auto",
           "x": [
            "HP",
            "Ataque",
            "Defensa",
            "Atq. Esp.",
            "Def. Esp.",
            "Velocidad"
           ],
           "y": [
            23.4,
            25.2,
            23.4,
            32.699999999999996,
            25.5,
            30.0
           ],
           "type": "bar"
          },
          {
           "marker": {
            "color": "rgba(255, 99, 71, 0.8)"
           },
           "name": "Blastoise",
           "opacity": 0.8,
           "text": [
            23.7,
            24.9,
            30.0,
            25.5,
            31.5,
            23.4
           ],
           "textposition": "auto",
           "x": [
            "HP",
            "Ataque",
            "Defensa",
            "Atq. Esp.",
            "Def. Esp.",
            "Velocidad"
           ],
           "y": [
            23.7,
            24.9,
            30.0,
            25.5,
            31.5,
            23.4
           ],
           "type": "bar"
          }
         ]
        },
        {
         "data": [
          {
           "marker": {
            "color": "rgba(75, 192, 192, 0.8)"
           },
           "name": "Charizard",
           "opacity": 0.8,
           "text": [
            24.18,
            26.04,
            24.18,
            33.79,
            26.35,
            31.0
           ],
           "textposition": "auto",
           "x": [
            "HP",
            "Ataque",
            "Defensa",
            "Atq. Esp.",
            "Def. Esp.",
            "Velocidad"
           ],
           "y": [
            24.18,
            26.04,
            24.18,
            33.79,
            26.35,
            31.0
           ],
           "type": "bar"
          },
          {
           "marker": {
            "color": "rgba(255, 99, 71, 0.8)"
           },
           "name": "Blastoise",
           "opacity": 0.8,
           "text": [
            24.49,
            25.73,
            31.0,
            26.35,
            32.55,
            24.18
           ],
           "textposition": "auto",
           "x": [
            "HP",
            "Ataque",
            "Defensa",
            "Atq. Esp.",
            "Def. Esp.",
            "Velocidad"
           ],
           "y": [
            24.49,
            25.73,
            31.0,
            26.35,
            32.55,
            24.18
           ],
           "type": "bar"
          }
         ]
        },
        {
         "data": [
          {
           "marker": {
            "color": "rgba(75, 192, 192, 0.8)"
           },
           "name": "Charizard",
           "opacity": 0.8,
           "text": [
            24.96,
            26.88,
            24.96,
            34.88,
            27.2,
            32.0
           ],
           "textposition": "auto",
           "x": [
            "HP",
            "Ataque",
            "Defensa",
            "Atq. Esp.",
            "Def. Esp.",
            "Velocidad"
           ],
           "y": [
            24.96,
            26.88,
            24.96,
            34.88,
            27.2,
            32.0
           ],
           "type": "bar"
          },
          {
           "marker": {
            "color": "rgba(255, 99, 71, 0.8)"
           },
           "name": "Blastoise",
           "opacity": 0.8,
           "text": [
            25.28,
            26.560000000000002,
            32.0,
            27.2,
            33.6,
            24.96
           ],
           "textposition": "auto",
           "x": [
            "HP",
            "Ataque",
            "Defensa",
            "Atq. Esp.",
            "Def. Esp.",
            "Velocidad"
           ],
           "y": [
            25.28,
            26.560000000000002,
            32.0,
            27.2,
            33.6,
            24.96
           ],
           "type": "bar"
          }
         ]
        },
        {
         "data": [
          {
           "marker": {
            "color": "rgba(75, 192, 192, 0.8)"
           },
           "name": "Charizard",
           "opacity": 0.8,
           "text": [
            25.740000000000002,
            27.720000000000002,
            25.740000000000002,
            35.97,
            28.05,
            33.0
           ],
           "textposition": "auto",
           "x": [
            "HP",
            "Ataque",
            "Defensa",
            "Atq. Esp.",
            "Def. Esp.",
            "Velocidad"
           ],
           "y": [
            25.740000000000002,
            27.720000000000002,
            25.740000000000002,
            35.97,
            28.05,
            33.0
           ],
           "type": "bar"
          },
          {
           "marker": {
            "color": "rgba(255, 99, 71, 0.8)"
           },
           "name": "Blastoise",
           "opacity": 0.8,
           "text": [
            26.07,
            27.39,
            33.0,
            28.05,
            34.65,
            25.740000000000002
           ],
           "textposition": "auto",
           "x": [
            "HP",
            "Ataque",
            "Defensa",
            "Atq. Esp.",
            "Def. Esp.",
            "Velocidad"
           ],
           "y": [
            26.07,
            27.39,
            33.0,
            28.05,
            34.65,
            25.740000000000002
           ],
           "type": "bar"
          }
         ]
        },
        {
         "data": [
          {
           "marker": {
            "color": "rgba(75, 192, 192, 0.8)"
           },
           "name": "Charizard",
           "opacity": 0.8,
           "text": [
            26.520000000000003,
            28.560000000000002,
            26.520000000000003,
            37.06,
            28.900000000000002,
            34.0
           ],
           "textposition": "auto",
           "x": [
            "HP",
            "Ataque",
            "Defensa",
            "Atq. Esp.",
            "Def. Esp.",
            "Velocidad"
           ],
           "y": [
            26.520000000000003,
            28.560000000000002,
            26.520000000000003,
            37.06,
            28.900000000000002,
            34.0
           ],
           "type": "bar"
          },
          {
           "marker": {
            "color": "rgba(255, 99, 71, 0.8)"
           },
           "name": "Blastoise",
           "opacity": 0.8,
           "text": [
            26.860000000000003,
            28.220000000000002,
            34.0,
            28.900000000000002,
            35.7,
            26.520000000000003
           ],
           "textposition": "auto",
           "x": [
            "HP",
            "Ataque",
            "Defensa",
            "Atq. Esp.",
            "Def. Esp.",
            "Velocidad"
           ],
           "y": [
            26.860000000000003,
            28.220000000000002,
            34.0,
            28.900000000000002,
            35.7,
            26.520000000000003
           ],
           "type": "bar"
          }
         ]
        },
        {
         "data": [
          {
           "marker": {
            "color": "rgba(75, 192, 192, 0.8)"
           },
           "name": "Charizard",
           "opacity": 0.8,
           "text": [
            27.299999999999997,
            29.4,
            27.299999999999997,
            38.15,
            29.749999999999996,
            35.0
           ],
           "textposition": "auto",
           "x": [
            "HP",
            "Ataque",
            "Defensa",
            "Atq. Esp.",
            "Def. Esp.",
            "Velocidad"
           ],
           "y": [
            27.299999999999997,
            29.4,
            27.299999999999997,
            38.15,
            29.749999999999996,
            35.0
           ],
           "type": "bar"
          },
          {
           "marker": {
            "color": "rgba(255, 99, 71, 0.8)"
           },
           "name": "Blastoise",
           "opacity": 0.8,
           "text": [
            27.65,
            29.049999999999997,
            35.0,
            29.749999999999996,
            36.75,
            27.299999999999997
           ],
           "textposition": "auto",
           "x": [
            "HP",
            "Ataque",
            "Defensa",
            "Atq. Esp.",
            "Def. Esp.",
            "Velocidad"
           ],
           "y": [
            27.65,
            29.049999999999997,
            35.0,
            29.749999999999996,
            36.75,
            27.299999999999997
           ],
           "type": "bar"
          }
         ]
        },
        {
         "data": [
          {
           "marker": {
            "color": "rgba(75, 192, 192, 0.8)"
           },
           "name": "Charizard",
           "opacity": 0.8,
           "text": [
            28.08,
            30.24,
            28.08,
            39.24,
            30.599999999999998,
            36.0
           ],
           "textposition": "auto",
           "x": [
            "HP",
            "Ataque",
            "Defensa",
            "Atq. Esp.",
            "Def. Esp.",
            "Velocidad"
           ],
           "y": [
            28.08,
            30.24,
            28.08,
            39.24,
            30.599999999999998,
            36.0
           ],
           "type": "bar"
          },
          {
           "marker": {
            "color": "rgba(255, 99, 71, 0.8)"
           },
           "name": "Blastoise",
           "opacity": 0.8,
           "text": [
            28.439999999999998,
            29.88,
            36.0,
            30.599999999999998,
            37.8,
            28.08
           ],
           "textposition": "auto",
           "x": [
            "HP",
            "Ataque",
            "Defensa",
            "Atq. Esp.",
            "Def. Esp.",
            "Velocidad"
           ],
           "y": [
            28.439999999999998,
            29.88,
            36.0,
            30.599999999999998,
            37.8,
            28.08
           ],
           "type": "bar"
          }
         ]
        },
        {
         "data": [
          {
           "marker": {
            "color": "rgba(75, 192, 192, 0.8)"
           },
           "name": "Charizard",
           "opacity": 0.8,
           "text": [
            28.86,
            31.08,
            28.86,
            40.33,
            31.45,
            37.0
           ],
           "textposition": "auto",
           "x": [
            "HP",
            "Ataque",
            "Defensa",
            "Atq. Esp.",
            "Def. Esp.",
            "Velocidad"
           ],
           "y": [
            28.86,
            31.08,
            28.86,
            40.33,
            31.45,
            37.0
           ],
           "type": "bar"
          },
          {
           "marker": {
            "color": "rgba(255, 99, 71, 0.8)"
           },
           "name": "Blastoise",
           "opacity": 0.8,
           "text": [
            29.23,
            30.71,
            37.0,
            31.45,
            38.85,
            28.86
           ],
           "textposition": "auto",
           "x": [
            "HP",
            "Ataque",
            "Defensa",
            "Atq. Esp.",
            "Def. Esp.",
            "Velocidad"
           ],
           "y": [
            29.23,
            30.71,
            37.0,
            31.45,
            38.85,
            28.86
           ],
           "type": "bar"
          }
         ]
        },
        {
         "data": [
          {
           "marker": {
            "color": "rgba(75, 192, 192, 0.8)"
           },
           "name": "Charizard",
           "opacity": 0.8,
           "text": [
            29.64,
            31.92,
            29.64,
            41.42,
            32.3,
            38.0
           ],
           "textposition": "auto",
           "x": [
            "HP",
            "Ataque",
            "Defensa",
            "Atq. Esp.",
            "Def. Esp.",
            "Velocidad"
           ],
           "y": [
            29.64,
            31.92,
            29.64,
            41.42,
            32.3,
            38.0
           ],
           "type": "bar"
          },
          {
           "marker": {
            "color": "rgba(255, 99, 71, 0.8)"
           },
           "name": "Blastoise",
           "opacity": 0.8,
           "text": [
            30.02,
            31.54,
            38.0,
            32.3,
            39.9,
            29.64
           ],
           "textposition": "auto",
           "x": [
            "HP",
            "Ataque",
            "Defensa",
            "Atq. Esp.",
            "Def. Esp.",
            "Velocidad"
           ],
           "y": [
            30.02,
            31.54,
            38.0,
            32.3,
            39.9,
            29.64
           ],
           "type": "bar"
          }
         ]
        },
        {
         "data": [
          {
           "marker": {
            "color": "rgba(75, 192, 192, 0.8)"
           },
           "name": "Charizard",
           "opacity": 0.8,
           "text": [
            30.42,
            32.76,
            30.42,
            42.51,
            33.15,
            39.0
           ],
           "textposition": "auto",
           "x": [
            "HP",
            "Ataque",
            "Defensa",
            "Atq. Esp.",
            "Def. Esp.",
            "Velocidad"
           ],
           "y": [
            30.42,
            32.76,
            30.42,
            42.51,
            33.15,
            39.0
           ],
           "type": "bar"
          },
          {
           "marker": {
            "color": "rgba(255, 99, 71, 0.8)"
           },
           "name": "Blastoise",
           "opacity": 0.8,
           "text": [
            30.810000000000002,
            32.370000000000005,
            39.0,
            33.15,
            40.95,
            30.42
           ],
           "textposition": "auto",
           "x": [
            "HP",
            "Ataque",
            "Defensa",
            "Atq. Esp.",
            "Def. Esp.",
            "Velocidad"
           ],
           "y": [
            30.810000000000002,
            32.370000000000005,
            39.0,
            33.15,
            40.95,
            30.42
           ],
           "type": "bar"
          }
         ]
        },
        {
         "data": [
          {
           "marker": {
            "color": "rgba(75, 192, 192, 0.8)"
           },
           "name": "Charizard",
           "opacity": 0.8,
           "text": [
            31.200000000000003,
            33.6,
            31.200000000000003,
            43.6,
            34.0,
            40.0
           ],
           "textposition": "auto",
           "x": [
            "HP",
            "Ataque",
            "Defensa",
            "Atq. Esp.",
            "Def. Esp.",
            "Velocidad"
           ],
           "y": [
            31.200000000000003,
            33.6,
            31.200000000000003,
            43.6,
            34.0,
            40.0
           ],
           "type": "bar"
          },
          {
           "marker": {
            "color": "rgba(255, 99, 71, 0.8)"
           },
           "name": "Blastoise",
           "opacity": 0.8,
           "text": [
            31.6,
            33.2,
            40.0,
            34.0,
            42.0,
            31.200000000000003
           ],
           "textposition": "auto",
           "x": [
            "HP",
            "Ataque",
            "Defensa",
            "Atq. Esp.",
            "Def. Esp.",
            "Velocidad"
           ],
           "y": [
            31.6,
            33.2,
            40.0,
            34.0,
            42.0,
            31.200000000000003
           ],
           "type": "bar"
          }
         ]
        },
        {
         "data": [
          {
           "marker": {
            "color": "rgba(75, 192, 192, 0.8)"
           },
           "name": "Charizard",
           "opacity": 0.8,
           "text": [
            31.979999999999997,
            34.44,
            31.979999999999997,
            44.69,
            34.85,
            41.0
           ],
           "textposition": "auto",
           "x": [
            "HP",
            "Ataque",
            "Defensa",
            "Atq. Esp.",
            "Def. Esp.",
            "Velocidad"
           ],
           "y": [
            31.979999999999997,
            34.44,
            31.979999999999997,
            44.69,
            34.85,
            41.0
           ],
           "type": "bar"
          },
          {
           "marker": {
            "color": "rgba(255, 99, 71, 0.8)"
           },
           "name": "Blastoise",
           "opacity": 0.8,
           "text": [
            32.39,
            34.03,
            41.0,
            34.85,
            43.05,
            31.979999999999997
           ],
           "textposition": "auto",
           "x": [
            "HP",
            "Ataque",
            "Defensa",
            "Atq. Esp.",
            "Def. Esp.",
            "Velocidad"
           ],
           "y": [
            32.39,
            34.03,
            41.0,
            34.85,
            43.05,
            31.979999999999997
           ],
           "type": "bar"
          }
         ]
        },
        {
         "data": [
          {
           "marker": {
            "color": "rgba(75, 192, 192, 0.8)"
           },
           "name": "Charizard",
           "opacity": 0.8,
           "text": [
            32.76,
            35.28,
            32.76,
            45.78,
            35.699999999999996,
            42.0
           ],
           "textposition": "auto",
           "x": [
            "HP",
            "Ataque",
            "Defensa",
            "Atq. Esp.",
            "Def. Esp.",
            "Velocidad"
           ],
           "y": [
            32.76,
            35.28,
            32.76,
            45.78,
            35.699999999999996,
            42.0
           ],
           "type": "bar"
          },
          {
           "marker": {
            "color": "rgba(255, 99, 71, 0.8)"
           },
           "name": "Blastoise",
           "opacity": 0.8,
           "text": [
            33.18,
            34.86,
            42.0,
            35.699999999999996,
            44.1,
            32.76
           ],
           "textposition": "auto",
           "x": [
            "HP",
            "Ataque",
            "Defensa",
            "Atq. Esp.",
            "Def. Esp.",
            "Velocidad"
           ],
           "y": [
            33.18,
            34.86,
            42.0,
            35.699999999999996,
            44.1,
            32.76
           ],
           "type": "bar"
          }
         ]
        },
        {
         "data": [
          {
           "marker": {
            "color": "rgba(75, 192, 192, 0.8)"
           },
           "name": "Charizard",
           "opacity": 0.8,
           "text": [
            33.54,
            36.12,
            33.54,
            46.87,
            36.55,
            43.0
           ],
           "textposition": "auto",
           "x": [
            "HP",
            "Ataque",
            "Defensa",
            "Atq. Esp.",
            "Def. Esp.",
            "Velocidad"
           ],
           "y": [
            33.54,
            36.12,
            33.54,
            46.87,
            36.55,
            43.0
           ],
           "type": "bar"
          },
          {
           "marker": {
            "color": "rgba(255, 99, 71, 0.8)"
           },
           "name": "Blastoise",
           "opacity": 0.8,
           "text": [
            33.97,
            35.69,
            43.0,
            36.55,
            45.15,
            33.54
           ],
           "textposition": "auto",
           "x": [
            "HP",
            "Ataque",
            "Defensa",
            "Atq. Esp.",
            "Def. Esp.",
            "Velocidad"
           ],
           "y": [
            33.97,
            35.69,
            43.0,
            36.55,
            45.15,
            33.54
           ],
           "type": "bar"
          }
         ]
        },
        {
         "data": [
          {
           "marker": {
            "color": "rgba(75, 192, 192, 0.8)"
           },
           "name": "Charizard",
           "opacity": 0.8,
           "text": [
            34.32,
            36.96,
            34.32,
            47.96,
            37.4,
            44.0
           ],
           "textposition": "auto",
           "x": [
            "HP",
            "Ataque",
            "Defensa",
            "Atq. Esp.",
            "Def. Esp.",
            "Velocidad"
           ],
           "y": [
            34.32,
            36.96,
            34.32,
            47.96,
            37.4,
            44.0
           ],
           "type": "bar"
          },
          {
           "marker": {
            "color": "rgba(255, 99, 71, 0.8)"
           },
           "name": "Blastoise",
           "opacity": 0.8,
           "text": [
            34.76,
            36.52,
            44.0,
            37.4,
            46.2,
            34.32
           ],
           "textposition": "auto",
           "x": [
            "HP",
            "Ataque",
            "Defensa",
            "Atq. Esp.",
            "Def. Esp.",
            "Velocidad"
           ],
           "y": [
            34.76,
            36.52,
            44.0,
            37.4,
            46.2,
            34.32
           ],
           "type": "bar"
          }
         ]
        },
        {
         "data": [
          {
           "marker": {
            "color": "rgba(75, 192, 192, 0.8)"
           },
           "name": "Charizard",
           "opacity": 0.8,
           "text": [
            35.1,
            37.800000000000004,
            35.1,
            49.050000000000004,
            38.25,
            45.0
           ],
           "textposition": "auto",
           "x": [
            "HP",
            "Ataque",
            "Defensa",
            "Atq. Esp.",
            "Def. Esp.",
            "Velocidad"
           ],
           "y": [
            35.1,
            37.800000000000004,
            35.1,
            49.050000000000004,
            38.25,
            45.0
           ],
           "type": "bar"
          },
          {
           "marker": {
            "color": "rgba(255, 99, 71, 0.8)"
           },
           "name": "Blastoise",
           "opacity": 0.8,
           "text": [
            35.550000000000004,
            37.35,
            45.0,
            38.25,
            47.25,
            35.1
           ],
           "textposition": "auto",
           "x": [
            "HP",
            "Ataque",
            "Defensa",
            "Atq. Esp.",
            "Def. Esp.",
            "Velocidad"
           ],
           "y": [
            35.550000000000004,
            37.35,
            45.0,
            38.25,
            47.25,
            35.1
           ],
           "type": "bar"
          }
         ]
        },
        {
         "data": [
          {
           "marker": {
            "color": "rgba(75, 192, 192, 0.8)"
           },
           "name": "Charizard",
           "opacity": 0.8,
           "text": [
            35.88,
            38.64,
            35.88,
            50.14,
            39.1,
            46.0
           ],
           "textposition": "auto",
           "x": [
            "HP",
            "Ataque",
            "Defensa",
            "Atq. Esp.",
            "Def. Esp.",
            "Velocidad"
           ],
           "y": [
            35.88,
            38.64,
            35.88,
            50.14,
            39.1,
            46.0
           ],
           "type": "bar"
          },
          {
           "marker": {
            "color": "rgba(255, 99, 71, 0.8)"
           },
           "name": "Blastoise",
           "opacity": 0.8,
           "text": [
            36.34,
            38.18,
            46.0,
            39.1,
            48.300000000000004,
            35.88
           ],
           "textposition": "auto",
           "x": [
            "HP",
            "Ataque",
            "Defensa",
            "Atq. Esp.",
            "Def. Esp.",
            "Velocidad"
           ],
           "y": [
            36.34,
            38.18,
            46.0,
            39.1,
            48.300000000000004,
            35.88
           ],
           "type": "bar"
          }
         ]
        },
        {
         "data": [
          {
           "marker": {
            "color": "rgba(75, 192, 192, 0.8)"
           },
           "name": "Charizard",
           "opacity": 0.8,
           "text": [
            36.66,
            39.48,
            36.66,
            51.23,
            39.949999999999996,
            47.0
           ],
           "textposition": "auto",
           "x": [
            "HP",
            "Ataque",
            "Defensa",
            "Atq. Esp.",
            "Def. Esp.",
            "Velocidad"
           ],
           "y": [
            36.66,
            39.48,
            36.66,
            51.23,
            39.949999999999996,
            47.0
           ],
           "type": "bar"
          },
          {
           "marker": {
            "color": "rgba(255, 99, 71, 0.8)"
           },
           "name": "Blastoise",
           "opacity": 0.8,
           "text": [
            37.129999999999995,
            39.01,
            47.0,
            39.949999999999996,
            49.349999999999994,
            36.66
           ],
           "textposition": "auto",
           "x": [
            "HP",
            "Ataque",
            "Defensa",
            "Atq. Esp.",
            "Def. Esp.",
            "Velocidad"
           ],
           "y": [
            37.129999999999995,
            39.01,
            47.0,
            39.949999999999996,
            49.349999999999994,
            36.66
           ],
           "type": "bar"
          }
         ]
        },
        {
         "data": [
          {
           "marker": {
            "color": "rgba(75, 192, 192, 0.8)"
           },
           "name": "Charizard",
           "opacity": 0.8,
           "text": [
            37.44,
            40.32,
            37.44,
            52.32,
            40.8,
            48.0
           ],
           "textposition": "auto",
           "x": [
            "HP",
            "Ataque",
            "Defensa",
            "Atq. Esp.",
            "Def. Esp.",
            "Velocidad"
           ],
           "y": [
            37.44,
            40.32,
            37.44,
            52.32,
            40.8,
            48.0
           ],
           "type": "bar"
          },
          {
           "marker": {
            "color": "rgba(255, 99, 71, 0.8)"
           },
           "name": "Blastoise",
           "opacity": 0.8,
           "text": [
            37.92,
            39.839999999999996,
            48.0,
            40.8,
            50.4,
            37.44
           ],
           "textposition": "auto",
           "x": [
            "HP",
            "Ataque",
            "Defensa",
            "Atq. Esp.",
            "Def. Esp.",
            "Velocidad"
           ],
           "y": [
            37.92,
            39.839999999999996,
            48.0,
            40.8,
            50.4,
            37.44
           ],
           "type": "bar"
          }
         ]
        },
        {
         "data": [
          {
           "marker": {
            "color": "rgba(75, 192, 192, 0.8)"
           },
           "name": "Charizard",
           "opacity": 0.8,
           "text": [
            38.22,
            41.16,
            38.22,
            53.41,
            41.65,
            49.0
           ],
           "textposition": "auto",
           "x": [
            "HP",
            "Ataque",
            "Defensa",
            "Atq. Esp.",
            "Def. Esp.",
            "Velocidad"
           ],
           "y": [
            38.22,
            41.16,
            38.22,
            53.41,
            41.65,
            49.0
           ],
           "type": "bar"
          },
          {
           "marker": {
            "color": "rgba(255, 99, 71, 0.8)"
           },
           "name": "Blastoise",
           "opacity": 0.8,
           "text": [
            38.71,
            40.67,
            49.0,
            41.65,
            51.449999999999996,
            38.22
           ],
           "textposition": "auto",
           "x": [
            "HP",
            "Ataque",
            "Defensa",
            "Atq. Esp.",
            "Def. Esp.",
            "Velocidad"
           ],
           "y": [
            38.71,
            40.67,
            49.0,
            41.65,
            51.449999999999996,
            38.22
           ],
           "type": "bar"
          }
         ]
        },
        {
         "data": [
          {
           "marker": {
            "color": "rgba(75, 192, 192, 0.8)"
           },
           "name": "Charizard",
           "opacity": 0.8,
           "text": [
            39.0,
            42.0,
            39.0,
            54.5,
            42.5,
            50.0
           ],
           "textposition": "auto",
           "x": [
            "HP",
            "Ataque",
            "Defensa",
            "Atq. Esp.",
            "Def. Esp.",
            "Velocidad"
           ],
           "y": [
            39.0,
            42.0,
            39.0,
            54.5,
            42.5,
            50.0
           ],
           "type": "bar"
          },
          {
           "marker": {
            "color": "rgba(255, 99, 71, 0.8)"
           },
           "name": "Blastoise",
           "opacity": 0.8,
           "text": [
            39.5,
            41.5,
            50.0,
            42.5,
            52.5,
            39.0
           ],
           "textposition": "auto",
           "x": [
            "HP",
            "Ataque",
            "Defensa",
            "Atq. Esp.",
            "Def. Esp.",
            "Velocidad"
           ],
           "y": [
            39.5,
            41.5,
            50.0,
            42.5,
            52.5,
            39.0
           ],
           "type": "bar"
          }
         ]
        },
        {
         "data": [
          {
           "marker": {
            "color": "rgba(75, 192, 192, 0.8)"
           },
           "name": "Charizard",
           "opacity": 0.8,
           "text": [
            39.78,
            42.84,
            39.78,
            55.59,
            43.35,
            51.0
           ],
           "textposition": "auto",
           "x": [
            "HP",
            "Ataque",
            "Defensa",
            "Atq. Esp.",
            "Def. Esp.",
            "Velocidad"
           ],
           "y": [
            39.78,
            42.84,
            39.78,
            55.59,
            43.35,
            51.0
           ],
           "type": "bar"
          },
          {
           "marker": {
            "color": "rgba(255, 99, 71, 0.8)"
           },
           "name": "Blastoise",
           "opacity": 0.8,
           "text": [
            40.29,
            42.33,
            51.0,
            43.35,
            53.550000000000004,
            39.78
           ],
           "textposition": "auto",
           "x": [
            "HP",
            "Ataque",
            "Defensa",
            "Atq. Esp.",
            "Def. Esp.",
            "Velocidad"
           ],
           "y": [
            40.29,
            42.33,
            51.0,
            43.35,
            53.550000000000004,
            39.78
           ],
           "type": "bar"
          }
         ]
        },
        {
         "data": [
          {
           "marker": {
            "color": "rgba(75, 192, 192, 0.8)"
           },
           "name": "Charizard",
           "opacity": 0.8,
           "text": [
            40.56,
            43.68,
            40.56,
            56.68,
            44.2,
            52.0
           ],
           "textposition": "auto",
           "x": [
            "HP",
            "Ataque",
            "Defensa",
            "Atq. Esp.",
            "Def. Esp.",
            "Velocidad"
           ],
           "y": [
            40.56,
            43.68,
            40.56,
            56.68,
            44.2,
            52.0
           ],
           "type": "bar"
          },
          {
           "marker": {
            "color": "rgba(255, 99, 71, 0.8)"
           },
           "name": "Blastoise",
           "opacity": 0.8,
           "text": [
            41.08,
            43.160000000000004,
            52.0,
            44.2,
            54.6,
            40.56
           ],
           "textposition": "auto",
           "x": [
            "HP",
            "Ataque",
            "Defensa",
            "Atq. Esp.",
            "Def. Esp.",
            "Velocidad"
           ],
           "y": [
            41.08,
            43.160000000000004,
            52.0,
            44.2,
            54.6,
            40.56
           ],
           "type": "bar"
          }
         ]
        },
        {
         "data": [
          {
           "marker": {
            "color": "rgba(75, 192, 192, 0.8)"
           },
           "name": "Charizard",
           "opacity": 0.8,
           "text": [
            41.34,
            44.52,
            41.34,
            57.77,
            45.050000000000004,
            53.0
           ],
           "textposition": "auto",
           "x": [
            "HP",
            "Ataque",
            "Defensa",
            "Atq. Esp.",
            "Def. Esp.",
            "Velocidad"
           ],
           "y": [
            41.34,
            44.52,
            41.34,
            57.77,
            45.050000000000004,
            53.0
           ],
           "type": "bar"
          },
          {
           "marker": {
            "color": "rgba(255, 99, 71, 0.8)"
           },
           "name": "Blastoise",
           "opacity": 0.8,
           "text": [
            41.870000000000005,
            43.99,
            53.0,
            45.050000000000004,
            55.650000000000006,
            41.34
           ],
           "textposition": "auto",
           "x": [
            "HP",
            "Ataque",
            "Defensa",
            "Atq. Esp.",
            "Def. Esp.",
            "Velocidad"
           ],
           "y": [
            41.870000000000005,
            43.99,
            53.0,
            45.050000000000004,
            55.650000000000006,
            41.34
           ],
           "type": "bar"
          }
         ]
        },
        {
         "data": [
          {
           "marker": {
            "color": "rgba(75, 192, 192, 0.8)"
           },
           "name": "Charizard",
           "opacity": 0.8,
           "text": [
            42.120000000000005,
            45.36,
            42.120000000000005,
            58.86000000000001,
            45.900000000000006,
            54.0
           ],
           "textposition": "auto",
           "x": [
            "HP",
            "Ataque",
            "Defensa",
            "Atq. Esp.",
            "Def. Esp.",
            "Velocidad"
           ],
           "y": [
            42.120000000000005,
            45.36,
            42.120000000000005,
            58.86000000000001,
            45.900000000000006,
            54.0
           ],
           "type": "bar"
          },
          {
           "marker": {
            "color": "rgba(255, 99, 71, 0.8)"
           },
           "name": "Blastoise",
           "opacity": 0.8,
           "text": [
            42.660000000000004,
            44.82,
            54.0,
            45.900000000000006,
            56.7,
            42.120000000000005
           ],
           "textposition": "auto",
           "x": [
            "HP",
            "Ataque",
            "Defensa",
            "Atq. Esp.",
            "Def. Esp.",
            "Velocidad"
           ],
           "y": [
            42.660000000000004,
            44.82,
            54.0,
            45.900000000000006,
            56.7,
            42.120000000000005
           ],
           "type": "bar"
          }
         ]
        },
        {
         "data": [
          {
           "marker": {
            "color": "rgba(75, 192, 192, 0.8)"
           },
           "name": "Charizard",
           "opacity": 0.8,
           "text": [
            42.900000000000006,
            46.2,
            42.900000000000006,
            59.95,
            46.75000000000001,
            55.00000000000001
           ],
           "textposition": "auto",
           "x": [
            "HP",
            "Ataque",
            "Defensa",
            "Atq. Esp.",
            "Def. Esp.",
            "Velocidad"
           ],
           "y": [
            42.900000000000006,
            46.2,
            42.900000000000006,
            59.95,
            46.75000000000001,
            55.00000000000001
           ],
           "type": "bar"
          },
          {
           "marker": {
            "color": "rgba(255, 99, 71, 0.8)"
           },
           "name": "Blastoise",
           "opacity": 0.8,
           "text": [
            43.45,
            45.650000000000006,
            55.00000000000001,
            46.75000000000001,
            57.75000000000001,
            42.900000000000006
           ],
           "textposition": "auto",
           "x": [
            "HP",
            "Ataque",
            "Defensa",
            "Atq. Esp.",
            "Def. Esp.",
            "Velocidad"
           ],
           "y": [
            43.45,
            45.650000000000006,
            55.00000000000001,
            46.75000000000001,
            57.75000000000001,
            42.900000000000006
           ],
           "type": "bar"
          }
         ]
        },
        {
         "data": [
          {
           "marker": {
            "color": "rgba(75, 192, 192, 0.8)"
           },
           "name": "Charizard",
           "opacity": 0.8,
           "text": [
            43.68000000000001,
            47.040000000000006,
            43.68000000000001,
            61.040000000000006,
            47.6,
            56.00000000000001
           ],
           "textposition": "auto",
           "x": [
            "HP",
            "Ataque",
            "Defensa",
            "Atq. Esp.",
            "Def. Esp.",
            "Velocidad"
           ],
           "y": [
            43.68000000000001,
            47.040000000000006,
            43.68000000000001,
            61.040000000000006,
            47.6,
            56.00000000000001
           ],
           "type": "bar"
          },
          {
           "marker": {
            "color": "rgba(255, 99, 71, 0.8)"
           },
           "name": "Blastoise",
           "opacity": 0.8,
           "text": [
            44.24,
            46.480000000000004,
            56.00000000000001,
            47.6,
            58.800000000000004,
            43.68000000000001
           ],
           "textposition": "auto",
           "x": [
            "HP",
            "Ataque",
            "Defensa",
            "Atq. Esp.",
            "Def. Esp.",
            "Velocidad"
           ],
           "y": [
            44.24,
            46.480000000000004,
            56.00000000000001,
            47.6,
            58.800000000000004,
            43.68000000000001
           ],
           "type": "bar"
          }
         ]
        },
        {
         "data": [
          {
           "marker": {
            "color": "rgba(75, 192, 192, 0.8)"
           },
           "name": "Charizard",
           "opacity": 0.8,
           "text": [
            44.459999999999994,
            47.879999999999995,
            44.459999999999994,
            62.129999999999995,
            48.449999999999996,
            56.99999999999999
           ],
           "textposition": "auto",
           "x": [
            "HP",
            "Ataque",
            "Defensa",
            "Atq. Esp.",
            "Def. Esp.",
            "Velocidad"
           ],
           "y": [
            44.459999999999994,
            47.879999999999995,
            44.459999999999994,
            62.129999999999995,
            48.449999999999996,
            56.99999999999999
           ],
           "type": "bar"
          },
          {
           "marker": {
            "color": "rgba(255, 99, 71, 0.8)"
           },
           "name": "Blastoise",
           "opacity": 0.8,
           "text": [
            45.029999999999994,
            47.309999999999995,
            56.99999999999999,
            48.449999999999996,
            59.849999999999994,
            44.459999999999994
           ],
           "textposition": "auto",
           "x": [
            "HP",
            "Ataque",
            "Defensa",
            "Atq. Esp.",
            "Def. Esp.",
            "Velocidad"
           ],
           "y": [
            45.029999999999994,
            47.309999999999995,
            56.99999999999999,
            48.449999999999996,
            59.849999999999994,
            44.459999999999994
           ],
           "type": "bar"
          }
         ]
        },
        {
         "data": [
          {
           "marker": {
            "color": "rgba(75, 192, 192, 0.8)"
           },
           "name": "Charizard",
           "opacity": 0.8,
           "text": [
            45.239999999999995,
            48.72,
            45.239999999999995,
            63.22,
            49.3,
            57.99999999999999
           ],
           "textposition": "auto",
           "x": [
            "HP",
            "Ataque",
            "Defensa",
            "Atq. Esp.",
            "Def. Esp.",
            "Velocidad"
           ],
           "y": [
            45.239999999999995,
            48.72,
            45.239999999999995,
            63.22,
            49.3,
            57.99999999999999
           ],
           "type": "bar"
          },
          {
           "marker": {
            "color": "rgba(255, 99, 71, 0.8)"
           },
           "name": "Blastoise",
           "opacity": 0.8,
           "text": [
            45.82,
            48.13999999999999,
            57.99999999999999,
            49.3,
            60.9,
            45.239999999999995
           ],
           "textposition": "auto",
           "x": [
            "HP",
            "Ataque",
            "Defensa",
            "Atq. Esp.",
            "Def. Esp.",
            "Velocidad"
           ],
           "y": [
            45.82,
            48.13999999999999,
            57.99999999999999,
            49.3,
            60.9,
            45.239999999999995
           ],
           "type": "bar"
          }
         ]
        },
        {
         "data": [
          {
           "marker": {
            "color": "rgba(75, 192, 192, 0.8)"
           },
           "name": "Charizard",
           "opacity": 0.8,
           "text": [
            46.019999999999996,
            49.559999999999995,
            46.019999999999996,
            64.31,
            50.15,
            59.0
           ],
           "textposition": "auto",
           "x": [
            "HP",
            "Ataque",
            "Defensa",
            "Atq. Esp.",
            "Def. Esp.",
            "Velocidad"
           ],
           "y": [
            46.019999999999996,
            49.559999999999995,
            46.019999999999996,
            64.31,
            50.15,
            59.0
           ],
           "type": "bar"
          },
          {
           "marker": {
            "color": "rgba(255, 99, 71, 0.8)"
           },
           "name": "Blastoise",
           "opacity": 0.8,
           "text": [
            46.61,
            48.97,
            59.0,
            50.15,
            61.949999999999996,
            46.019999999999996
           ],
           "textposition": "auto",
           "x": [
            "HP",
            "Ataque",
            "Defensa",
            "Atq. Esp.",
            "Def. Esp.",
            "Velocidad"
           ],
           "y": [
            46.61,
            48.97,
            59.0,
            50.15,
            61.949999999999996,
            46.019999999999996
           ],
           "type": "bar"
          }
         ]
        },
        {
         "data": [
          {
           "marker": {
            "color": "rgba(75, 192, 192, 0.8)"
           },
           "name": "Charizard",
           "opacity": 0.8,
           "text": [
            46.8,
            50.4,
            46.8,
            65.39999999999999,
            51.0,
            60.0
           ],
           "textposition": "auto",
           "x": [
            "HP",
            "Ataque",
            "Defensa",
            "Atq. Esp.",
            "Def. Esp.",
            "Velocidad"
           ],
           "y": [
            46.8,
            50.4,
            46.8,
            65.39999999999999,
            51.0,
            60.0
           ],
           "type": "bar"
          },
          {
           "marker": {
            "color": "rgba(255, 99, 71, 0.8)"
           },
           "name": "Blastoise",
           "opacity": 0.8,
           "text": [
            47.4,
            49.8,
            60.0,
            51.0,
            63.0,
            46.8
           ],
           "textposition": "auto",
           "x": [
            "HP",
            "Ataque",
            "Defensa",
            "Atq. Esp.",
            "Def. Esp.",
            "Velocidad"
           ],
           "y": [
            47.4,
            49.8,
            60.0,
            51.0,
            63.0,
            46.8
           ],
           "type": "bar"
          }
         ]
        },
        {
         "data": [
          {
           "marker": {
            "color": "rgba(75, 192, 192, 0.8)"
           },
           "name": "Charizard",
           "opacity": 0.8,
           "text": [
            47.58,
            51.24,
            47.58,
            66.49,
            51.85,
            61.0
           ],
           "textposition": "auto",
           "x": [
            "HP",
            "Ataque",
            "Defensa",
            "Atq. Esp.",
            "Def. Esp.",
            "Velocidad"
           ],
           "y": [
            47.58,
            51.24,
            47.58,
            66.49,
            51.85,
            61.0
           ],
           "type": "bar"
          },
          {
           "marker": {
            "color": "rgba(255, 99, 71, 0.8)"
           },
           "name": "Blastoise",
           "opacity": 0.8,
           "text": [
            48.19,
            50.629999999999995,
            61.0,
            51.85,
            64.05,
            47.58
           ],
           "textposition": "auto",
           "x": [
            "HP",
            "Ataque",
            "Defensa",
            "Atq. Esp.",
            "Def. Esp.",
            "Velocidad"
           ],
           "y": [
            48.19,
            50.629999999999995,
            61.0,
            51.85,
            64.05,
            47.58
           ],
           "type": "bar"
          }
         ]
        },
        {
         "data": [
          {
           "marker": {
            "color": "rgba(75, 192, 192, 0.8)"
           },
           "name": "Charizard",
           "opacity": 0.8,
           "text": [
            48.36,
            52.08,
            48.36,
            67.58,
            52.7,
            62.0
           ],
           "textposition": "auto",
           "x": [
            "HP",
            "Ataque",
            "Defensa",
            "Atq. Esp.",
            "Def. Esp.",
            "Velocidad"
           ],
           "y": [
            48.36,
            52.08,
            48.36,
            67.58,
            52.7,
            62.0
           ],
           "type": "bar"
          },
          {
           "marker": {
            "color": "rgba(255, 99, 71, 0.8)"
           },
           "name": "Blastoise",
           "opacity": 0.8,
           "text": [
            48.98,
            51.46,
            62.0,
            52.7,
            65.1,
            48.36
           ],
           "textposition": "auto",
           "x": [
            "HP",
            "Ataque",
            "Defensa",
            "Atq. Esp.",
            "Def. Esp.",
            "Velocidad"
           ],
           "y": [
            48.98,
            51.46,
            62.0,
            52.7,
            65.1,
            48.36
           ],
           "type": "bar"
          }
         ]
        },
        {
         "data": [
          {
           "marker": {
            "color": "rgba(75, 192, 192, 0.8)"
           },
           "name": "Charizard",
           "opacity": 0.8,
           "text": [
            49.14,
            52.92,
            49.14,
            68.67,
            53.55,
            63.0
           ],
           "textposition": "auto",
           "x": [
            "HP",
            "Ataque",
            "Defensa",
            "Atq. Esp.",
            "Def. Esp.",
            "Velocidad"
           ],
           "y": [
            49.14,
            52.92,
            49.14,
            68.67,
            53.55,
            63.0
           ],
           "type": "bar"
          },
          {
           "marker": {
            "color": "rgba(255, 99, 71, 0.8)"
           },
           "name": "Blastoise",
           "opacity": 0.8,
           "text": [
            49.77,
            52.29,
            63.0,
            53.55,
            66.15,
            49.14
           ],
           "textposition": "auto",
           "x": [
            "HP",
            "Ataque",
            "Defensa",
            "Atq. Esp.",
            "Def. Esp.",
            "Velocidad"
           ],
           "y": [
            49.77,
            52.29,
            63.0,
            53.55,
            66.15,
            49.14
           ],
           "type": "bar"
          }
         ]
        },
        {
         "data": [
          {
           "marker": {
            "color": "rgba(75, 192, 192, 0.8)"
           },
           "name": "Charizard",
           "opacity": 0.8,
           "text": [
            49.92,
            53.76,
            49.92,
            69.76,
            54.4,
            64.0
           ],
           "textposition": "auto",
           "x": [
            "HP",
            "Ataque",
            "Defensa",
            "Atq. Esp.",
            "Def. Esp.",
            "Velocidad"
           ],
           "y": [
            49.92,
            53.76,
            49.92,
            69.76,
            54.4,
            64.0
           ],
           "type": "bar"
          },
          {
           "marker": {
            "color": "rgba(255, 99, 71, 0.8)"
           },
           "name": "Blastoise",
           "opacity": 0.8,
           "text": [
            50.56,
            53.120000000000005,
            64.0,
            54.4,
            67.2,
            49.92
           ],
           "textposition": "auto",
           "x": [
            "HP",
            "Ataque",
            "Defensa",
            "Atq. Esp.",
            "Def. Esp.",
            "Velocidad"
           ],
           "y": [
            50.56,
            53.120000000000005,
            64.0,
            54.4,
            67.2,
            49.92
           ],
           "type": "bar"
          }
         ]
        },
        {
         "data": [
          {
           "marker": {
            "color": "rgba(75, 192, 192, 0.8)"
           },
           "name": "Charizard",
           "opacity": 0.8,
           "text": [
            50.7,
            54.6,
            50.7,
            70.85000000000001,
            55.25,
            65.0
           ],
           "textposition": "auto",
           "x": [
            "HP",
            "Ataque",
            "Defensa",
            "Atq. Esp.",
            "Def. Esp.",
            "Velocidad"
           ],
           "y": [
            50.7,
            54.6,
            50.7,
            70.85000000000001,
            55.25,
            65.0
           ],
           "type": "bar"
          },
          {
           "marker": {
            "color": "rgba(255, 99, 71, 0.8)"
           },
           "name": "Blastoise",
           "opacity": 0.8,
           "text": [
            51.35,
            53.95,
            65.0,
            55.25,
            68.25,
            50.7
           ],
           "textposition": "auto",
           "x": [
            "HP",
            "Ataque",
            "Defensa",
            "Atq. Esp.",
            "Def. Esp.",
            "Velocidad"
           ],
           "y": [
            51.35,
            53.95,
            65.0,
            55.25,
            68.25,
            50.7
           ],
           "type": "bar"
          }
         ]
        },
        {
         "data": [
          {
           "marker": {
            "color": "rgba(75, 192, 192, 0.8)"
           },
           "name": "Charizard",
           "opacity": 0.8,
           "text": [
            51.480000000000004,
            55.440000000000005,
            51.480000000000004,
            71.94,
            56.1,
            66.0
           ],
           "textposition": "auto",
           "x": [
            "HP",
            "Ataque",
            "Defensa",
            "Atq. Esp.",
            "Def. Esp.",
            "Velocidad"
           ],
           "y": [
            51.480000000000004,
            55.440000000000005,
            51.480000000000004,
            71.94,
            56.1,
            66.0
           ],
           "type": "bar"
          },
          {
           "marker": {
            "color": "rgba(255, 99, 71, 0.8)"
           },
           "name": "Blastoise",
           "opacity": 0.8,
           "text": [
            52.14,
            54.78,
            66.0,
            56.1,
            69.3,
            51.480000000000004
           ],
           "textposition": "auto",
           "x": [
            "HP",
            "Ataque",
            "Defensa",
            "Atq. Esp.",
            "Def. Esp.",
            "Velocidad"
           ],
           "y": [
            52.14,
            54.78,
            66.0,
            56.1,
            69.3,
            51.480000000000004
           ],
           "type": "bar"
          }
         ]
        },
        {
         "data": [
          {
           "marker": {
            "color": "rgba(75, 192, 192, 0.8)"
           },
           "name": "Charizard",
           "opacity": 0.8,
           "text": [
            52.260000000000005,
            56.28,
            52.260000000000005,
            73.03,
            56.95,
            67.0
           ],
           "textposition": "auto",
           "x": [
            "HP",
            "Ataque",
            "Defensa",
            "Atq. Esp.",
            "Def. Esp.",
            "Velocidad"
           ],
           "y": [
            52.260000000000005,
            56.28,
            52.260000000000005,
            73.03,
            56.95,
            67.0
           ],
           "type": "bar"
          },
          {
           "marker": {
            "color": "rgba(255, 99, 71, 0.8)"
           },
           "name": "Blastoise",
           "opacity": 0.8,
           "text": [
            52.93,
            55.61000000000001,
            67.0,
            56.95,
            70.35000000000001,
            52.260000000000005
           ],
           "textposition": "auto",
           "x": [
            "HP",
            "Ataque",
            "Defensa",
            "Atq. Esp.",
            "Def. Esp.",
            "Velocidad"
           ],
           "y": [
            52.93,
            55.61000000000001,
            67.0,
            56.95,
            70.35000000000001,
            52.260000000000005
           ],
           "type": "bar"
          }
         ]
        },
        {
         "data": [
          {
           "marker": {
            "color": "rgba(75, 192, 192, 0.8)"
           },
           "name": "Charizard",
           "opacity": 0.8,
           "text": [
            53.040000000000006,
            57.120000000000005,
            53.040000000000006,
            74.12,
            57.800000000000004,
            68.0
           ],
           "textposition": "auto",
           "x": [
            "HP",
            "Ataque",
            "Defensa",
            "Atq. Esp.",
            "Def. Esp.",
            "Velocidad"
           ],
           "y": [
            53.040000000000006,
            57.120000000000005,
            53.040000000000006,
            74.12,
            57.800000000000004,
            68.0
           ],
           "type": "bar"
          },
          {
           "marker": {
            "color": "rgba(255, 99, 71, 0.8)"
           },
           "name": "Blastoise",
           "opacity": 0.8,
           "text": [
            53.720000000000006,
            56.440000000000005,
            68.0,
            57.800000000000004,
            71.4,
            53.040000000000006
           ],
           "textposition": "auto",
           "x": [
            "HP",
            "Ataque",
            "Defensa",
            "Atq. Esp.",
            "Def. Esp.",
            "Velocidad"
           ],
           "y": [
            53.720000000000006,
            56.440000000000005,
            68.0,
            57.800000000000004,
            71.4,
            53.040000000000006
           ],
           "type": "bar"
          }
         ]
        },
        {
         "data": [
          {
           "marker": {
            "color": "rgba(75, 192, 192, 0.8)"
           },
           "name": "Charizard",
           "opacity": 0.8,
           "text": [
            53.81999999999999,
            57.959999999999994,
            53.81999999999999,
            75.21,
            58.65,
            69.0
           ],
           "textposition": "auto",
           "x": [
            "HP",
            "Ataque",
            "Defensa",
            "Atq. Esp.",
            "Def. Esp.",
            "Velocidad"
           ],
           "y": [
            53.81999999999999,
            57.959999999999994,
            53.81999999999999,
            75.21,
            58.65,
            69.0
           ],
           "type": "bar"
          },
          {
           "marker": {
            "color": "rgba(255, 99, 71, 0.8)"
           },
           "name": "Blastoise",
           "opacity": 0.8,
           "text": [
            54.51,
            57.269999999999996,
            69.0,
            58.65,
            72.44999999999999,
            53.81999999999999
           ],
           "textposition": "auto",
           "x": [
            "HP",
            "Ataque",
            "Defensa",
            "Atq. Esp.",
            "Def. Esp.",
            "Velocidad"
           ],
           "y": [
            54.51,
            57.269999999999996,
            69.0,
            58.65,
            72.44999999999999,
            53.81999999999999
           ],
           "type": "bar"
          }
         ]
        },
        {
         "data": [
          {
           "marker": {
            "color": "rgba(75, 192, 192, 0.8)"
           },
           "name": "Charizard",
           "opacity": 0.8,
           "text": [
            54.599999999999994,
            58.8,
            54.599999999999994,
            76.3,
            59.49999999999999,
            70.0
           ],
           "textposition": "auto",
           "x": [
            "HP",
            "Ataque",
            "Defensa",
            "Atq. Esp.",
            "Def. Esp.",
            "Velocidad"
           ],
           "y": [
            54.599999999999994,
            58.8,
            54.599999999999994,
            76.3,
            59.49999999999999,
            70.0
           ],
           "type": "bar"
          },
          {
           "marker": {
            "color": "rgba(255, 99, 71, 0.8)"
           },
           "name": "Blastoise",
           "opacity": 0.8,
           "text": [
            55.3,
            58.099999999999994,
            70.0,
            59.49999999999999,
            73.5,
            54.599999999999994
           ],
           "textposition": "auto",
           "x": [
            "HP",
            "Ataque",
            "Defensa",
            "Atq. Esp.",
            "Def. Esp.",
            "Velocidad"
           ],
           "y": [
            55.3,
            58.099999999999994,
            70.0,
            59.49999999999999,
            73.5,
            54.599999999999994
           ],
           "type": "bar"
          }
         ]
        },
        {
         "data": [
          {
           "marker": {
            "color": "rgba(75, 192, 192, 0.8)"
           },
           "name": "Charizard",
           "opacity": 0.8,
           "text": [
            55.379999999999995,
            59.64,
            55.379999999999995,
            77.39,
            60.349999999999994,
            71.0
           ],
           "textposition": "auto",
           "x": [
            "HP",
            "Ataque",
            "Defensa",
            "Atq. Esp.",
            "Def. Esp.",
            "Velocidad"
           ],
           "y": [
            55.379999999999995,
            59.64,
            55.379999999999995,
            77.39,
            60.349999999999994,
            71.0
           ],
           "type": "bar"
          },
          {
           "marker": {
            "color": "rgba(255, 99, 71, 0.8)"
           },
           "name": "Blastoise",
           "opacity": 0.8,
           "text": [
            56.089999999999996,
            58.93,
            71.0,
            60.349999999999994,
            74.55,
            55.379999999999995
           ],
           "textposition": "auto",
           "x": [
            "HP",
            "Ataque",
            "Defensa",
            "Atq. Esp.",
            "Def. Esp.",
            "Velocidad"
           ],
           "y": [
            56.089999999999996,
            58.93,
            71.0,
            60.349999999999994,
            74.55,
            55.379999999999995
           ],
           "type": "bar"
          }
         ]
        },
        {
         "data": [
          {
           "marker": {
            "color": "rgba(75, 192, 192, 0.8)"
           },
           "name": "Charizard",
           "opacity": 0.8,
           "text": [
            56.16,
            60.48,
            56.16,
            78.48,
            61.199999999999996,
            72.0
           ],
           "textposition": "auto",
           "x": [
            "HP",
            "Ataque",
            "Defensa",
            "Atq. Esp.",
            "Def. Esp.",
            "Velocidad"
           ],
           "y": [
            56.16,
            60.48,
            56.16,
            78.48,
            61.199999999999996,
            72.0
           ],
           "type": "bar"
          },
          {
           "marker": {
            "color": "rgba(255, 99, 71, 0.8)"
           },
           "name": "Blastoise",
           "opacity": 0.8,
           "text": [
            56.879999999999995,
            59.76,
            72.0,
            61.199999999999996,
            75.6,
            56.16
           ],
           "textposition": "auto",
           "x": [
            "HP",
            "Ataque",
            "Defensa",
            "Atq. Esp.",
            "Def. Esp.",
            "Velocidad"
           ],
           "y": [
            56.879999999999995,
            59.76,
            72.0,
            61.199999999999996,
            75.6,
            56.16
           ],
           "type": "bar"
          }
         ]
        },
        {
         "data": [
          {
           "marker": {
            "color": "rgba(75, 192, 192, 0.8)"
           },
           "name": "Charizard",
           "opacity": 0.8,
           "text": [
            56.94,
            61.32,
            56.94,
            79.57,
            62.05,
            73.0
           ],
           "textposition": "auto",
           "x": [
            "HP",
            "Ataque",
            "Defensa",
            "Atq. Esp.",
            "Def. Esp.",
            "Velocidad"
           ],
           "y": [
            56.94,
            61.32,
            56.94,
            79.57,
            62.05,
            73.0
           ],
           "type": "bar"
          },
          {
           "marker": {
            "color": "rgba(255, 99, 71, 0.8)"
           },
           "name": "Blastoise",
           "opacity": 0.8,
           "text": [
            57.67,
            60.589999999999996,
            73.0,
            62.05,
            76.64999999999999,
            56.94
           ],
           "textposition": "auto",
           "x": [
            "HP",
            "Ataque",
            "Defensa",
            "Atq. Esp.",
            "Def. Esp.",
            "Velocidad"
           ],
           "y": [
            57.67,
            60.589999999999996,
            73.0,
            62.05,
            76.64999999999999,
            56.94
           ],
           "type": "bar"
          }
         ]
        },
        {
         "data": [
          {
           "marker": {
            "color": "rgba(75, 192, 192, 0.8)"
           },
           "name": "Charizard",
           "opacity": 0.8,
           "text": [
            57.72,
            62.16,
            57.72,
            80.66,
            62.9,
            74.0
           ],
           "textposition": "auto",
           "x": [
            "HP",
            "Ataque",
            "Defensa",
            "Atq. Esp.",
            "Def. Esp.",
            "Velocidad"
           ],
           "y": [
            57.72,
            62.16,
            57.72,
            80.66,
            62.9,
            74.0
           ],
           "type": "bar"
          },
          {
           "marker": {
            "color": "rgba(255, 99, 71, 0.8)"
           },
           "name": "Blastoise",
           "opacity": 0.8,
           "text": [
            58.46,
            61.42,
            74.0,
            62.9,
            77.7,
            57.72
           ],
           "textposition": "auto",
           "x": [
            "HP",
            "Ataque",
            "Defensa",
            "Atq. Esp.",
            "Def. Esp.",
            "Velocidad"
           ],
           "y": [
            58.46,
            61.42,
            74.0,
            62.9,
            77.7,
            57.72
           ],
           "type": "bar"
          }
         ]
        },
        {
         "data": [
          {
           "marker": {
            "color": "rgba(75, 192, 192, 0.8)"
           },
           "name": "Charizard",
           "opacity": 0.8,
           "text": [
            58.5,
            63.0,
            58.5,
            81.75,
            63.75,
            75.0
           ],
           "textposition": "auto",
           "x": [
            "HP",
            "Ataque",
            "Defensa",
            "Atq. Esp.",
            "Def. Esp.",
            "Velocidad"
           ],
           "y": [
            58.5,
            63.0,
            58.5,
            81.75,
            63.75,
            75.0
           ],
           "type": "bar"
          },
          {
           "marker": {
            "color": "rgba(255, 99, 71, 0.8)"
           },
           "name": "Blastoise",
           "opacity": 0.8,
           "text": [
            59.25,
            62.25,
            75.0,
            63.75,
            78.75,
            58.5
           ],
           "textposition": "auto",
           "x": [
            "HP",
            "Ataque",
            "Defensa",
            "Atq. Esp.",
            "Def. Esp.",
            "Velocidad"
           ],
           "y": [
            59.25,
            62.25,
            75.0,
            63.75,
            78.75,
            58.5
           ],
           "type": "bar"
          }
         ]
        },
        {
         "data": [
          {
           "marker": {
            "color": "rgba(75, 192, 192, 0.8)"
           },
           "name": "Charizard",
           "opacity": 0.8,
           "text": [
            59.28,
            63.84,
            59.28,
            82.84,
            64.6,
            76.0
           ],
           "textposition": "auto",
           "x": [
            "HP",
            "Ataque",
            "Defensa",
            "Atq. Esp.",
            "Def. Esp.",
            "Velocidad"
           ],
           "y": [
            59.28,
            63.84,
            59.28,
            82.84,
            64.6,
            76.0
           ],
           "type": "bar"
          },
          {
           "marker": {
            "color": "rgba(255, 99, 71, 0.8)"
           },
           "name": "Blastoise",
           "opacity": 0.8,
           "text": [
            60.04,
            63.08,
            76.0,
            64.6,
            79.8,
            59.28
           ],
           "textposition": "auto",
           "x": [
            "HP",
            "Ataque",
            "Defensa",
            "Atq. Esp.",
            "Def. Esp.",
            "Velocidad"
           ],
           "y": [
            60.04,
            63.08,
            76.0,
            64.6,
            79.8,
            59.28
           ],
           "type": "bar"
          }
         ]
        },
        {
         "data": [
          {
           "marker": {
            "color": "rgba(75, 192, 192, 0.8)"
           },
           "name": "Charizard",
           "opacity": 0.8,
           "text": [
            60.06,
            64.68,
            60.06,
            83.93,
            65.45,
            77.0
           ],
           "textposition": "auto",
           "x": [
            "HP",
            "Ataque",
            "Defensa",
            "Atq. Esp.",
            "Def. Esp.",
            "Velocidad"
           ],
           "y": [
            60.06,
            64.68,
            60.06,
            83.93,
            65.45,
            77.0
           ],
           "type": "bar"
          },
          {
           "marker": {
            "color": "rgba(255, 99, 71, 0.8)"
           },
           "name": "Blastoise",
           "opacity": 0.8,
           "text": [
            60.83,
            63.910000000000004,
            77.0,
            65.45,
            80.85000000000001,
            60.06
           ],
           "textposition": "auto",
           "x": [
            "HP",
            "Ataque",
            "Defensa",
            "Atq. Esp.",
            "Def. Esp.",
            "Velocidad"
           ],
           "y": [
            60.83,
            63.910000000000004,
            77.0,
            65.45,
            80.85000000000001,
            60.06
           ],
           "type": "bar"
          }
         ]
        },
        {
         "data": [
          {
           "marker": {
            "color": "rgba(75, 192, 192, 0.8)"
           },
           "name": "Charizard",
           "opacity": 0.8,
           "text": [
            60.84,
            65.52,
            60.84,
            85.02,
            66.3,
            78.0
           ],
           "textposition": "auto",
           "x": [
            "HP",
            "Ataque",
            "Defensa",
            "Atq. Esp.",
            "Def. Esp.",
            "Velocidad"
           ],
           "y": [
            60.84,
            65.52,
            60.84,
            85.02,
            66.3,
            78.0
           ],
           "type": "bar"
          },
          {
           "marker": {
            "color": "rgba(255, 99, 71, 0.8)"
           },
           "name": "Blastoise",
           "opacity": 0.8,
           "text": [
            61.620000000000005,
            64.74000000000001,
            78.0,
            66.3,
            81.9,
            60.84
           ],
           "textposition": "auto",
           "x": [
            "HP",
            "Ataque",
            "Defensa",
            "Atq. Esp.",
            "Def. Esp.",
            "Velocidad"
           ],
           "y": [
            61.620000000000005,
            64.74000000000001,
            78.0,
            66.3,
            81.9,
            60.84
           ],
           "type": "bar"
          }
         ]
        },
        {
         "data": [
          {
           "marker": {
            "color": "rgba(75, 192, 192, 0.8)"
           },
           "name": "Charizard",
           "opacity": 0.8,
           "text": [
            61.620000000000005,
            66.36,
            61.620000000000005,
            86.11,
            67.15,
            79.0
           ],
           "textposition": "auto",
           "x": [
            "HP",
            "Ataque",
            "Defensa",
            "Atq. Esp.",
            "Def. Esp.",
            "Velocidad"
           ],
           "y": [
            61.620000000000005,
            66.36,
            61.620000000000005,
            86.11,
            67.15,
            79.0
           ],
           "type": "bar"
          },
          {
           "marker": {
            "color": "rgba(255, 99, 71, 0.8)"
           },
           "name": "Blastoise",
           "opacity": 0.8,
           "text": [
            62.410000000000004,
            65.57000000000001,
            79.0,
            67.15,
            82.95,
            61.620000000000005
           ],
           "textposition": "auto",
           "x": [
            "HP",
            "Ataque",
            "Defensa",
            "Atq. Esp.",
            "Def. Esp.",
            "Velocidad"
           ],
           "y": [
            62.410000000000004,
            65.57000000000001,
            79.0,
            67.15,
            82.95,
            61.620000000000005
           ],
           "type": "bar"
          }
         ]
        },
        {
         "data": [
          {
           "marker": {
            "color": "rgba(75, 192, 192, 0.8)"
           },
           "name": "Charizard",
           "opacity": 0.8,
           "text": [
            62.400000000000006,
            67.2,
            62.400000000000006,
            87.2,
            68.0,
            80.0
           ],
           "textposition": "auto",
           "x": [
            "HP",
            "Ataque",
            "Defensa",
            "Atq. Esp.",
            "Def. Esp.",
            "Velocidad"
           ],
           "y": [
            62.400000000000006,
            67.2,
            62.400000000000006,
            87.2,
            68.0,
            80.0
           ],
           "type": "bar"
          },
          {
           "marker": {
            "color": "rgba(255, 99, 71, 0.8)"
           },
           "name": "Blastoise",
           "opacity": 0.8,
           "text": [
            63.2,
            66.4,
            80.0,
            68.0,
            84.0,
            62.400000000000006
           ],
           "textposition": "auto",
           "x": [
            "HP",
            "Ataque",
            "Defensa",
            "Atq. Esp.",
            "Def. Esp.",
            "Velocidad"
           ],
           "y": [
            63.2,
            66.4,
            80.0,
            68.0,
            84.0,
            62.400000000000006
           ],
           "type": "bar"
          }
         ]
        },
        {
         "data": [
          {
           "marker": {
            "color": "rgba(75, 192, 192, 0.8)"
           },
           "name": "Charizard",
           "opacity": 0.8,
           "text": [
            63.18000000000001,
            68.04,
            63.18000000000001,
            88.29,
            68.85000000000001,
            81.0
           ],
           "textposition": "auto",
           "x": [
            "HP",
            "Ataque",
            "Defensa",
            "Atq. Esp.",
            "Def. Esp.",
            "Velocidad"
           ],
           "y": [
            63.18000000000001,
            68.04,
            63.18000000000001,
            88.29,
            68.85000000000001,
            81.0
           ],
           "type": "bar"
          },
          {
           "marker": {
            "color": "rgba(255, 99, 71, 0.8)"
           },
           "name": "Blastoise",
           "opacity": 0.8,
           "text": [
            63.99,
            67.23,
            81.0,
            68.85000000000001,
            85.05000000000001,
            63.18000000000001
           ],
           "textposition": "auto",
           "x": [
            "HP",
            "Ataque",
            "Defensa",
            "Atq. Esp.",
            "Def. Esp.",
            "Velocidad"
           ],
           "y": [
            63.99,
            67.23,
            81.0,
            68.85000000000001,
            85.05000000000001,
            63.18000000000001
           ],
           "type": "bar"
          }
         ]
        },
        {
         "data": [
          {
           "marker": {
            "color": "rgba(75, 192, 192, 0.8)"
           },
           "name": "Charizard",
           "opacity": 0.8,
           "text": [
            63.959999999999994,
            68.88,
            63.959999999999994,
            89.38,
            69.7,
            82.0
           ],
           "textposition": "auto",
           "x": [
            "HP",
            "Ataque",
            "Defensa",
            "Atq. Esp.",
            "Def. Esp.",
            "Velocidad"
           ],
           "y": [
            63.959999999999994,
            68.88,
            63.959999999999994,
            89.38,
            69.7,
            82.0
           ],
           "type": "bar"
          },
          {
           "marker": {
            "color": "rgba(255, 99, 71, 0.8)"
           },
           "name": "Blastoise",
           "opacity": 0.8,
           "text": [
            64.78,
            68.06,
            82.0,
            69.7,
            86.1,
            63.959999999999994
           ],
           "textposition": "auto",
           "x": [
            "HP",
            "Ataque",
            "Defensa",
            "Atq. Esp.",
            "Def. Esp.",
            "Velocidad"
           ],
           "y": [
            64.78,
            68.06,
            82.0,
            69.7,
            86.1,
            63.959999999999994
           ],
           "type": "bar"
          }
         ]
        },
        {
         "data": [
          {
           "marker": {
            "color": "rgba(75, 192, 192, 0.8)"
           },
           "name": "Charizard",
           "opacity": 0.8,
           "text": [
            64.74,
            69.72,
            64.74,
            90.47,
            70.55,
            83.0
           ],
           "textposition": "auto",
           "x": [
            "HP",
            "Ataque",
            "Defensa",
            "Atq. Esp.",
            "Def. Esp.",
            "Velocidad"
           ],
           "y": [
            64.74,
            69.72,
            64.74,
            90.47,
            70.55,
            83.0
           ],
           "type": "bar"
          },
          {
           "marker": {
            "color": "rgba(255, 99, 71, 0.8)"
           },
           "name": "Blastoise",
           "opacity": 0.8,
           "text": [
            65.57,
            68.89,
            83.0,
            70.55,
            87.14999999999999,
            64.74
           ],
           "textposition": "auto",
           "x": [
            "HP",
            "Ataque",
            "Defensa",
            "Atq. Esp.",
            "Def. Esp.",
            "Velocidad"
           ],
           "y": [
            65.57,
            68.89,
            83.0,
            70.55,
            87.14999999999999,
            64.74
           ],
           "type": "bar"
          }
         ]
        },
        {
         "data": [
          {
           "marker": {
            "color": "rgba(75, 192, 192, 0.8)"
           },
           "name": "Charizard",
           "opacity": 0.8,
           "text": [
            65.52,
            70.56,
            65.52,
            91.56,
            71.39999999999999,
            84.0
           ],
           "textposition": "auto",
           "x": [
            "HP",
            "Ataque",
            "Defensa",
            "Atq. Esp.",
            "Def. Esp.",
            "Velocidad"
           ],
           "y": [
            65.52,
            70.56,
            65.52,
            91.56,
            71.39999999999999,
            84.0
           ],
           "type": "bar"
          },
          {
           "marker": {
            "color": "rgba(255, 99, 71, 0.8)"
           },
           "name": "Blastoise",
           "opacity": 0.8,
           "text": [
            66.36,
            69.72,
            84.0,
            71.39999999999999,
            88.2,
            65.52
           ],
           "textposition": "auto",
           "x": [
            "HP",
            "Ataque",
            "Defensa",
            "Atq. Esp.",
            "Def. Esp.",
            "Velocidad"
           ],
           "y": [
            66.36,
            69.72,
            84.0,
            71.39999999999999,
            88.2,
            65.52
           ],
           "type": "bar"
          }
         ]
        },
        {
         "data": [
          {
           "marker": {
            "color": "rgba(75, 192, 192, 0.8)"
           },
           "name": "Charizard",
           "opacity": 0.8,
           "text": [
            66.3,
            71.39999999999999,
            66.3,
            92.64999999999999,
            72.25,
            85.0
           ],
           "textposition": "auto",
           "x": [
            "HP",
            "Ataque",
            "Defensa",
            "Atq. Esp.",
            "Def. Esp.",
            "Velocidad"
           ],
           "y": [
            66.3,
            71.39999999999999,
            66.3,
            92.64999999999999,
            72.25,
            85.0
           ],
           "type": "bar"
          },
          {
           "marker": {
            "color": "rgba(255, 99, 71, 0.8)"
           },
           "name": "Blastoise",
           "opacity": 0.8,
           "text": [
            67.14999999999999,
            70.55,
            85.0,
            72.25,
            89.25,
            66.3
           ],
           "textposition": "auto",
           "x": [
            "HP",
            "Ataque",
            "Defensa",
            "Atq. Esp.",
            "Def. Esp.",
            "Velocidad"
           ],
           "y": [
            67.14999999999999,
            70.55,
            85.0,
            72.25,
            89.25,
            66.3
           ],
           "type": "bar"
          }
         ]
        },
        {
         "data": [
          {
           "marker": {
            "color": "rgba(75, 192, 192, 0.8)"
           },
           "name": "Charizard",
           "opacity": 0.8,
           "text": [
            67.08,
            72.24,
            67.08,
            93.74,
            73.1,
            86.0
           ],
           "textposition": "auto",
           "x": [
            "HP",
            "Ataque",
            "Defensa",
            "Atq. Esp.",
            "Def. Esp.",
            "Velocidad"
           ],
           "y": [
            67.08,
            72.24,
            67.08,
            93.74,
            73.1,
            86.0
           ],
           "type": "bar"
          },
          {
           "marker": {
            "color": "rgba(255, 99, 71, 0.8)"
           },
           "name": "Blastoise",
           "opacity": 0.8,
           "text": [
            67.94,
            71.38,
            86.0,
            73.1,
            90.3,
            67.08
           ],
           "textposition": "auto",
           "x": [
            "HP",
            "Ataque",
            "Defensa",
            "Atq. Esp.",
            "Def. Esp.",
            "Velocidad"
           ],
           "y": [
            67.94,
            71.38,
            86.0,
            73.1,
            90.3,
            67.08
           ],
           "type": "bar"
          }
         ]
        },
        {
         "data": [
          {
           "marker": {
            "color": "rgba(75, 192, 192, 0.8)"
           },
           "name": "Charizard",
           "opacity": 0.8,
           "text": [
            67.86,
            73.08,
            67.86,
            94.83,
            73.95,
            87.0
           ],
           "textposition": "auto",
           "x": [
            "HP",
            "Ataque",
            "Defensa",
            "Atq. Esp.",
            "Def. Esp.",
            "Velocidad"
           ],
           "y": [
            67.86,
            73.08,
            67.86,
            94.83,
            73.95,
            87.0
           ],
           "type": "bar"
          },
          {
           "marker": {
            "color": "rgba(255, 99, 71, 0.8)"
           },
           "name": "Blastoise",
           "opacity": 0.8,
           "text": [
            68.73,
            72.21,
            87.0,
            73.95,
            91.35,
            67.86
           ],
           "textposition": "auto",
           "x": [
            "HP",
            "Ataque",
            "Defensa",
            "Atq. Esp.",
            "Def. Esp.",
            "Velocidad"
           ],
           "y": [
            68.73,
            72.21,
            87.0,
            73.95,
            91.35,
            67.86
           ],
           "type": "bar"
          }
         ]
        },
        {
         "data": [
          {
           "marker": {
            "color": "rgba(75, 192, 192, 0.8)"
           },
           "name": "Charizard",
           "opacity": 0.8,
           "text": [
            68.64,
            73.92,
            68.64,
            95.92,
            74.8,
            88.0
           ],
           "textposition": "auto",
           "x": [
            "HP",
            "Ataque",
            "Defensa",
            "Atq. Esp.",
            "Def. Esp.",
            "Velocidad"
           ],
           "y": [
            68.64,
            73.92,
            68.64,
            95.92,
            74.8,
            88.0
           ],
           "type": "bar"
          },
          {
           "marker": {
            "color": "rgba(255, 99, 71, 0.8)"
           },
           "name": "Blastoise",
           "opacity": 0.8,
           "text": [
            69.52,
            73.04,
            88.0,
            74.8,
            92.4,
            68.64
           ],
           "textposition": "auto",
           "x": [
            "HP",
            "Ataque",
            "Defensa",
            "Atq. Esp.",
            "Def. Esp.",
            "Velocidad"
           ],
           "y": [
            69.52,
            73.04,
            88.0,
            74.8,
            92.4,
            68.64
           ],
           "type": "bar"
          }
         ]
        },
        {
         "data": [
          {
           "marker": {
            "color": "rgba(75, 192, 192, 0.8)"
           },
           "name": "Charizard",
           "opacity": 0.8,
           "text": [
            69.42,
            74.76,
            69.42,
            97.01,
            75.65,
            89.0
           ],
           "textposition": "auto",
           "x": [
            "HP",
            "Ataque",
            "Defensa",
            "Atq. Esp.",
            "Def. Esp.",
            "Velocidad"
           ],
           "y": [
            69.42,
            74.76,
            69.42,
            97.01,
            75.65,
            89.0
           ],
           "type": "bar"
          },
          {
           "marker": {
            "color": "rgba(255, 99, 71, 0.8)"
           },
           "name": "Blastoise",
           "opacity": 0.8,
           "text": [
            70.31,
            73.87,
            89.0,
            75.65,
            93.45,
            69.42
           ],
           "textposition": "auto",
           "x": [
            "HP",
            "Ataque",
            "Defensa",
            "Atq. Esp.",
            "Def. Esp.",
            "Velocidad"
           ],
           "y": [
            70.31,
            73.87,
            89.0,
            75.65,
            93.45,
            69.42
           ],
           "type": "bar"
          }
         ]
        },
        {
         "data": [
          {
           "marker": {
            "color": "rgba(75, 192, 192, 0.8)"
           },
           "name": "Charizard",
           "opacity": 0.8,
           "text": [
            70.2,
            75.60000000000001,
            70.2,
            98.10000000000001,
            76.5,
            90.0
           ],
           "textposition": "auto",
           "x": [
            "HP",
            "Ataque",
            "Defensa",
            "Atq. Esp.",
            "Def. Esp.",
            "Velocidad"
           ],
           "y": [
            70.2,
            75.60000000000001,
            70.2,
            98.10000000000001,
            76.5,
            90.0
           ],
           "type": "bar"
          },
          {
           "marker": {
            "color": "rgba(255, 99, 71, 0.8)"
           },
           "name": "Blastoise",
           "opacity": 0.8,
           "text": [
            71.10000000000001,
            74.7,
            90.0,
            76.5,
            94.5,
            70.2
           ],
           "textposition": "auto",
           "x": [
            "HP",
            "Ataque",
            "Defensa",
            "Atq. Esp.",
            "Def. Esp.",
            "Velocidad"
           ],
           "y": [
            71.10000000000001,
            74.7,
            90.0,
            76.5,
            94.5,
            70.2
           ],
           "type": "bar"
          }
         ]
        },
        {
         "data": [
          {
           "marker": {
            "color": "rgba(75, 192, 192, 0.8)"
           },
           "name": "Charizard",
           "opacity": 0.8,
           "text": [
            70.98,
            76.44,
            70.98,
            99.19,
            77.35000000000001,
            91.0
           ],
           "textposition": "auto",
           "x": [
            "HP",
            "Ataque",
            "Defensa",
            "Atq. Esp.",
            "Def. Esp.",
            "Velocidad"
           ],
           "y": [
            70.98,
            76.44,
            70.98,
            99.19,
            77.35000000000001,
            91.0
           ],
           "type": "bar"
          },
          {
           "marker": {
            "color": "rgba(255, 99, 71, 0.8)"
           },
           "name": "Blastoise",
           "opacity": 0.8,
           "text": [
            71.89,
            75.53,
            91.0,
            77.35000000000001,
            95.55,
            70.98
           ],
           "textposition": "auto",
           "x": [
            "HP",
            "Ataque",
            "Defensa",
            "Atq. Esp.",
            "Def. Esp.",
            "Velocidad"
           ],
           "y": [
            71.89,
            75.53,
            91.0,
            77.35000000000001,
            95.55,
            70.98
           ],
           "type": "bar"
          }
         ]
        },
        {
         "data": [
          {
           "marker": {
            "color": "rgba(75, 192, 192, 0.8)"
           },
           "name": "Charizard",
           "opacity": 0.8,
           "text": [
            71.76,
            77.28,
            71.76,
            100.28,
            78.2,
            92.0
           ],
           "textposition": "auto",
           "x": [
            "HP",
            "Ataque",
            "Defensa",
            "Atq. Esp.",
            "Def. Esp.",
            "Velocidad"
           ],
           "y": [
            71.76,
            77.28,
            71.76,
            100.28,
            78.2,
            92.0
           ],
           "type": "bar"
          },
          {
           "marker": {
            "color": "rgba(255, 99, 71, 0.8)"
           },
           "name": "Blastoise",
           "opacity": 0.8,
           "text": [
            72.68,
            76.36,
            92.0,
            78.2,
            96.60000000000001,
            71.76
           ],
           "textposition": "auto",
           "x": [
            "HP",
            "Ataque",
            "Defensa",
            "Atq. Esp.",
            "Def. Esp.",
            "Velocidad"
           ],
           "y": [
            72.68,
            76.36,
            92.0,
            78.2,
            96.60000000000001,
            71.76
           ],
           "type": "bar"
          }
         ]
        },
        {
         "data": [
          {
           "marker": {
            "color": "rgba(75, 192, 192, 0.8)"
           },
           "name": "Charizard",
           "opacity": 0.8,
           "text": [
            72.54,
            78.12,
            72.54,
            101.37,
            79.05,
            93.0
           ],
           "textposition": "auto",
           "x": [
            "HP",
            "Ataque",
            "Defensa",
            "Atq. Esp.",
            "Def. Esp.",
            "Velocidad"
           ],
           "y": [
            72.54,
            78.12,
            72.54,
            101.37,
            79.05,
            93.0
           ],
           "type": "bar"
          },
          {
           "marker": {
            "color": "rgba(255, 99, 71, 0.8)"
           },
           "name": "Blastoise",
           "opacity": 0.8,
           "text": [
            73.47,
            77.19,
            93.0,
            79.05,
            97.65,
            72.54
           ],
           "textposition": "auto",
           "x": [
            "HP",
            "Ataque",
            "Defensa",
            "Atq. Esp.",
            "Def. Esp.",
            "Velocidad"
           ],
           "y": [
            73.47,
            77.19,
            93.0,
            79.05,
            97.65,
            72.54
           ],
           "type": "bar"
          }
         ]
        },
        {
         "data": [
          {
           "marker": {
            "color": "rgba(75, 192, 192, 0.8)"
           },
           "name": "Charizard",
           "opacity": 0.8,
           "text": [
            73.32,
            78.96,
            73.32,
            102.46,
            79.89999999999999,
            94.0
           ],
           "textposition": "auto",
           "x": [
            "HP",
            "Ataque",
            "Defensa",
            "Atq. Esp.",
            "Def. Esp.",
            "Velocidad"
           ],
           "y": [
            73.32,
            78.96,
            73.32,
            102.46,
            79.89999999999999,
            94.0
           ],
           "type": "bar"
          },
          {
           "marker": {
            "color": "rgba(255, 99, 71, 0.8)"
           },
           "name": "Blastoise",
           "opacity": 0.8,
           "text": [
            74.25999999999999,
            78.02,
            94.0,
            79.89999999999999,
            98.69999999999999,
            73.32
           ],
           "textposition": "auto",
           "x": [
            "HP",
            "Ataque",
            "Defensa",
            "Atq. Esp.",
            "Def. Esp.",
            "Velocidad"
           ],
           "y": [
            74.25999999999999,
            78.02,
            94.0,
            79.89999999999999,
            98.69999999999999,
            73.32
           ],
           "type": "bar"
          }
         ]
        },
        {
         "data": [
          {
           "marker": {
            "color": "rgba(75, 192, 192, 0.8)"
           },
           "name": "Charizard",
           "opacity": 0.8,
           "text": [
            74.1,
            79.8,
            74.1,
            103.55,
            80.75,
            95.0
           ],
           "textposition": "auto",
           "x": [
            "HP",
            "Ataque",
            "Defensa",
            "Atq. Esp.",
            "Def. Esp.",
            "Velocidad"
           ],
           "y": [
            74.1,
            79.8,
            74.1,
            103.55,
            80.75,
            95.0
           ],
           "type": "bar"
          },
          {
           "marker": {
            "color": "rgba(255, 99, 71, 0.8)"
           },
           "name": "Blastoise",
           "opacity": 0.8,
           "text": [
            75.05,
            78.85,
            95.0,
            80.75,
            99.75,
            74.1
           ],
           "textposition": "auto",
           "x": [
            "HP",
            "Ataque",
            "Defensa",
            "Atq. Esp.",
            "Def. Esp.",
            "Velocidad"
           ],
           "y": [
            75.05,
            78.85,
            95.0,
            80.75,
            99.75,
            74.1
           ],
           "type": "bar"
          }
         ]
        },
        {
         "data": [
          {
           "marker": {
            "color": "rgba(75, 192, 192, 0.8)"
           },
           "name": "Charizard",
           "opacity": 0.8,
           "text": [
            74.88,
            80.64,
            74.88,
            104.64,
            81.6,
            96.0
           ],
           "textposition": "auto",
           "x": [
            "HP",
            "Ataque",
            "Defensa",
            "Atq. Esp.",
            "Def. Esp.",
            "Velocidad"
           ],
           "y": [
            74.88,
            80.64,
            74.88,
            104.64,
            81.6,
            96.0
           ],
           "type": "bar"
          },
          {
           "marker": {
            "color": "rgba(255, 99, 71, 0.8)"
           },
           "name": "Blastoise",
           "opacity": 0.8,
           "text": [
            75.84,
            79.67999999999999,
            96.0,
            81.6,
            100.8,
            74.88
           ],
           "textposition": "auto",
           "x": [
            "HP",
            "Ataque",
            "Defensa",
            "Atq. Esp.",
            "Def. Esp.",
            "Velocidad"
           ],
           "y": [
            75.84,
            79.67999999999999,
            96.0,
            81.6,
            100.8,
            74.88
           ],
           "type": "bar"
          }
         ]
        },
        {
         "data": [
          {
           "marker": {
            "color": "rgba(75, 192, 192, 0.8)"
           },
           "name": "Charizard",
           "opacity": 0.8,
           "text": [
            75.66,
            81.48,
            75.66,
            105.73,
            82.45,
            97.0
           ],
           "textposition": "auto",
           "x": [
            "HP",
            "Ataque",
            "Defensa",
            "Atq. Esp.",
            "Def. Esp.",
            "Velocidad"
           ],
           "y": [
            75.66,
            81.48,
            75.66,
            105.73,
            82.45,
            97.0
           ],
           "type": "bar"
          },
          {
           "marker": {
            "color": "rgba(255, 99, 71, 0.8)"
           },
           "name": "Blastoise",
           "opacity": 0.8,
           "text": [
            76.63,
            80.50999999999999,
            97.0,
            82.45,
            101.85,
            75.66
           ],
           "textposition": "auto",
           "x": [
            "HP",
            "Ataque",
            "Defensa",
            "Atq. Esp.",
            "Def. Esp.",
            "Velocidad"
           ],
           "y": [
            76.63,
            80.50999999999999,
            97.0,
            82.45,
            101.85,
            75.66
           ],
           "type": "bar"
          }
         ]
        },
        {
         "data": [
          {
           "marker": {
            "color": "rgba(75, 192, 192, 0.8)"
           },
           "name": "Charizard",
           "opacity": 0.8,
           "text": [
            76.44,
            82.32,
            76.44,
            106.82,
            83.3,
            98.0
           ],
           "textposition": "auto",
           "x": [
            "HP",
            "Ataque",
            "Defensa",
            "Atq. Esp.",
            "Def. Esp.",
            "Velocidad"
           ],
           "y": [
            76.44,
            82.32,
            76.44,
            106.82,
            83.3,
            98.0
           ],
           "type": "bar"
          },
          {
           "marker": {
            "color": "rgba(255, 99, 71, 0.8)"
           },
           "name": "Blastoise",
           "opacity": 0.8,
           "text": [
            77.42,
            81.34,
            98.0,
            83.3,
            102.89999999999999,
            76.44
           ],
           "textposition": "auto",
           "x": [
            "HP",
            "Ataque",
            "Defensa",
            "Atq. Esp.",
            "Def. Esp.",
            "Velocidad"
           ],
           "y": [
            77.42,
            81.34,
            98.0,
            83.3,
            102.89999999999999,
            76.44
           ],
           "type": "bar"
          }
         ]
        },
        {
         "data": [
          {
           "marker": {
            "color": "rgba(75, 192, 192, 0.8)"
           },
           "name": "Charizard",
           "opacity": 0.8,
           "text": [
            77.22,
            83.16,
            77.22,
            107.91,
            84.15,
            99.0
           ],
           "textposition": "auto",
           "x": [
            "HP",
            "Ataque",
            "Defensa",
            "Atq. Esp.",
            "Def. Esp.",
            "Velocidad"
           ],
           "y": [
            77.22,
            83.16,
            77.22,
            107.91,
            84.15,
            99.0
           ],
           "type": "bar"
          },
          {
           "marker": {
            "color": "rgba(255, 99, 71, 0.8)"
           },
           "name": "Blastoise",
           "opacity": 0.8,
           "text": [
            78.21,
            82.17,
            99.0,
            84.15,
            103.95,
            77.22
           ],
           "textposition": "auto",
           "x": [
            "HP",
            "Ataque",
            "Defensa",
            "Atq. Esp.",
            "Def. Esp.",
            "Velocidad"
           ],
           "y": [
            78.21,
            82.17,
            99.0,
            84.15,
            103.95,
            77.22
           ],
           "type": "bar"
          }
         ]
        },
        {
         "data": [
          {
           "marker": {
            "color": "rgba(75, 192, 192, 0.8)"
           },
           "name": "Charizard",
           "opacity": 0.8,
           "text": [
            78.0,
            84.0,
            78.0,
            109.0,
            85.0,
            100.0
           ],
           "textposition": "auto",
           "x": [
            "HP",
            "Ataque",
            "Defensa",
            "Atq. Esp.",
            "Def. Esp.",
            "Velocidad"
           ],
           "y": [
            78.0,
            84.0,
            78.0,
            109.0,
            85.0,
            100.0
           ],
           "type": "bar"
          },
          {
           "marker": {
            "color": "rgba(255, 99, 71, 0.8)"
           },
           "name": "Blastoise",
           "opacity": 0.8,
           "text": [
            79.0,
            83.0,
            100.0,
            85.0,
            105.0,
            78.0
           ],
           "textposition": "auto",
           "x": [
            "HP",
            "Ataque",
            "Defensa",
            "Atq. Esp.",
            "Def. Esp.",
            "Velocidad"
           ],
           "y": [
            79.0,
            83.0,
            100.0,
            85.0,
            105.0,
            78.0
           ],
           "type": "bar"
          }
         ]
        }
       ],
       "config": {
        "plotlyServerURL": "https://plot.ly"
       }
      },
      "text/html": "<div>                            <div id=\"180da653-01bf-4516-936c-78b7dc2103d8\" class=\"plotly-graph-div\" style=\"height:525px; width:100%;\"></div>            <script type=\"text/javascript\">                require([\"plotly\"], function(Plotly) {                    window.PLOTLYENV=window.PLOTLYENV || {};                                    if (document.getElementById(\"180da653-01bf-4516-936c-78b7dc2103d8\")) {                    Plotly.newPlot(                        \"180da653-01bf-4516-936c-78b7dc2103d8\",                        [{\"marker\":{\"color\":\"rgba(75, 192, 192, 0.8)\"},\"name\":\"Charizard\",\"opacity\":0.8,\"text\":[78.0,84.0,78.0,109.0,85.0,100.0],\"textposition\":\"auto\",\"x\":[\"HP\",\"Ataque\",\"Defensa\",\"Atq. Esp.\",\"Def. Esp.\",\"Velocidad\"],\"y\":[78,84,78,109,85,100],\"type\":\"bar\"},{\"marker\":{\"color\":\"rgba(255, 99, 71, 0.8)\"},\"name\":\"Blastoise\",\"opacity\":0.8,\"text\":[79.0,83.0,100.0,85.0,105.0,78.0],\"textposition\":\"auto\",\"x\":[\"HP\",\"Ataque\",\"Defensa\",\"Atq. Esp.\",\"Def. Esp.\",\"Velocidad\"],\"y\":[79,83,100,85,105,78],\"type\":\"bar\"}],                        {\"template\":{\"data\":{\"histogram2dcontour\":[{\"type\":\"histogram2dcontour\",\"colorbar\":{\"outlinewidth\":0,\"ticks\":\"\"},\"colorscale\":[[0.0,\"#0d0887\"],[0.1111111111111111,\"#46039f\"],[0.2222222222222222,\"#7201a8\"],[0.3333333333333333,\"#9c179e\"],[0.4444444444444444,\"#bd3786\"],[0.5555555555555556,\"#d8576b\"],[0.6666666666666666,\"#ed7953\"],[0.7777777777777778,\"#fb9f3a\"],[0.8888888888888888,\"#fdca26\"],[1.0,\"#f0f921\"]]}],\"choropleth\":[{\"type\":\"choropleth\",\"colorbar\":{\"outlinewidth\":0,\"ticks\":\"\"}}],\"histogram2d\":[{\"type\":\"histogram2d\",\"colorbar\":{\"outlinewidth\":0,\"ticks\":\"\"},\"colorscale\":[[0.0,\"#0d0887\"],[0.1111111111111111,\"#46039f\"],[0.2222222222222222,\"#7201a8\"],[0.3333333333333333,\"#9c179e\"],[0.4444444444444444,\"#bd3786\"],[0.5555555555555556,\"#d8576b\"],[0.6666666666666666,\"#ed7953\"],[0.7777777777777778,\"#fb9f3a\"],[0.8888888888888888,\"#fdca26\"],[1.0,\"#f0f921\"]]}],\"heatmap\":[{\"type\":\"heatmap\",\"colorbar\":{\"outlinewidth\":0,\"ticks\":\"\"},\"colorscale\":[[0.0,\"#0d0887\"],[0.1111111111111111,\"#46039f\"],[0.2222222222222222,\"#7201a8\"],[0.3333333333333333,\"#9c179e\"],[0.4444444444444444,\"#bd3786\"],[0.5555555555555556,\"#d8576b\"],[0.6666666666666666,\"#ed7953\"],[0.7777777777777778,\"#fb9f3a\"],[0.8888888888888888,\"#fdca26\"],[1.0,\"#f0f921\"]]}],\"heatmapgl\":[{\"type\":\"heatmapgl\",\"colorbar\":{\"outlinewidth\":0,\"ticks\":\"\"},\"colorscale\":[[0.0,\"#0d0887\"],[0.1111111111111111,\"#46039f\"],[0.2222222222222222,\"#7201a8\"],[0.3333333333333333,\"#9c179e\"],[0.4444444444444444,\"#bd3786\"],[0.5555555555555556,\"#d8576b\"],[0.6666666666666666,\"#ed7953\"],[0.7777777777777778,\"#fb9f3a\"],[0.8888888888888888,\"#fdca26\"],[1.0,\"#f0f921\"]]}],\"contourcarpet\":[{\"type\":\"contourcarpet\",\"colorbar\":{\"outlinewidth\":0,\"ticks\":\"\"}}],\"contour\":[{\"type\":\"contour\",\"colorbar\":{\"outlinewidth\":0,\"ticks\":\"\"},\"colorscale\":[[0.0,\"#0d0887\"],[0.1111111111111111,\"#46039f\"],[0.2222222222222222,\"#7201a8\"],[0.3333333333333333,\"#9c179e\"],[0.4444444444444444,\"#bd3786\"],[0.5555555555555556,\"#d8576b\"],[0.6666666666666666,\"#ed7953\"],[0.7777777777777778,\"#fb9f3a\"],[0.8888888888888888,\"#fdca26\"],[1.0,\"#f0f921\"]]}],\"surface\":[{\"type\":\"surface\",\"colorbar\":{\"outlinewidth\":0,\"ticks\":\"\"},\"colorscale\":[[0.0,\"#0d0887\"],[0.1111111111111111,\"#46039f\"],[0.2222222222222222,\"#7201a8\"],[0.3333333333333333,\"#9c179e\"],[0.4444444444444444,\"#bd3786\"],[0.5555555555555556,\"#d8576b\"],[0.6666666666666666,\"#ed7953\"],[0.7777777777777778,\"#fb9f3a\"],[0.8888888888888888,\"#fdca26\"],[1.0,\"#f0f921\"]]}],\"mesh3d\":[{\"type\":\"mesh3d\",\"colorbar\":{\"outlinewidth\":0,\"ticks\":\"\"}}],\"scatter\":[{\"marker\":{\"line\":{\"color\":\"#283442\"}},\"type\":\"scatter\"}],\"parcoords\":[{\"type\":\"parcoords\",\"line\":{\"colorbar\":{\"outlinewidth\":0,\"ticks\":\"\"}}}],\"scatterpolargl\":[{\"type\":\"scatterpolargl\",\"marker\":{\"colorbar\":{\"outlinewidth\":0,\"ticks\":\"\"}}}],\"bar\":[{\"error_x\":{\"color\":\"#f2f5fa\"},\"error_y\":{\"color\":\"#f2f5fa\"},\"marker\":{\"line\":{\"color\":\"rgb(17,17,17)\",\"width\":0.5},\"pattern\":{\"fillmode\":\"overlay\",\"size\":10,\"solidity\":0.2}},\"type\":\"bar\"}],\"scattergeo\":[{\"type\":\"scattergeo\",\"marker\":{\"colorbar\":{\"outlinewidth\":0,\"ticks\":\"\"}}}],\"scatterpolar\":[{\"type\":\"scatterpolar\",\"marker\":{\"colorbar\":{\"outlinewidth\":0,\"ticks\":\"\"}}}],\"histogram\":[{\"marker\":{\"pattern\":{\"fillmode\":\"overlay\",\"size\":10,\"solidity\":0.2}},\"type\":\"histogram\"}],\"scattergl\":[{\"marker\":{\"line\":{\"color\":\"#283442\"}},\"type\":\"scattergl\"}],\"scatter3d\":[{\"type\":\"scatter3d\",\"line\":{\"colorbar\":{\"outlinewidth\":0,\"ticks\":\"\"}},\"marker\":{\"colorbar\":{\"outlinewidth\":0,\"ticks\":\"\"}}}],\"scattermapbox\":[{\"type\":\"scattermapbox\",\"marker\":{\"colorbar\":{\"outlinewidth\":0,\"ticks\":\"\"}}}],\"scatterternary\":[{\"type\":\"scatterternary\",\"marker\":{\"colorbar\":{\"outlinewidth\":0,\"ticks\":\"\"}}}],\"scattercarpet\":[{\"type\":\"scattercarpet\",\"marker\":{\"colorbar\":{\"outlinewidth\":0,\"ticks\":\"\"}}}],\"carpet\":[{\"aaxis\":{\"endlinecolor\":\"#A2B1C6\",\"gridcolor\":\"#506784\",\"linecolor\":\"#506784\",\"minorgridcolor\":\"#506784\",\"startlinecolor\":\"#A2B1C6\"},\"baxis\":{\"endlinecolor\":\"#A2B1C6\",\"gridcolor\":\"#506784\",\"linecolor\":\"#506784\",\"minorgridcolor\":\"#506784\",\"startlinecolor\":\"#A2B1C6\"},\"type\":\"carpet\"}],\"table\":[{\"cells\":{\"fill\":{\"color\":\"#506784\"},\"line\":{\"color\":\"rgb(17,17,17)\"}},\"header\":{\"fill\":{\"color\":\"#2a3f5f\"},\"line\":{\"color\":\"rgb(17,17,17)\"}},\"type\":\"table\"}],\"barpolar\":[{\"marker\":{\"line\":{\"color\":\"rgb(17,17,17)\",\"width\":0.5},\"pattern\":{\"fillmode\":\"overlay\",\"size\":10,\"solidity\":0.2}},\"type\":\"barpolar\"}],\"pie\":[{\"automargin\":true,\"type\":\"pie\"}]},\"layout\":{\"autotypenumbers\":\"strict\",\"colorway\":[\"#636efa\",\"#EF553B\",\"#00cc96\",\"#ab63fa\",\"#FFA15A\",\"#19d3f3\",\"#FF6692\",\"#B6E880\",\"#FF97FF\",\"#FECB52\"],\"font\":{\"color\":\"#f2f5fa\"},\"hovermode\":\"closest\",\"hoverlabel\":{\"align\":\"left\"},\"paper_bgcolor\":\"rgb(17,17,17)\",\"plot_bgcolor\":\"rgb(17,17,17)\",\"polar\":{\"bgcolor\":\"rgb(17,17,17)\",\"angularaxis\":{\"gridcolor\":\"#506784\",\"linecolor\":\"#506784\",\"ticks\":\"\"},\"radialaxis\":{\"gridcolor\":\"#506784\",\"linecolor\":\"#506784\",\"ticks\":\"\"}},\"ternary\":{\"bgcolor\":\"rgb(17,17,17)\",\"aaxis\":{\"gridcolor\":\"#506784\",\"linecolor\":\"#506784\",\"ticks\":\"\"},\"baxis\":{\"gridcolor\":\"#506784\",\"linecolor\":\"#506784\",\"ticks\":\"\"},\"caxis\":{\"gridcolor\":\"#506784\",\"linecolor\":\"#506784\",\"ticks\":\"\"}},\"coloraxis\":{\"colorbar\":{\"outlinewidth\":0,\"ticks\":\"\"}},\"colorscale\":{\"sequential\":[[0.0,\"#0d0887\"],[0.1111111111111111,\"#46039f\"],[0.2222222222222222,\"#7201a8\"],[0.3333333333333333,\"#9c179e\"],[0.4444444444444444,\"#bd3786\"],[0.5555555555555556,\"#d8576b\"],[0.6666666666666666,\"#ed7953\"],[0.7777777777777778,\"#fb9f3a\"],[0.8888888888888888,\"#fdca26\"],[1.0,\"#f0f921\"]],\"sequentialminus\":[[0.0,\"#0d0887\"],[0.1111111111111111,\"#46039f\"],[0.2222222222222222,\"#7201a8\"],[0.3333333333333333,\"#9c179e\"],[0.4444444444444444,\"#bd3786\"],[0.5555555555555556,\"#d8576b\"],[0.6666666666666666,\"#ed7953\"],[0.7777777777777778,\"#fb9f3a\"],[0.8888888888888888,\"#fdca26\"],[1.0,\"#f0f921\"]],\"diverging\":[[0,\"#8e0152\"],[0.1,\"#c51b7d\"],[0.2,\"#de77ae\"],[0.3,\"#f1b6da\"],[0.4,\"#fde0ef\"],[0.5,\"#f7f7f7\"],[0.6,\"#e6f5d0\"],[0.7,\"#b8e186\"],[0.8,\"#7fbc41\"],[0.9,\"#4d9221\"],[1,\"#276419\"]]},\"xaxis\":{\"gridcolor\":\"#283442\",\"linecolor\":\"#506784\",\"ticks\":\"\",\"title\":{\"standoff\":15},\"zerolinecolor\":\"#283442\",\"automargin\":true,\"zerolinewidth\":2},\"yaxis\":{\"gridcolor\":\"#283442\",\"linecolor\":\"#506784\",\"ticks\":\"\",\"title\":{\"standoff\":15},\"zerolinecolor\":\"#283442\",\"automargin\":true,\"zerolinewidth\":2},\"scene\":{\"xaxis\":{\"backgroundcolor\":\"rgb(17,17,17)\",\"gridcolor\":\"#506784\",\"linecolor\":\"#506784\",\"showbackground\":true,\"ticks\":\"\",\"zerolinecolor\":\"#C8D4E3\",\"gridwidth\":2},\"yaxis\":{\"backgroundcolor\":\"rgb(17,17,17)\",\"gridcolor\":\"#506784\",\"linecolor\":\"#506784\",\"showbackground\":true,\"ticks\":\"\",\"zerolinecolor\":\"#C8D4E3\",\"gridwidth\":2},\"zaxis\":{\"backgroundcolor\":\"rgb(17,17,17)\",\"gridcolor\":\"#506784\",\"linecolor\":\"#506784\",\"showbackground\":true,\"ticks\":\"\",\"zerolinecolor\":\"#C8D4E3\",\"gridwidth\":2}},\"shapedefaults\":{\"line\":{\"color\":\"#f2f5fa\"}},\"annotationdefaults\":{\"arrowcolor\":\"#f2f5fa\",\"arrowhead\":0,\"arrowwidth\":1},\"geo\":{\"bgcolor\":\"rgb(17,17,17)\",\"landcolor\":\"rgb(17,17,17)\",\"subunitcolor\":\"#506784\",\"showland\":true,\"showlakes\":true,\"lakecolor\":\"rgb(17,17,17)\"},\"title\":{\"x\":0.05},\"updatemenudefaults\":{\"bgcolor\":\"#506784\",\"borderwidth\":0},\"sliderdefaults\":{\"bgcolor\":\"#C8D4E3\",\"borderwidth\":1,\"bordercolor\":\"rgb(17,17,17)\",\"tickwidth\":0},\"mapbox\":{\"style\":\"dark\"}}},\"legend\":{\"orientation\":\"h\",\"yanchor\":\"bottom\",\"y\":1.02,\"xanchor\":\"right\",\"x\":1},\"font\":{\"color\":\"white\"},\"title\":{\"text\":\"Comparaci\\u00f3n de estad\\u00edsticas: Charizard vs Blastoise\"},\"xaxis\":{\"title\":{\"text\":\"Estad\\u00edsticas\"}},\"yaxis\":{\"title\":{\"text\":\"Valor\"}},\"barmode\":\"group\",\"bargap\":0.2,\"bargroupgap\":0.1,\"plot_bgcolor\":\"rgba(54, 57, 63, 1)\",\"paper_bgcolor\":\"rgba(47, 49, 54, 1)\",\"hovermode\":\"x unified\",\"updatemenus\":[{\"buttons\":[{\"args\":[null,{\"frame\":{\"duration\":50,\"redraw\":true},\"fromcurrent\":true}],\"label\":\"Inicia la batalla\",\"method\":\"animate\"}],\"showactive\":false,\"type\":\"buttons\"}]},                        {\"responsive\": true}                    ).then(function(){\n                            Plotly.addFrames('180da653-01bf-4516-936c-78b7dc2103d8', [{\"data\":[{\"marker\":{\"color\":\"rgba(75, 192, 192, 0.8)\"},\"name\":\"Charizard\",\"opacity\":0.8,\"text\":[0.0,0.0,0.0,0.0,0.0,0.0],\"textposition\":\"auto\",\"x\":[\"HP\",\"Ataque\",\"Defensa\",\"Atq. Esp.\",\"Def. Esp.\",\"Velocidad\"],\"y\":[0.0,0.0,0.0,0.0,0.0,0.0],\"type\":\"bar\"},{\"marker\":{\"color\":\"rgba(255, 99, 71, 0.8)\"},\"name\":\"Blastoise\",\"opacity\":0.8,\"text\":[0.0,0.0,0.0,0.0,0.0,0.0],\"textposition\":\"auto\",\"x\":[\"HP\",\"Ataque\",\"Defensa\",\"Atq. Esp.\",\"Def. Esp.\",\"Velocidad\"],\"y\":[0.0,0.0,0.0,0.0,0.0,0.0],\"type\":\"bar\"}]},{\"data\":[{\"marker\":{\"color\":\"rgba(75, 192, 192, 0.8)\"},\"name\":\"Charizard\",\"opacity\":0.8,\"text\":[0.78,0.84,0.78,1.09,0.85,1.0],\"textposition\":\"auto\",\"x\":[\"HP\",\"Ataque\",\"Defensa\",\"Atq. Esp.\",\"Def. Esp.\",\"Velocidad\"],\"y\":[0.78,0.84,0.78,1.09,0.85,1.0],\"type\":\"bar\"},{\"marker\":{\"color\":\"rgba(255, 99, 71, 0.8)\"},\"name\":\"Blastoise\",\"opacity\":0.8,\"text\":[0.79,0.8300000000000001,1.0,0.85,1.05,0.78],\"textposition\":\"auto\",\"x\":[\"HP\",\"Ataque\",\"Defensa\",\"Atq. Esp.\",\"Def. Esp.\",\"Velocidad\"],\"y\":[0.79,0.8300000000000001,1.0,0.85,1.05,0.78],\"type\":\"bar\"}]},{\"data\":[{\"marker\":{\"color\":\"rgba(75, 192, 192, 0.8)\"},\"name\":\"Charizard\",\"opacity\":0.8,\"text\":[1.56,1.68,1.56,2.18,1.7,2.0],\"textposition\":\"auto\",\"x\":[\"HP\",\"Ataque\",\"Defensa\",\"Atq. Esp.\",\"Def. Esp.\",\"Velocidad\"],\"y\":[1.56,1.68,1.56,2.18,1.7,2.0],\"type\":\"bar\"},{\"marker\":{\"color\":\"rgba(255, 99, 71, 0.8)\"},\"name\":\"Blastoise\",\"opacity\":0.8,\"text\":[1.58,1.6600000000000001,2.0,1.7,2.1,1.56],\"textposition\":\"auto\",\"x\":[\"HP\",\"Ataque\",\"Defensa\",\"Atq. Esp.\",\"Def. Esp.\",\"Velocidad\"],\"y\":[1.58,1.6600000000000001,2.0,1.7,2.1,1.56],\"type\":\"bar\"}]},{\"data\":[{\"marker\":{\"color\":\"rgba(75, 192, 192, 0.8)\"},\"name\":\"Charizard\",\"opacity\":0.8,\"text\":[2.34,2.52,2.34,3.27,2.55,3.0],\"textposition\":\"auto\",\"x\":[\"HP\",\"Ataque\",\"Defensa\",\"Atq. Esp.\",\"Def. Esp.\",\"Velocidad\"],\"y\":[2.34,2.52,2.34,3.27,2.55,3.0],\"type\":\"bar\"},{\"marker\":{\"color\":\"rgba(255, 99, 71, 0.8)\"},\"name\":\"Blastoise\",\"opacity\":0.8,\"text\":[2.37,2.4899999999999998,3.0,2.55,3.15,2.34],\"textposition\":\"auto\",\"x\":[\"HP\",\"Ataque\",\"Defensa\",\"Atq. Esp.\",\"Def. Esp.\",\"Velocidad\"],\"y\":[2.37,2.4899999999999998,3.0,2.55,3.15,2.34],\"type\":\"bar\"}]},{\"data\":[{\"marker\":{\"color\":\"rgba(75, 192, 192, 0.8)\"},\"name\":\"Charizard\",\"opacity\":0.8,\"text\":[3.12,3.36,3.12,4.36,3.4,4.0],\"textposition\":\"auto\",\"x\":[\"HP\",\"Ataque\",\"Defensa\",\"Atq. Esp.\",\"Def. Esp.\",\"Velocidad\"],\"y\":[3.12,3.36,3.12,4.36,3.4,4.0],\"type\":\"bar\"},{\"marker\":{\"color\":\"rgba(255, 99, 71, 0.8)\"},\"name\":\"Blastoise\",\"opacity\":0.8,\"text\":[3.16,3.3200000000000003,4.0,3.4,4.2,3.12],\"textposition\":\"auto\",\"x\":[\"HP\",\"Ataque\",\"Defensa\",\"Atq. Esp.\",\"Def. Esp.\",\"Velocidad\"],\"y\":[3.16,3.3200000000000003,4.0,3.4,4.2,3.12],\"type\":\"bar\"}]},{\"data\":[{\"marker\":{\"color\":\"rgba(75, 192, 192, 0.8)\"},\"name\":\"Charizard\",\"opacity\":0.8,\"text\":[3.9000000000000004,4.2,3.9000000000000004,5.45,4.25,5.0],\"textposition\":\"auto\",\"x\":[\"HP\",\"Ataque\",\"Defensa\",\"Atq. Esp.\",\"Def. Esp.\",\"Velocidad\"],\"y\":[3.9000000000000004,4.2,3.9000000000000004,5.45,4.25,5.0],\"type\":\"bar\"},{\"marker\":{\"color\":\"rgba(255, 99, 71, 0.8)\"},\"name\":\"Blastoise\",\"opacity\":0.8,\"text\":[3.95,4.15,5.0,4.25,5.25,3.9000000000000004],\"textposition\":\"auto\",\"x\":[\"HP\",\"Ataque\",\"Defensa\",\"Atq. Esp.\",\"Def. Esp.\",\"Velocidad\"],\"y\":[3.95,4.15,5.0,4.25,5.25,3.9000000000000004],\"type\":\"bar\"}]},{\"data\":[{\"marker\":{\"color\":\"rgba(75, 192, 192, 0.8)\"},\"name\":\"Charizard\",\"opacity\":0.8,\"text\":[4.68,5.04,4.68,6.54,5.1,6.0],\"textposition\":\"auto\",\"x\":[\"HP\",\"Ataque\",\"Defensa\",\"Atq. Esp.\",\"Def. Esp.\",\"Velocidad\"],\"y\":[4.68,5.04,4.68,6.54,5.1,6.0],\"type\":\"bar\"},{\"marker\":{\"color\":\"rgba(255, 99, 71, 0.8)\"},\"name\":\"Blastoise\",\"opacity\":0.8,\"text\":[4.74,4.9799999999999995,6.0,5.1,6.3,4.68],\"textposition\":\"auto\",\"x\":[\"HP\",\"Ataque\",\"Defensa\",\"Atq. Esp.\",\"Def. Esp.\",\"Velocidad\"],\"y\":[4.74,4.9799999999999995,6.0,5.1,6.3,4.68],\"type\":\"bar\"}]},{\"data\":[{\"marker\":{\"color\":\"rgba(75, 192, 192, 0.8)\"},\"name\":\"Charizard\",\"opacity\":0.8,\"text\":[5.460000000000001,5.880000000000001,5.460000000000001,7.630000000000001,5.95,7.000000000000001],\"textposition\":\"auto\",\"x\":[\"HP\",\"Ataque\",\"Defensa\",\"Atq. Esp.\",\"Def. Esp.\",\"Velocidad\"],\"y\":[5.460000000000001,5.880000000000001,5.460000000000001,7.630000000000001,5.95,7.000000000000001],\"type\":\"bar\"},{\"marker\":{\"color\":\"rgba(255, 99, 71, 0.8)\"},\"name\":\"Blastoise\",\"opacity\":0.8,\"text\":[5.53,5.8100000000000005,7.000000000000001,5.95,7.3500000000000005,5.460000000000001],\"textposition\":\"auto\",\"x\":[\"HP\",\"Ataque\",\"Defensa\",\"Atq. Esp.\",\"Def. Esp.\",\"Velocidad\"],\"y\":[5.53,5.8100000000000005,7.000000000000001,5.95,7.3500000000000005,5.460000000000001],\"type\":\"bar\"}]},{\"data\":[{\"marker\":{\"color\":\"rgba(75, 192, 192, 0.8)\"},\"name\":\"Charizard\",\"opacity\":0.8,\"text\":[6.24,6.72,6.24,8.72,6.8,8.0],\"textposition\":\"auto\",\"x\":[\"HP\",\"Ataque\",\"Defensa\",\"Atq. Esp.\",\"Def. Esp.\",\"Velocidad\"],\"y\":[6.24,6.72,6.24,8.72,6.8,8.0],\"type\":\"bar\"},{\"marker\":{\"color\":\"rgba(255, 99, 71, 0.8)\"},\"name\":\"Blastoise\",\"opacity\":0.8,\"text\":[6.32,6.640000000000001,8.0,6.8,8.4,6.24],\"textposition\":\"auto\",\"x\":[\"HP\",\"Ataque\",\"Defensa\",\"Atq. Esp.\",\"Def. Esp.\",\"Velocidad\"],\"y\":[6.32,6.640000000000001,8.0,6.8,8.4,6.24],\"type\":\"bar\"}]},{\"data\":[{\"marker\":{\"color\":\"rgba(75, 192, 192, 0.8)\"},\"name\":\"Charizard\",\"opacity\":0.8,\"text\":[7.02,7.56,7.02,9.81,7.6499999999999995,9.0],\"textposition\":\"auto\",\"x\":[\"HP\",\"Ataque\",\"Defensa\",\"Atq. Esp.\",\"Def. Esp.\",\"Velocidad\"],\"y\":[7.02,7.56,7.02,9.81,7.6499999999999995,9.0],\"type\":\"bar\"},{\"marker\":{\"color\":\"rgba(255, 99, 71, 0.8)\"},\"name\":\"Blastoise\",\"opacity\":0.8,\"text\":[7.109999999999999,7.47,9.0,7.6499999999999995,9.45,7.02],\"textposition\":\"auto\",\"x\":[\"HP\",\"Ataque\",\"Defensa\",\"Atq. Esp.\",\"Def. Esp.\",\"Velocidad\"],\"y\":[7.109999999999999,7.47,9.0,7.6499999999999995,9.45,7.02],\"type\":\"bar\"}]},{\"data\":[{\"marker\":{\"color\":\"rgba(75, 192, 192, 0.8)\"},\"name\":\"Charizard\",\"opacity\":0.8,\"text\":[7.800000000000001,8.4,7.800000000000001,10.9,8.5,10.0],\"textposition\":\"auto\",\"x\":[\"HP\",\"Ataque\",\"Defensa\",\"Atq. Esp.\",\"Def. Esp.\",\"Velocidad\"],\"y\":[7.800000000000001,8.4,7.800000000000001,10.9,8.5,10.0],\"type\":\"bar\"},{\"marker\":{\"color\":\"rgba(255, 99, 71, 0.8)\"},\"name\":\"Blastoise\",\"opacity\":0.8,\"text\":[7.9,8.3,10.0,8.5,10.5,7.800000000000001],\"textposition\":\"auto\",\"x\":[\"HP\",\"Ataque\",\"Defensa\",\"Atq. Esp.\",\"Def. Esp.\",\"Velocidad\"],\"y\":[7.9,8.3,10.0,8.5,10.5,7.800000000000001],\"type\":\"bar\"}]},{\"data\":[{\"marker\":{\"color\":\"rgba(75, 192, 192, 0.8)\"},\"name\":\"Charizard\",\"opacity\":0.8,\"text\":[8.58,9.24,8.58,11.99,9.35,11.0],\"textposition\":\"auto\",\"x\":[\"HP\",\"Ataque\",\"Defensa\",\"Atq. Esp.\",\"Def. Esp.\",\"Velocidad\"],\"y\":[8.58,9.24,8.58,11.99,9.35,11.0],\"type\":\"bar\"},{\"marker\":{\"color\":\"rgba(255, 99, 71, 0.8)\"},\"name\":\"Blastoise\",\"opacity\":0.8,\"text\":[8.69,9.13,11.0,9.35,11.55,8.58],\"textposition\":\"auto\",\"x\":[\"HP\",\"Ataque\",\"Defensa\",\"Atq. Esp.\",\"Def. Esp.\",\"Velocidad\"],\"y\":[8.69,9.13,11.0,9.35,11.55,8.58],\"type\":\"bar\"}]},{\"data\":[{\"marker\":{\"color\":\"rgba(75, 192, 192, 0.8)\"},\"name\":\"Charizard\",\"opacity\":0.8,\"text\":[9.36,10.08,9.36,13.08,10.2,12.0],\"textposition\":\"auto\",\"x\":[\"HP\",\"Ataque\",\"Defensa\",\"Atq. Esp.\",\"Def. Esp.\",\"Velocidad\"],\"y\":[9.36,10.08,9.36,13.08,10.2,12.0],\"type\":\"bar\"},{\"marker\":{\"color\":\"rgba(255, 99, 71, 0.8)\"},\"name\":\"Blastoise\",\"opacity\":0.8,\"text\":[9.48,9.959999999999999,12.0,10.2,12.6,9.36],\"textposition\":\"auto\",\"x\":[\"HP\",\"Ataque\",\"Defensa\",\"Atq. Esp.\",\"Def. Esp.\",\"Velocidad\"],\"y\":[9.48,9.959999999999999,12.0,10.2,12.6,9.36],\"type\":\"bar\"}]},{\"data\":[{\"marker\":{\"color\":\"rgba(75, 192, 192, 0.8)\"},\"name\":\"Charizard\",\"opacity\":0.8,\"text\":[10.14,10.92,10.14,14.17,11.05,13.0],\"textposition\":\"auto\",\"x\":[\"HP\",\"Ataque\",\"Defensa\",\"Atq. Esp.\",\"Def. Esp.\",\"Velocidad\"],\"y\":[10.14,10.92,10.14,14.17,11.05,13.0],\"type\":\"bar\"},{\"marker\":{\"color\":\"rgba(255, 99, 71, 0.8)\"},\"name\":\"Blastoise\",\"opacity\":0.8,\"text\":[10.27,10.790000000000001,13.0,11.05,13.65,10.14],\"textposition\":\"auto\",\"x\":[\"HP\",\"Ataque\",\"Defensa\",\"Atq. Esp.\",\"Def. Esp.\",\"Velocidad\"],\"y\":[10.27,10.790000000000001,13.0,11.05,13.65,10.14],\"type\":\"bar\"}]},{\"data\":[{\"marker\":{\"color\":\"rgba(75, 192, 192, 0.8)\"},\"name\":\"Charizard\",\"opacity\":0.8,\"text\":[10.920000000000002,11.760000000000002,10.920000000000002,15.260000000000002,11.9,14.000000000000002],\"textposition\":\"auto\",\"x\":[\"HP\",\"Ataque\",\"Defensa\",\"Atq. Esp.\",\"Def. Esp.\",\"Velocidad\"],\"y\":[10.920000000000002,11.760000000000002,10.920000000000002,15.260000000000002,11.9,14.000000000000002],\"type\":\"bar\"},{\"marker\":{\"color\":\"rgba(255, 99, 71, 0.8)\"},\"name\":\"Blastoise\",\"opacity\":0.8,\"text\":[11.06,11.620000000000001,14.000000000000002,11.9,14.700000000000001,10.920000000000002],\"textposition\":\"auto\",\"x\":[\"HP\",\"Ataque\",\"Defensa\",\"Atq. Esp.\",\"Def. Esp.\",\"Velocidad\"],\"y\":[11.06,11.620000000000001,14.000000000000002,11.9,14.700000000000001,10.920000000000002],\"type\":\"bar\"}]},{\"data\":[{\"marker\":{\"color\":\"rgba(75, 192, 192, 0.8)\"},\"name\":\"Charizard\",\"opacity\":0.8,\"text\":[11.7,12.6,11.7,16.349999999999998,12.75,15.0],\"textposition\":\"auto\",\"x\":[\"HP\",\"Ataque\",\"Defensa\",\"Atq. Esp.\",\"Def. Esp.\",\"Velocidad\"],\"y\":[11.7,12.6,11.7,16.349999999999998,12.75,15.0],\"type\":\"bar\"},{\"marker\":{\"color\":\"rgba(255, 99, 71, 0.8)\"},\"name\":\"Blastoise\",\"opacity\":0.8,\"text\":[11.85,12.45,15.0,12.75,15.75,11.7],\"textposition\":\"auto\",\"x\":[\"HP\",\"Ataque\",\"Defensa\",\"Atq. Esp.\",\"Def. Esp.\",\"Velocidad\"],\"y\":[11.85,12.45,15.0,12.75,15.75,11.7],\"type\":\"bar\"}]},{\"data\":[{\"marker\":{\"color\":\"rgba(75, 192, 192, 0.8)\"},\"name\":\"Charizard\",\"opacity\":0.8,\"text\":[12.48,13.44,12.48,17.44,13.6,16.0],\"textposition\":\"auto\",\"x\":[\"HP\",\"Ataque\",\"Defensa\",\"Atq. Esp.\",\"Def. Esp.\",\"Velocidad\"],\"y\":[12.48,13.44,12.48,17.44,13.6,16.0],\"type\":\"bar\"},{\"marker\":{\"color\":\"rgba(255, 99, 71, 0.8)\"},\"name\":\"Blastoise\",\"opacity\":0.8,\"text\":[12.64,13.280000000000001,16.0,13.6,16.8,12.48],\"textposition\":\"auto\",\"x\":[\"HP\",\"Ataque\",\"Defensa\",\"Atq. Esp.\",\"Def. Esp.\",\"Velocidad\"],\"y\":[12.64,13.280000000000001,16.0,13.6,16.8,12.48],\"type\":\"bar\"}]},{\"data\":[{\"marker\":{\"color\":\"rgba(75, 192, 192, 0.8)\"},\"name\":\"Charizard\",\"opacity\":0.8,\"text\":[13.260000000000002,14.280000000000001,13.260000000000002,18.53,14.450000000000001,17.0],\"textposition\":\"auto\",\"x\":[\"HP\",\"Ataque\",\"Defensa\",\"Atq. Esp.\",\"Def. Esp.\",\"Velocidad\"],\"y\":[13.260000000000002,14.280000000000001,13.260000000000002,18.53,14.450000000000001,17.0],\"type\":\"bar\"},{\"marker\":{\"color\":\"rgba(255, 99, 71, 0.8)\"},\"name\":\"Blastoise\",\"opacity\":0.8,\"text\":[13.430000000000001,14.110000000000001,17.0,14.450000000000001,17.85,13.260000000000002],\"textposition\":\"auto\",\"x\":[\"HP\",\"Ataque\",\"Defensa\",\"Atq. Esp.\",\"Def. Esp.\",\"Velocidad\"],\"y\":[13.430000000000001,14.110000000000001,17.0,14.450000000000001,17.85,13.260000000000002],\"type\":\"bar\"}]},{\"data\":[{\"marker\":{\"color\":\"rgba(75, 192, 192, 0.8)\"},\"name\":\"Charizard\",\"opacity\":0.8,\"text\":[14.04,15.12,14.04,19.62,15.299999999999999,18.0],\"textposition\":\"auto\",\"x\":[\"HP\",\"Ataque\",\"Defensa\",\"Atq. Esp.\",\"Def. Esp.\",\"Velocidad\"],\"y\":[14.04,15.12,14.04,19.62,15.299999999999999,18.0],\"type\":\"bar\"},{\"marker\":{\"color\":\"rgba(255, 99, 71, 0.8)\"},\"name\":\"Blastoise\",\"opacity\":0.8,\"text\":[14.219999999999999,14.94,18.0,15.299999999999999,18.9,14.04],\"textposition\":\"auto\",\"x\":[\"HP\",\"Ataque\",\"Defensa\",\"Atq. Esp.\",\"Def. Esp.\",\"Velocidad\"],\"y\":[14.219999999999999,14.94,18.0,15.299999999999999,18.9,14.04],\"type\":\"bar\"}]},{\"data\":[{\"marker\":{\"color\":\"rgba(75, 192, 192, 0.8)\"},\"name\":\"Charizard\",\"opacity\":0.8,\"text\":[14.82,15.96,14.82,20.71,16.15,19.0],\"textposition\":\"auto\",\"x\":[\"HP\",\"Ataque\",\"Defensa\",\"Atq. Esp.\",\"Def. Esp.\",\"Velocidad\"],\"y\":[14.82,15.96,14.82,20.71,16.15,19.0],\"type\":\"bar\"},{\"marker\":{\"color\":\"rgba(255, 99, 71, 0.8)\"},\"name\":\"Blastoise\",\"opacity\":0.8,\"text\":[15.01,15.77,19.0,16.15,19.95,14.82],\"textposition\":\"auto\",\"x\":[\"HP\",\"Ataque\",\"Defensa\",\"Atq. Esp.\",\"Def. Esp.\",\"Velocidad\"],\"y\":[15.01,15.77,19.0,16.15,19.95,14.82],\"type\":\"bar\"}]},{\"data\":[{\"marker\":{\"color\":\"rgba(75, 192, 192, 0.8)\"},\"name\":\"Charizard\",\"opacity\":0.8,\"text\":[15.600000000000001,16.8,15.600000000000001,21.8,17.0,20.0],\"textposition\":\"auto\",\"x\":[\"HP\",\"Ataque\",\"Defensa\",\"Atq. Esp.\",\"Def. Esp.\",\"Velocidad\"],\"y\":[15.600000000000001,16.8,15.600000000000001,21.8,17.0,20.0],\"type\":\"bar\"},{\"marker\":{\"color\":\"rgba(255, 99, 71, 0.8)\"},\"name\":\"Blastoise\",\"opacity\":0.8,\"text\":[15.8,16.6,20.0,17.0,21.0,15.600000000000001],\"textposition\":\"auto\",\"x\":[\"HP\",\"Ataque\",\"Defensa\",\"Atq. Esp.\",\"Def. Esp.\",\"Velocidad\"],\"y\":[15.8,16.6,20.0,17.0,21.0,15.600000000000001],\"type\":\"bar\"}]},{\"data\":[{\"marker\":{\"color\":\"rgba(75, 192, 192, 0.8)\"},\"name\":\"Charizard\",\"opacity\":0.8,\"text\":[16.38,17.64,16.38,22.89,17.849999999999998,21.0],\"textposition\":\"auto\",\"x\":[\"HP\",\"Ataque\",\"Defensa\",\"Atq. Esp.\",\"Def. Esp.\",\"Velocidad\"],\"y\":[16.38,17.64,16.38,22.89,17.849999999999998,21.0],\"type\":\"bar\"},{\"marker\":{\"color\":\"rgba(255, 99, 71, 0.8)\"},\"name\":\"Blastoise\",\"opacity\":0.8,\"text\":[16.59,17.43,21.0,17.849999999999998,22.05,16.38],\"textposition\":\"auto\",\"x\":[\"HP\",\"Ataque\",\"Defensa\",\"Atq. Esp.\",\"Def. Esp.\",\"Velocidad\"],\"y\":[16.59,17.43,21.0,17.849999999999998,22.05,16.38],\"type\":\"bar\"}]},{\"data\":[{\"marker\":{\"color\":\"rgba(75, 192, 192, 0.8)\"},\"name\":\"Charizard\",\"opacity\":0.8,\"text\":[17.16,18.48,17.16,23.98,18.7,22.0],\"textposition\":\"auto\",\"x\":[\"HP\",\"Ataque\",\"Defensa\",\"Atq. Esp.\",\"Def. Esp.\",\"Velocidad\"],\"y\":[17.16,18.48,17.16,23.98,18.7,22.0],\"type\":\"bar\"},{\"marker\":{\"color\":\"rgba(255, 99, 71, 0.8)\"},\"name\":\"Blastoise\",\"opacity\":0.8,\"text\":[17.38,18.26,22.0,18.7,23.1,17.16],\"textposition\":\"auto\",\"x\":[\"HP\",\"Ataque\",\"Defensa\",\"Atq. Esp.\",\"Def. Esp.\",\"Velocidad\"],\"y\":[17.38,18.26,22.0,18.7,23.1,17.16],\"type\":\"bar\"}]},{\"data\":[{\"marker\":{\"color\":\"rgba(75, 192, 192, 0.8)\"},\"name\":\"Charizard\",\"opacity\":0.8,\"text\":[17.94,19.32,17.94,25.07,19.55,23.0],\"textposition\":\"auto\",\"x\":[\"HP\",\"Ataque\",\"Defensa\",\"Atq. Esp.\",\"Def. Esp.\",\"Velocidad\"],\"y\":[17.94,19.32,17.94,25.07,19.55,23.0],\"type\":\"bar\"},{\"marker\":{\"color\":\"rgba(255, 99, 71, 0.8)\"},\"name\":\"Blastoise\",\"opacity\":0.8,\"text\":[18.17,19.09,23.0,19.55,24.150000000000002,17.94],\"textposition\":\"auto\",\"x\":[\"HP\",\"Ataque\",\"Defensa\",\"Atq. Esp.\",\"Def. Esp.\",\"Velocidad\"],\"y\":[18.17,19.09,23.0,19.55,24.150000000000002,17.94],\"type\":\"bar\"}]},{\"data\":[{\"marker\":{\"color\":\"rgba(75, 192, 192, 0.8)\"},\"name\":\"Charizard\",\"opacity\":0.8,\"text\":[18.72,20.16,18.72,26.16,20.4,24.0],\"textposition\":\"auto\",\"x\":[\"HP\",\"Ataque\",\"Defensa\",\"Atq. Esp.\",\"Def. Esp.\",\"Velocidad\"],\"y\":[18.72,20.16,18.72,26.16,20.4,24.0],\"type\":\"bar\"},{\"marker\":{\"color\":\"rgba(255, 99, 71, 0.8)\"},\"name\":\"Blastoise\",\"opacity\":0.8,\"text\":[18.96,19.919999999999998,24.0,20.4,25.2,18.72],\"textposition\":\"auto\",\"x\":[\"HP\",\"Ataque\",\"Defensa\",\"Atq. Esp.\",\"Def. Esp.\",\"Velocidad\"],\"y\":[18.96,19.919999999999998,24.0,20.4,25.2,18.72],\"type\":\"bar\"}]},{\"data\":[{\"marker\":{\"color\":\"rgba(75, 192, 192, 0.8)\"},\"name\":\"Charizard\",\"opacity\":0.8,\"text\":[19.5,21.0,19.5,27.25,21.25,25.0],\"textposition\":\"auto\",\"x\":[\"HP\",\"Ataque\",\"Defensa\",\"Atq. Esp.\",\"Def. Esp.\",\"Velocidad\"],\"y\":[19.5,21.0,19.5,27.25,21.25,25.0],\"type\":\"bar\"},{\"marker\":{\"color\":\"rgba(255, 99, 71, 0.8)\"},\"name\":\"Blastoise\",\"opacity\":0.8,\"text\":[19.75,20.75,25.0,21.25,26.25,19.5],\"textposition\":\"auto\",\"x\":[\"HP\",\"Ataque\",\"Defensa\",\"Atq. Esp.\",\"Def. Esp.\",\"Velocidad\"],\"y\":[19.75,20.75,25.0,21.25,26.25,19.5],\"type\":\"bar\"}]},{\"data\":[{\"marker\":{\"color\":\"rgba(75, 192, 192, 0.8)\"},\"name\":\"Charizard\",\"opacity\":0.8,\"text\":[20.28,21.84,20.28,28.34,22.1,26.0],\"textposition\":\"auto\",\"x\":[\"HP\",\"Ataque\",\"Defensa\",\"Atq. Esp.\",\"Def. Esp.\",\"Velocidad\"],\"y\":[20.28,21.84,20.28,28.34,22.1,26.0],\"type\":\"bar\"},{\"marker\":{\"color\":\"rgba(255, 99, 71, 0.8)\"},\"name\":\"Blastoise\",\"opacity\":0.8,\"text\":[20.54,21.580000000000002,26.0,22.1,27.3,20.28],\"textposition\":\"auto\",\"x\":[\"HP\",\"Ataque\",\"Defensa\",\"Atq. Esp.\",\"Def. Esp.\",\"Velocidad\"],\"y\":[20.54,21.580000000000002,26.0,22.1,27.3,20.28],\"type\":\"bar\"}]},{\"data\":[{\"marker\":{\"color\":\"rgba(75, 192, 192, 0.8)\"},\"name\":\"Charizard\",\"opacity\":0.8,\"text\":[21.060000000000002,22.68,21.060000000000002,29.430000000000003,22.950000000000003,27.0],\"textposition\":\"auto\",\"x\":[\"HP\",\"Ataque\",\"Defensa\",\"Atq. Esp.\",\"Def. Esp.\",\"Velocidad\"],\"y\":[21.060000000000002,22.68,21.060000000000002,29.430000000000003,22.950000000000003,27.0],\"type\":\"bar\"},{\"marker\":{\"color\":\"rgba(255, 99, 71, 0.8)\"},\"name\":\"Blastoise\",\"opacity\":0.8,\"text\":[21.330000000000002,22.41,27.0,22.950000000000003,28.35,21.060000000000002],\"textposition\":\"auto\",\"x\":[\"HP\",\"Ataque\",\"Defensa\",\"Atq. Esp.\",\"Def. Esp.\",\"Velocidad\"],\"y\":[21.330000000000002,22.41,27.0,22.950000000000003,28.35,21.060000000000002],\"type\":\"bar\"}]},{\"data\":[{\"marker\":{\"color\":\"rgba(75, 192, 192, 0.8)\"},\"name\":\"Charizard\",\"opacity\":0.8,\"text\":[21.840000000000003,23.520000000000003,21.840000000000003,30.520000000000003,23.8,28.000000000000004],\"textposition\":\"auto\",\"x\":[\"HP\",\"Ataque\",\"Defensa\",\"Atq. Esp.\",\"Def. Esp.\",\"Velocidad\"],\"y\":[21.840000000000003,23.520000000000003,21.840000000000003,30.520000000000003,23.8,28.000000000000004],\"type\":\"bar\"},{\"marker\":{\"color\":\"rgba(255, 99, 71, 0.8)\"},\"name\":\"Blastoise\",\"opacity\":0.8,\"text\":[22.12,23.240000000000002,28.000000000000004,23.8,29.400000000000002,21.840000000000003],\"textposition\":\"auto\",\"x\":[\"HP\",\"Ataque\",\"Defensa\",\"Atq. Esp.\",\"Def. Esp.\",\"Velocidad\"],\"y\":[22.12,23.240000000000002,28.000000000000004,23.8,29.400000000000002,21.840000000000003],\"type\":\"bar\"}]},{\"data\":[{\"marker\":{\"color\":\"rgba(75, 192, 192, 0.8)\"},\"name\":\"Charizard\",\"opacity\":0.8,\"text\":[22.619999999999997,24.36,22.619999999999997,31.61,24.65,28.999999999999996],\"textposition\":\"auto\",\"x\":[\"HP\",\"Ataque\",\"Defensa\",\"Atq. Esp.\",\"Def. Esp.\",\"Velocidad\"],\"y\":[22.619999999999997,24.36,22.619999999999997,31.61,24.65,28.999999999999996],\"type\":\"bar\"},{\"marker\":{\"color\":\"rgba(255, 99, 71, 0.8)\"},\"name\":\"Blastoise\",\"opacity\":0.8,\"text\":[22.91,24.069999999999997,28.999999999999996,24.65,30.45,22.619999999999997],\"textposition\":\"auto\",\"x\":[\"HP\",\"Ataque\",\"Defensa\",\"Atq. Esp.\",\"Def. Esp.\",\"Velocidad\"],\"y\":[22.91,24.069999999999997,28.999999999999996,24.65,30.45,22.619999999999997],\"type\":\"bar\"}]},{\"data\":[{\"marker\":{\"color\":\"rgba(75, 192, 192, 0.8)\"},\"name\":\"Charizard\",\"opacity\":0.8,\"text\":[23.4,25.2,23.4,32.699999999999996,25.5,30.0],\"textposition\":\"auto\",\"x\":[\"HP\",\"Ataque\",\"Defensa\",\"Atq. Esp.\",\"Def. Esp.\",\"Velocidad\"],\"y\":[23.4,25.2,23.4,32.699999999999996,25.5,30.0],\"type\":\"bar\"},{\"marker\":{\"color\":\"rgba(255, 99, 71, 0.8)\"},\"name\":\"Blastoise\",\"opacity\":0.8,\"text\":[23.7,24.9,30.0,25.5,31.5,23.4],\"textposition\":\"auto\",\"x\":[\"HP\",\"Ataque\",\"Defensa\",\"Atq. Esp.\",\"Def. Esp.\",\"Velocidad\"],\"y\":[23.7,24.9,30.0,25.5,31.5,23.4],\"type\":\"bar\"}]},{\"data\":[{\"marker\":{\"color\":\"rgba(75, 192, 192, 0.8)\"},\"name\":\"Charizard\",\"opacity\":0.8,\"text\":[24.18,26.04,24.18,33.79,26.35,31.0],\"textposition\":\"auto\",\"x\":[\"HP\",\"Ataque\",\"Defensa\",\"Atq. Esp.\",\"Def. Esp.\",\"Velocidad\"],\"y\":[24.18,26.04,24.18,33.79,26.35,31.0],\"type\":\"bar\"},{\"marker\":{\"color\":\"rgba(255, 99, 71, 0.8)\"},\"name\":\"Blastoise\",\"opacity\":0.8,\"text\":[24.49,25.73,31.0,26.35,32.55,24.18],\"textposition\":\"auto\",\"x\":[\"HP\",\"Ataque\",\"Defensa\",\"Atq. Esp.\",\"Def. Esp.\",\"Velocidad\"],\"y\":[24.49,25.73,31.0,26.35,32.55,24.18],\"type\":\"bar\"}]},{\"data\":[{\"marker\":{\"color\":\"rgba(75, 192, 192, 0.8)\"},\"name\":\"Charizard\",\"opacity\":0.8,\"text\":[24.96,26.88,24.96,34.88,27.2,32.0],\"textposition\":\"auto\",\"x\":[\"HP\",\"Ataque\",\"Defensa\",\"Atq. Esp.\",\"Def. Esp.\",\"Velocidad\"],\"y\":[24.96,26.88,24.96,34.88,27.2,32.0],\"type\":\"bar\"},{\"marker\":{\"color\":\"rgba(255, 99, 71, 0.8)\"},\"name\":\"Blastoise\",\"opacity\":0.8,\"text\":[25.28,26.560000000000002,32.0,27.2,33.6,24.96],\"textposition\":\"auto\",\"x\":[\"HP\",\"Ataque\",\"Defensa\",\"Atq. Esp.\",\"Def. Esp.\",\"Velocidad\"],\"y\":[25.28,26.560000000000002,32.0,27.2,33.6,24.96],\"type\":\"bar\"}]},{\"data\":[{\"marker\":{\"color\":\"rgba(75, 192, 192, 0.8)\"},\"name\":\"Charizard\",\"opacity\":0.8,\"text\":[25.740000000000002,27.720000000000002,25.740000000000002,35.97,28.05,33.0],\"textposition\":\"auto\",\"x\":[\"HP\",\"Ataque\",\"Defensa\",\"Atq. Esp.\",\"Def. Esp.\",\"Velocidad\"],\"y\":[25.740000000000002,27.720000000000002,25.740000000000002,35.97,28.05,33.0],\"type\":\"bar\"},{\"marker\":{\"color\":\"rgba(255, 99, 71, 0.8)\"},\"name\":\"Blastoise\",\"opacity\":0.8,\"text\":[26.07,27.39,33.0,28.05,34.65,25.740000000000002],\"textposition\":\"auto\",\"x\":[\"HP\",\"Ataque\",\"Defensa\",\"Atq. Esp.\",\"Def. Esp.\",\"Velocidad\"],\"y\":[26.07,27.39,33.0,28.05,34.65,25.740000000000002],\"type\":\"bar\"}]},{\"data\":[{\"marker\":{\"color\":\"rgba(75, 192, 192, 0.8)\"},\"name\":\"Charizard\",\"opacity\":0.8,\"text\":[26.520000000000003,28.560000000000002,26.520000000000003,37.06,28.900000000000002,34.0],\"textposition\":\"auto\",\"x\":[\"HP\",\"Ataque\",\"Defensa\",\"Atq. Esp.\",\"Def. Esp.\",\"Velocidad\"],\"y\":[26.520000000000003,28.560000000000002,26.520000000000003,37.06,28.900000000000002,34.0],\"type\":\"bar\"},{\"marker\":{\"color\":\"rgba(255, 99, 71, 0.8)\"},\"name\":\"Blastoise\",\"opacity\":0.8,\"text\":[26.860000000000003,28.220000000000002,34.0,28.900000000000002,35.7,26.520000000000003],\"textposition\":\"auto\",\"x\":[\"HP\",\"Ataque\",\"Defensa\",\"Atq. Esp.\",\"Def. Esp.\",\"Velocidad\"],\"y\":[26.860000000000003,28.220000000000002,34.0,28.900000000000002,35.7,26.520000000000003],\"type\":\"bar\"}]},{\"data\":[{\"marker\":{\"color\":\"rgba(75, 192, 192, 0.8)\"},\"name\":\"Charizard\",\"opacity\":0.8,\"text\":[27.299999999999997,29.4,27.299999999999997,38.15,29.749999999999996,35.0],\"textposition\":\"auto\",\"x\":[\"HP\",\"Ataque\",\"Defensa\",\"Atq. Esp.\",\"Def. Esp.\",\"Velocidad\"],\"y\":[27.299999999999997,29.4,27.299999999999997,38.15,29.749999999999996,35.0],\"type\":\"bar\"},{\"marker\":{\"color\":\"rgba(255, 99, 71, 0.8)\"},\"name\":\"Blastoise\",\"opacity\":0.8,\"text\":[27.65,29.049999999999997,35.0,29.749999999999996,36.75,27.299999999999997],\"textposition\":\"auto\",\"x\":[\"HP\",\"Ataque\",\"Defensa\",\"Atq. Esp.\",\"Def. Esp.\",\"Velocidad\"],\"y\":[27.65,29.049999999999997,35.0,29.749999999999996,36.75,27.299999999999997],\"type\":\"bar\"}]},{\"data\":[{\"marker\":{\"color\":\"rgba(75, 192, 192, 0.8)\"},\"name\":\"Charizard\",\"opacity\":0.8,\"text\":[28.08,30.24,28.08,39.24,30.599999999999998,36.0],\"textposition\":\"auto\",\"x\":[\"HP\",\"Ataque\",\"Defensa\",\"Atq. Esp.\",\"Def. Esp.\",\"Velocidad\"],\"y\":[28.08,30.24,28.08,39.24,30.599999999999998,36.0],\"type\":\"bar\"},{\"marker\":{\"color\":\"rgba(255, 99, 71, 0.8)\"},\"name\":\"Blastoise\",\"opacity\":0.8,\"text\":[28.439999999999998,29.88,36.0,30.599999999999998,37.8,28.08],\"textposition\":\"auto\",\"x\":[\"HP\",\"Ataque\",\"Defensa\",\"Atq. Esp.\",\"Def. Esp.\",\"Velocidad\"],\"y\":[28.439999999999998,29.88,36.0,30.599999999999998,37.8,28.08],\"type\":\"bar\"}]},{\"data\":[{\"marker\":{\"color\":\"rgba(75, 192, 192, 0.8)\"},\"name\":\"Charizard\",\"opacity\":0.8,\"text\":[28.86,31.08,28.86,40.33,31.45,37.0],\"textposition\":\"auto\",\"x\":[\"HP\",\"Ataque\",\"Defensa\",\"Atq. Esp.\",\"Def. Esp.\",\"Velocidad\"],\"y\":[28.86,31.08,28.86,40.33,31.45,37.0],\"type\":\"bar\"},{\"marker\":{\"color\":\"rgba(255, 99, 71, 0.8)\"},\"name\":\"Blastoise\",\"opacity\":0.8,\"text\":[29.23,30.71,37.0,31.45,38.85,28.86],\"textposition\":\"auto\",\"x\":[\"HP\",\"Ataque\",\"Defensa\",\"Atq. Esp.\",\"Def. Esp.\",\"Velocidad\"],\"y\":[29.23,30.71,37.0,31.45,38.85,28.86],\"type\":\"bar\"}]},{\"data\":[{\"marker\":{\"color\":\"rgba(75, 192, 192, 0.8)\"},\"name\":\"Charizard\",\"opacity\":0.8,\"text\":[29.64,31.92,29.64,41.42,32.3,38.0],\"textposition\":\"auto\",\"x\":[\"HP\",\"Ataque\",\"Defensa\",\"Atq. Esp.\",\"Def. Esp.\",\"Velocidad\"],\"y\":[29.64,31.92,29.64,41.42,32.3,38.0],\"type\":\"bar\"},{\"marker\":{\"color\":\"rgba(255, 99, 71, 0.8)\"},\"name\":\"Blastoise\",\"opacity\":0.8,\"text\":[30.02,31.54,38.0,32.3,39.9,29.64],\"textposition\":\"auto\",\"x\":[\"HP\",\"Ataque\",\"Defensa\",\"Atq. Esp.\",\"Def. Esp.\",\"Velocidad\"],\"y\":[30.02,31.54,38.0,32.3,39.9,29.64],\"type\":\"bar\"}]},{\"data\":[{\"marker\":{\"color\":\"rgba(75, 192, 192, 0.8)\"},\"name\":\"Charizard\",\"opacity\":0.8,\"text\":[30.42,32.76,30.42,42.51,33.15,39.0],\"textposition\":\"auto\",\"x\":[\"HP\",\"Ataque\",\"Defensa\",\"Atq. Esp.\",\"Def. Esp.\",\"Velocidad\"],\"y\":[30.42,32.76,30.42,42.51,33.15,39.0],\"type\":\"bar\"},{\"marker\":{\"color\":\"rgba(255, 99, 71, 0.8)\"},\"name\":\"Blastoise\",\"opacity\":0.8,\"text\":[30.810000000000002,32.370000000000005,39.0,33.15,40.95,30.42],\"textposition\":\"auto\",\"x\":[\"HP\",\"Ataque\",\"Defensa\",\"Atq. Esp.\",\"Def. Esp.\",\"Velocidad\"],\"y\":[30.810000000000002,32.370000000000005,39.0,33.15,40.95,30.42],\"type\":\"bar\"}]},{\"data\":[{\"marker\":{\"color\":\"rgba(75, 192, 192, 0.8)\"},\"name\":\"Charizard\",\"opacity\":0.8,\"text\":[31.200000000000003,33.6,31.200000000000003,43.6,34.0,40.0],\"textposition\":\"auto\",\"x\":[\"HP\",\"Ataque\",\"Defensa\",\"Atq. Esp.\",\"Def. Esp.\",\"Velocidad\"],\"y\":[31.200000000000003,33.6,31.200000000000003,43.6,34.0,40.0],\"type\":\"bar\"},{\"marker\":{\"color\":\"rgba(255, 99, 71, 0.8)\"},\"name\":\"Blastoise\",\"opacity\":0.8,\"text\":[31.6,33.2,40.0,34.0,42.0,31.200000000000003],\"textposition\":\"auto\",\"x\":[\"HP\",\"Ataque\",\"Defensa\",\"Atq. Esp.\",\"Def. Esp.\",\"Velocidad\"],\"y\":[31.6,33.2,40.0,34.0,42.0,31.200000000000003],\"type\":\"bar\"}]},{\"data\":[{\"marker\":{\"color\":\"rgba(75, 192, 192, 0.8)\"},\"name\":\"Charizard\",\"opacity\":0.8,\"text\":[31.979999999999997,34.44,31.979999999999997,44.69,34.85,41.0],\"textposition\":\"auto\",\"x\":[\"HP\",\"Ataque\",\"Defensa\",\"Atq. Esp.\",\"Def. Esp.\",\"Velocidad\"],\"y\":[31.979999999999997,34.44,31.979999999999997,44.69,34.85,41.0],\"type\":\"bar\"},{\"marker\":{\"color\":\"rgba(255, 99, 71, 0.8)\"},\"name\":\"Blastoise\",\"opacity\":0.8,\"text\":[32.39,34.03,41.0,34.85,43.05,31.979999999999997],\"textposition\":\"auto\",\"x\":[\"HP\",\"Ataque\",\"Defensa\",\"Atq. Esp.\",\"Def. Esp.\",\"Velocidad\"],\"y\":[32.39,34.03,41.0,34.85,43.05,31.979999999999997],\"type\":\"bar\"}]},{\"data\":[{\"marker\":{\"color\":\"rgba(75, 192, 192, 0.8)\"},\"name\":\"Charizard\",\"opacity\":0.8,\"text\":[32.76,35.28,32.76,45.78,35.699999999999996,42.0],\"textposition\":\"auto\",\"x\":[\"HP\",\"Ataque\",\"Defensa\",\"Atq. Esp.\",\"Def. Esp.\",\"Velocidad\"],\"y\":[32.76,35.28,32.76,45.78,35.699999999999996,42.0],\"type\":\"bar\"},{\"marker\":{\"color\":\"rgba(255, 99, 71, 0.8)\"},\"name\":\"Blastoise\",\"opacity\":0.8,\"text\":[33.18,34.86,42.0,35.699999999999996,44.1,32.76],\"textposition\":\"auto\",\"x\":[\"HP\",\"Ataque\",\"Defensa\",\"Atq. Esp.\",\"Def. Esp.\",\"Velocidad\"],\"y\":[33.18,34.86,42.0,35.699999999999996,44.1,32.76],\"type\":\"bar\"}]},{\"data\":[{\"marker\":{\"color\":\"rgba(75, 192, 192, 0.8)\"},\"name\":\"Charizard\",\"opacity\":0.8,\"text\":[33.54,36.12,33.54,46.87,36.55,43.0],\"textposition\":\"auto\",\"x\":[\"HP\",\"Ataque\",\"Defensa\",\"Atq. Esp.\",\"Def. Esp.\",\"Velocidad\"],\"y\":[33.54,36.12,33.54,46.87,36.55,43.0],\"type\":\"bar\"},{\"marker\":{\"color\":\"rgba(255, 99, 71, 0.8)\"},\"name\":\"Blastoise\",\"opacity\":0.8,\"text\":[33.97,35.69,43.0,36.55,45.15,33.54],\"textposition\":\"auto\",\"x\":[\"HP\",\"Ataque\",\"Defensa\",\"Atq. Esp.\",\"Def. Esp.\",\"Velocidad\"],\"y\":[33.97,35.69,43.0,36.55,45.15,33.54],\"type\":\"bar\"}]},{\"data\":[{\"marker\":{\"color\":\"rgba(75, 192, 192, 0.8)\"},\"name\":\"Charizard\",\"opacity\":0.8,\"text\":[34.32,36.96,34.32,47.96,37.4,44.0],\"textposition\":\"auto\",\"x\":[\"HP\",\"Ataque\",\"Defensa\",\"Atq. Esp.\",\"Def. Esp.\",\"Velocidad\"],\"y\":[34.32,36.96,34.32,47.96,37.4,44.0],\"type\":\"bar\"},{\"marker\":{\"color\":\"rgba(255, 99, 71, 0.8)\"},\"name\":\"Blastoise\",\"opacity\":0.8,\"text\":[34.76,36.52,44.0,37.4,46.2,34.32],\"textposition\":\"auto\",\"x\":[\"HP\",\"Ataque\",\"Defensa\",\"Atq. Esp.\",\"Def. Esp.\",\"Velocidad\"],\"y\":[34.76,36.52,44.0,37.4,46.2,34.32],\"type\":\"bar\"}]},{\"data\":[{\"marker\":{\"color\":\"rgba(75, 192, 192, 0.8)\"},\"name\":\"Charizard\",\"opacity\":0.8,\"text\":[35.1,37.800000000000004,35.1,49.050000000000004,38.25,45.0],\"textposition\":\"auto\",\"x\":[\"HP\",\"Ataque\",\"Defensa\",\"Atq. Esp.\",\"Def. Esp.\",\"Velocidad\"],\"y\":[35.1,37.800000000000004,35.1,49.050000000000004,38.25,45.0],\"type\":\"bar\"},{\"marker\":{\"color\":\"rgba(255, 99, 71, 0.8)\"},\"name\":\"Blastoise\",\"opacity\":0.8,\"text\":[35.550000000000004,37.35,45.0,38.25,47.25,35.1],\"textposition\":\"auto\",\"x\":[\"HP\",\"Ataque\",\"Defensa\",\"Atq. Esp.\",\"Def. Esp.\",\"Velocidad\"],\"y\":[35.550000000000004,37.35,45.0,38.25,47.25,35.1],\"type\":\"bar\"}]},{\"data\":[{\"marker\":{\"color\":\"rgba(75, 192, 192, 0.8)\"},\"name\":\"Charizard\",\"opacity\":0.8,\"text\":[35.88,38.64,35.88,50.14,39.1,46.0],\"textposition\":\"auto\",\"x\":[\"HP\",\"Ataque\",\"Defensa\",\"Atq. Esp.\",\"Def. Esp.\",\"Velocidad\"],\"y\":[35.88,38.64,35.88,50.14,39.1,46.0],\"type\":\"bar\"},{\"marker\":{\"color\":\"rgba(255, 99, 71, 0.8)\"},\"name\":\"Blastoise\",\"opacity\":0.8,\"text\":[36.34,38.18,46.0,39.1,48.300000000000004,35.88],\"textposition\":\"auto\",\"x\":[\"HP\",\"Ataque\",\"Defensa\",\"Atq. Esp.\",\"Def. Esp.\",\"Velocidad\"],\"y\":[36.34,38.18,46.0,39.1,48.300000000000004,35.88],\"type\":\"bar\"}]},{\"data\":[{\"marker\":{\"color\":\"rgba(75, 192, 192, 0.8)\"},\"name\":\"Charizard\",\"opacity\":0.8,\"text\":[36.66,39.48,36.66,51.23,39.949999999999996,47.0],\"textposition\":\"auto\",\"x\":[\"HP\",\"Ataque\",\"Defensa\",\"Atq. Esp.\",\"Def. Esp.\",\"Velocidad\"],\"y\":[36.66,39.48,36.66,51.23,39.949999999999996,47.0],\"type\":\"bar\"},{\"marker\":{\"color\":\"rgba(255, 99, 71, 0.8)\"},\"name\":\"Blastoise\",\"opacity\":0.8,\"text\":[37.129999999999995,39.01,47.0,39.949999999999996,49.349999999999994,36.66],\"textposition\":\"auto\",\"x\":[\"HP\",\"Ataque\",\"Defensa\",\"Atq. Esp.\",\"Def. Esp.\",\"Velocidad\"],\"y\":[37.129999999999995,39.01,47.0,39.949999999999996,49.349999999999994,36.66],\"type\":\"bar\"}]},{\"data\":[{\"marker\":{\"color\":\"rgba(75, 192, 192, 0.8)\"},\"name\":\"Charizard\",\"opacity\":0.8,\"text\":[37.44,40.32,37.44,52.32,40.8,48.0],\"textposition\":\"auto\",\"x\":[\"HP\",\"Ataque\",\"Defensa\",\"Atq. Esp.\",\"Def. Esp.\",\"Velocidad\"],\"y\":[37.44,40.32,37.44,52.32,40.8,48.0],\"type\":\"bar\"},{\"marker\":{\"color\":\"rgba(255, 99, 71, 0.8)\"},\"name\":\"Blastoise\",\"opacity\":0.8,\"text\":[37.92,39.839999999999996,48.0,40.8,50.4,37.44],\"textposition\":\"auto\",\"x\":[\"HP\",\"Ataque\",\"Defensa\",\"Atq. Esp.\",\"Def. Esp.\",\"Velocidad\"],\"y\":[37.92,39.839999999999996,48.0,40.8,50.4,37.44],\"type\":\"bar\"}]},{\"data\":[{\"marker\":{\"color\":\"rgba(75, 192, 192, 0.8)\"},\"name\":\"Charizard\",\"opacity\":0.8,\"text\":[38.22,41.16,38.22,53.41,41.65,49.0],\"textposition\":\"auto\",\"x\":[\"HP\",\"Ataque\",\"Defensa\",\"Atq. Esp.\",\"Def. Esp.\",\"Velocidad\"],\"y\":[38.22,41.16,38.22,53.41,41.65,49.0],\"type\":\"bar\"},{\"marker\":{\"color\":\"rgba(255, 99, 71, 0.8)\"},\"name\":\"Blastoise\",\"opacity\":0.8,\"text\":[38.71,40.67,49.0,41.65,51.449999999999996,38.22],\"textposition\":\"auto\",\"x\":[\"HP\",\"Ataque\",\"Defensa\",\"Atq. Esp.\",\"Def. Esp.\",\"Velocidad\"],\"y\":[38.71,40.67,49.0,41.65,51.449999999999996,38.22],\"type\":\"bar\"}]},{\"data\":[{\"marker\":{\"color\":\"rgba(75, 192, 192, 0.8)\"},\"name\":\"Charizard\",\"opacity\":0.8,\"text\":[39.0,42.0,39.0,54.5,42.5,50.0],\"textposition\":\"auto\",\"x\":[\"HP\",\"Ataque\",\"Defensa\",\"Atq. Esp.\",\"Def. Esp.\",\"Velocidad\"],\"y\":[39.0,42.0,39.0,54.5,42.5,50.0],\"type\":\"bar\"},{\"marker\":{\"color\":\"rgba(255, 99, 71, 0.8)\"},\"name\":\"Blastoise\",\"opacity\":0.8,\"text\":[39.5,41.5,50.0,42.5,52.5,39.0],\"textposition\":\"auto\",\"x\":[\"HP\",\"Ataque\",\"Defensa\",\"Atq. Esp.\",\"Def. Esp.\",\"Velocidad\"],\"y\":[39.5,41.5,50.0,42.5,52.5,39.0],\"type\":\"bar\"}]},{\"data\":[{\"marker\":{\"color\":\"rgba(75, 192, 192, 0.8)\"},\"name\":\"Charizard\",\"opacity\":0.8,\"text\":[39.78,42.84,39.78,55.59,43.35,51.0],\"textposition\":\"auto\",\"x\":[\"HP\",\"Ataque\",\"Defensa\",\"Atq. Esp.\",\"Def. Esp.\",\"Velocidad\"],\"y\":[39.78,42.84,39.78,55.59,43.35,51.0],\"type\":\"bar\"},{\"marker\":{\"color\":\"rgba(255, 99, 71, 0.8)\"},\"name\":\"Blastoise\",\"opacity\":0.8,\"text\":[40.29,42.33,51.0,43.35,53.550000000000004,39.78],\"textposition\":\"auto\",\"x\":[\"HP\",\"Ataque\",\"Defensa\",\"Atq. Esp.\",\"Def. Esp.\",\"Velocidad\"],\"y\":[40.29,42.33,51.0,43.35,53.550000000000004,39.78],\"type\":\"bar\"}]},{\"data\":[{\"marker\":{\"color\":\"rgba(75, 192, 192, 0.8)\"},\"name\":\"Charizard\",\"opacity\":0.8,\"text\":[40.56,43.68,40.56,56.68,44.2,52.0],\"textposition\":\"auto\",\"x\":[\"HP\",\"Ataque\",\"Defensa\",\"Atq. Esp.\",\"Def. Esp.\",\"Velocidad\"],\"y\":[40.56,43.68,40.56,56.68,44.2,52.0],\"type\":\"bar\"},{\"marker\":{\"color\":\"rgba(255, 99, 71, 0.8)\"},\"name\":\"Blastoise\",\"opacity\":0.8,\"text\":[41.08,43.160000000000004,52.0,44.2,54.6,40.56],\"textposition\":\"auto\",\"x\":[\"HP\",\"Ataque\",\"Defensa\",\"Atq. Esp.\",\"Def. Esp.\",\"Velocidad\"],\"y\":[41.08,43.160000000000004,52.0,44.2,54.6,40.56],\"type\":\"bar\"}]},{\"data\":[{\"marker\":{\"color\":\"rgba(75, 192, 192, 0.8)\"},\"name\":\"Charizard\",\"opacity\":0.8,\"text\":[41.34,44.52,41.34,57.77,45.050000000000004,53.0],\"textposition\":\"auto\",\"x\":[\"HP\",\"Ataque\",\"Defensa\",\"Atq. Esp.\",\"Def. Esp.\",\"Velocidad\"],\"y\":[41.34,44.52,41.34,57.77,45.050000000000004,53.0],\"type\":\"bar\"},{\"marker\":{\"color\":\"rgba(255, 99, 71, 0.8)\"},\"name\":\"Blastoise\",\"opacity\":0.8,\"text\":[41.870000000000005,43.99,53.0,45.050000000000004,55.650000000000006,41.34],\"textposition\":\"auto\",\"x\":[\"HP\",\"Ataque\",\"Defensa\",\"Atq. Esp.\",\"Def. Esp.\",\"Velocidad\"],\"y\":[41.870000000000005,43.99,53.0,45.050000000000004,55.650000000000006,41.34],\"type\":\"bar\"}]},{\"data\":[{\"marker\":{\"color\":\"rgba(75, 192, 192, 0.8)\"},\"name\":\"Charizard\",\"opacity\":0.8,\"text\":[42.120000000000005,45.36,42.120000000000005,58.86000000000001,45.900000000000006,54.0],\"textposition\":\"auto\",\"x\":[\"HP\",\"Ataque\",\"Defensa\",\"Atq. Esp.\",\"Def. Esp.\",\"Velocidad\"],\"y\":[42.120000000000005,45.36,42.120000000000005,58.86000000000001,45.900000000000006,54.0],\"type\":\"bar\"},{\"marker\":{\"color\":\"rgba(255, 99, 71, 0.8)\"},\"name\":\"Blastoise\",\"opacity\":0.8,\"text\":[42.660000000000004,44.82,54.0,45.900000000000006,56.7,42.120000000000005],\"textposition\":\"auto\",\"x\":[\"HP\",\"Ataque\",\"Defensa\",\"Atq. Esp.\",\"Def. Esp.\",\"Velocidad\"],\"y\":[42.660000000000004,44.82,54.0,45.900000000000006,56.7,42.120000000000005],\"type\":\"bar\"}]},{\"data\":[{\"marker\":{\"color\":\"rgba(75, 192, 192, 0.8)\"},\"name\":\"Charizard\",\"opacity\":0.8,\"text\":[42.900000000000006,46.2,42.900000000000006,59.95,46.75000000000001,55.00000000000001],\"textposition\":\"auto\",\"x\":[\"HP\",\"Ataque\",\"Defensa\",\"Atq. Esp.\",\"Def. Esp.\",\"Velocidad\"],\"y\":[42.900000000000006,46.2,42.900000000000006,59.95,46.75000000000001,55.00000000000001],\"type\":\"bar\"},{\"marker\":{\"color\":\"rgba(255, 99, 71, 0.8)\"},\"name\":\"Blastoise\",\"opacity\":0.8,\"text\":[43.45,45.650000000000006,55.00000000000001,46.75000000000001,57.75000000000001,42.900000000000006],\"textposition\":\"auto\",\"x\":[\"HP\",\"Ataque\",\"Defensa\",\"Atq. Esp.\",\"Def. Esp.\",\"Velocidad\"],\"y\":[43.45,45.650000000000006,55.00000000000001,46.75000000000001,57.75000000000001,42.900000000000006],\"type\":\"bar\"}]},{\"data\":[{\"marker\":{\"color\":\"rgba(75, 192, 192, 0.8)\"},\"name\":\"Charizard\",\"opacity\":0.8,\"text\":[43.68000000000001,47.040000000000006,43.68000000000001,61.040000000000006,47.6,56.00000000000001],\"textposition\":\"auto\",\"x\":[\"HP\",\"Ataque\",\"Defensa\",\"Atq. Esp.\",\"Def. Esp.\",\"Velocidad\"],\"y\":[43.68000000000001,47.040000000000006,43.68000000000001,61.040000000000006,47.6,56.00000000000001],\"type\":\"bar\"},{\"marker\":{\"color\":\"rgba(255, 99, 71, 0.8)\"},\"name\":\"Blastoise\",\"opacity\":0.8,\"text\":[44.24,46.480000000000004,56.00000000000001,47.6,58.800000000000004,43.68000000000001],\"textposition\":\"auto\",\"x\":[\"HP\",\"Ataque\",\"Defensa\",\"Atq. Esp.\",\"Def. Esp.\",\"Velocidad\"],\"y\":[44.24,46.480000000000004,56.00000000000001,47.6,58.800000000000004,43.68000000000001],\"type\":\"bar\"}]},{\"data\":[{\"marker\":{\"color\":\"rgba(75, 192, 192, 0.8)\"},\"name\":\"Charizard\",\"opacity\":0.8,\"text\":[44.459999999999994,47.879999999999995,44.459999999999994,62.129999999999995,48.449999999999996,56.99999999999999],\"textposition\":\"auto\",\"x\":[\"HP\",\"Ataque\",\"Defensa\",\"Atq. Esp.\",\"Def. Esp.\",\"Velocidad\"],\"y\":[44.459999999999994,47.879999999999995,44.459999999999994,62.129999999999995,48.449999999999996,56.99999999999999],\"type\":\"bar\"},{\"marker\":{\"color\":\"rgba(255, 99, 71, 0.8)\"},\"name\":\"Blastoise\",\"opacity\":0.8,\"text\":[45.029999999999994,47.309999999999995,56.99999999999999,48.449999999999996,59.849999999999994,44.459999999999994],\"textposition\":\"auto\",\"x\":[\"HP\",\"Ataque\",\"Defensa\",\"Atq. Esp.\",\"Def. Esp.\",\"Velocidad\"],\"y\":[45.029999999999994,47.309999999999995,56.99999999999999,48.449999999999996,59.849999999999994,44.459999999999994],\"type\":\"bar\"}]},{\"data\":[{\"marker\":{\"color\":\"rgba(75, 192, 192, 0.8)\"},\"name\":\"Charizard\",\"opacity\":0.8,\"text\":[45.239999999999995,48.72,45.239999999999995,63.22,49.3,57.99999999999999],\"textposition\":\"auto\",\"x\":[\"HP\",\"Ataque\",\"Defensa\",\"Atq. Esp.\",\"Def. Esp.\",\"Velocidad\"],\"y\":[45.239999999999995,48.72,45.239999999999995,63.22,49.3,57.99999999999999],\"type\":\"bar\"},{\"marker\":{\"color\":\"rgba(255, 99, 71, 0.8)\"},\"name\":\"Blastoise\",\"opacity\":0.8,\"text\":[45.82,48.13999999999999,57.99999999999999,49.3,60.9,45.239999999999995],\"textposition\":\"auto\",\"x\":[\"HP\",\"Ataque\",\"Defensa\",\"Atq. Esp.\",\"Def. Esp.\",\"Velocidad\"],\"y\":[45.82,48.13999999999999,57.99999999999999,49.3,60.9,45.239999999999995],\"type\":\"bar\"}]},{\"data\":[{\"marker\":{\"color\":\"rgba(75, 192, 192, 0.8)\"},\"name\":\"Charizard\",\"opacity\":0.8,\"text\":[46.019999999999996,49.559999999999995,46.019999999999996,64.31,50.15,59.0],\"textposition\":\"auto\",\"x\":[\"HP\",\"Ataque\",\"Defensa\",\"Atq. Esp.\",\"Def. Esp.\",\"Velocidad\"],\"y\":[46.019999999999996,49.559999999999995,46.019999999999996,64.31,50.15,59.0],\"type\":\"bar\"},{\"marker\":{\"color\":\"rgba(255, 99, 71, 0.8)\"},\"name\":\"Blastoise\",\"opacity\":0.8,\"text\":[46.61,48.97,59.0,50.15,61.949999999999996,46.019999999999996],\"textposition\":\"auto\",\"x\":[\"HP\",\"Ataque\",\"Defensa\",\"Atq. Esp.\",\"Def. Esp.\",\"Velocidad\"],\"y\":[46.61,48.97,59.0,50.15,61.949999999999996,46.019999999999996],\"type\":\"bar\"}]},{\"data\":[{\"marker\":{\"color\":\"rgba(75, 192, 192, 0.8)\"},\"name\":\"Charizard\",\"opacity\":0.8,\"text\":[46.8,50.4,46.8,65.39999999999999,51.0,60.0],\"textposition\":\"auto\",\"x\":[\"HP\",\"Ataque\",\"Defensa\",\"Atq. Esp.\",\"Def. Esp.\",\"Velocidad\"],\"y\":[46.8,50.4,46.8,65.39999999999999,51.0,60.0],\"type\":\"bar\"},{\"marker\":{\"color\":\"rgba(255, 99, 71, 0.8)\"},\"name\":\"Blastoise\",\"opacity\":0.8,\"text\":[47.4,49.8,60.0,51.0,63.0,46.8],\"textposition\":\"auto\",\"x\":[\"HP\",\"Ataque\",\"Defensa\",\"Atq. Esp.\",\"Def. Esp.\",\"Velocidad\"],\"y\":[47.4,49.8,60.0,51.0,63.0,46.8],\"type\":\"bar\"}]},{\"data\":[{\"marker\":{\"color\":\"rgba(75, 192, 192, 0.8)\"},\"name\":\"Charizard\",\"opacity\":0.8,\"text\":[47.58,51.24,47.58,66.49,51.85,61.0],\"textposition\":\"auto\",\"x\":[\"HP\",\"Ataque\",\"Defensa\",\"Atq. Esp.\",\"Def. Esp.\",\"Velocidad\"],\"y\":[47.58,51.24,47.58,66.49,51.85,61.0],\"type\":\"bar\"},{\"marker\":{\"color\":\"rgba(255, 99, 71, 0.8)\"},\"name\":\"Blastoise\",\"opacity\":0.8,\"text\":[48.19,50.629999999999995,61.0,51.85,64.05,47.58],\"textposition\":\"auto\",\"x\":[\"HP\",\"Ataque\",\"Defensa\",\"Atq. Esp.\",\"Def. Esp.\",\"Velocidad\"],\"y\":[48.19,50.629999999999995,61.0,51.85,64.05,47.58],\"type\":\"bar\"}]},{\"data\":[{\"marker\":{\"color\":\"rgba(75, 192, 192, 0.8)\"},\"name\":\"Charizard\",\"opacity\":0.8,\"text\":[48.36,52.08,48.36,67.58,52.7,62.0],\"textposition\":\"auto\",\"x\":[\"HP\",\"Ataque\",\"Defensa\",\"Atq. Esp.\",\"Def. Esp.\",\"Velocidad\"],\"y\":[48.36,52.08,48.36,67.58,52.7,62.0],\"type\":\"bar\"},{\"marker\":{\"color\":\"rgba(255, 99, 71, 0.8)\"},\"name\":\"Blastoise\",\"opacity\":0.8,\"text\":[48.98,51.46,62.0,52.7,65.1,48.36],\"textposition\":\"auto\",\"x\":[\"HP\",\"Ataque\",\"Defensa\",\"Atq. Esp.\",\"Def. Esp.\",\"Velocidad\"],\"y\":[48.98,51.46,62.0,52.7,65.1,48.36],\"type\":\"bar\"}]},{\"data\":[{\"marker\":{\"color\":\"rgba(75, 192, 192, 0.8)\"},\"name\":\"Charizard\",\"opacity\":0.8,\"text\":[49.14,52.92,49.14,68.67,53.55,63.0],\"textposition\":\"auto\",\"x\":[\"HP\",\"Ataque\",\"Defensa\",\"Atq. Esp.\",\"Def. Esp.\",\"Velocidad\"],\"y\":[49.14,52.92,49.14,68.67,53.55,63.0],\"type\":\"bar\"},{\"marker\":{\"color\":\"rgba(255, 99, 71, 0.8)\"},\"name\":\"Blastoise\",\"opacity\":0.8,\"text\":[49.77,52.29,63.0,53.55,66.15,49.14],\"textposition\":\"auto\",\"x\":[\"HP\",\"Ataque\",\"Defensa\",\"Atq. Esp.\",\"Def. Esp.\",\"Velocidad\"],\"y\":[49.77,52.29,63.0,53.55,66.15,49.14],\"type\":\"bar\"}]},{\"data\":[{\"marker\":{\"color\":\"rgba(75, 192, 192, 0.8)\"},\"name\":\"Charizard\",\"opacity\":0.8,\"text\":[49.92,53.76,49.92,69.76,54.4,64.0],\"textposition\":\"auto\",\"x\":[\"HP\",\"Ataque\",\"Defensa\",\"Atq. Esp.\",\"Def. Esp.\",\"Velocidad\"],\"y\":[49.92,53.76,49.92,69.76,54.4,64.0],\"type\":\"bar\"},{\"marker\":{\"color\":\"rgba(255, 99, 71, 0.8)\"},\"name\":\"Blastoise\",\"opacity\":0.8,\"text\":[50.56,53.120000000000005,64.0,54.4,67.2,49.92],\"textposition\":\"auto\",\"x\":[\"HP\",\"Ataque\",\"Defensa\",\"Atq. Esp.\",\"Def. Esp.\",\"Velocidad\"],\"y\":[50.56,53.120000000000005,64.0,54.4,67.2,49.92],\"type\":\"bar\"}]},{\"data\":[{\"marker\":{\"color\":\"rgba(75, 192, 192, 0.8)\"},\"name\":\"Charizard\",\"opacity\":0.8,\"text\":[50.7,54.6,50.7,70.85000000000001,55.25,65.0],\"textposition\":\"auto\",\"x\":[\"HP\",\"Ataque\",\"Defensa\",\"Atq. Esp.\",\"Def. Esp.\",\"Velocidad\"],\"y\":[50.7,54.6,50.7,70.85000000000001,55.25,65.0],\"type\":\"bar\"},{\"marker\":{\"color\":\"rgba(255, 99, 71, 0.8)\"},\"name\":\"Blastoise\",\"opacity\":0.8,\"text\":[51.35,53.95,65.0,55.25,68.25,50.7],\"textposition\":\"auto\",\"x\":[\"HP\",\"Ataque\",\"Defensa\",\"Atq. Esp.\",\"Def. Esp.\",\"Velocidad\"],\"y\":[51.35,53.95,65.0,55.25,68.25,50.7],\"type\":\"bar\"}]},{\"data\":[{\"marker\":{\"color\":\"rgba(75, 192, 192, 0.8)\"},\"name\":\"Charizard\",\"opacity\":0.8,\"text\":[51.480000000000004,55.440000000000005,51.480000000000004,71.94,56.1,66.0],\"textposition\":\"auto\",\"x\":[\"HP\",\"Ataque\",\"Defensa\",\"Atq. Esp.\",\"Def. Esp.\",\"Velocidad\"],\"y\":[51.480000000000004,55.440000000000005,51.480000000000004,71.94,56.1,66.0],\"type\":\"bar\"},{\"marker\":{\"color\":\"rgba(255, 99, 71, 0.8)\"},\"name\":\"Blastoise\",\"opacity\":0.8,\"text\":[52.14,54.78,66.0,56.1,69.3,51.480000000000004],\"textposition\":\"auto\",\"x\":[\"HP\",\"Ataque\",\"Defensa\",\"Atq. Esp.\",\"Def. Esp.\",\"Velocidad\"],\"y\":[52.14,54.78,66.0,56.1,69.3,51.480000000000004],\"type\":\"bar\"}]},{\"data\":[{\"marker\":{\"color\":\"rgba(75, 192, 192, 0.8)\"},\"name\":\"Charizard\",\"opacity\":0.8,\"text\":[52.260000000000005,56.28,52.260000000000005,73.03,56.95,67.0],\"textposition\":\"auto\",\"x\":[\"HP\",\"Ataque\",\"Defensa\",\"Atq. Esp.\",\"Def. Esp.\",\"Velocidad\"],\"y\":[52.260000000000005,56.28,52.260000000000005,73.03,56.95,67.0],\"type\":\"bar\"},{\"marker\":{\"color\":\"rgba(255, 99, 71, 0.8)\"},\"name\":\"Blastoise\",\"opacity\":0.8,\"text\":[52.93,55.61000000000001,67.0,56.95,70.35000000000001,52.260000000000005],\"textposition\":\"auto\",\"x\":[\"HP\",\"Ataque\",\"Defensa\",\"Atq. Esp.\",\"Def. Esp.\",\"Velocidad\"],\"y\":[52.93,55.61000000000001,67.0,56.95,70.35000000000001,52.260000000000005],\"type\":\"bar\"}]},{\"data\":[{\"marker\":{\"color\":\"rgba(75, 192, 192, 0.8)\"},\"name\":\"Charizard\",\"opacity\":0.8,\"text\":[53.040000000000006,57.120000000000005,53.040000000000006,74.12,57.800000000000004,68.0],\"textposition\":\"auto\",\"x\":[\"HP\",\"Ataque\",\"Defensa\",\"Atq. Esp.\",\"Def. Esp.\",\"Velocidad\"],\"y\":[53.040000000000006,57.120000000000005,53.040000000000006,74.12,57.800000000000004,68.0],\"type\":\"bar\"},{\"marker\":{\"color\":\"rgba(255, 99, 71, 0.8)\"},\"name\":\"Blastoise\",\"opacity\":0.8,\"text\":[53.720000000000006,56.440000000000005,68.0,57.800000000000004,71.4,53.040000000000006],\"textposition\":\"auto\",\"x\":[\"HP\",\"Ataque\",\"Defensa\",\"Atq. Esp.\",\"Def. Esp.\",\"Velocidad\"],\"y\":[53.720000000000006,56.440000000000005,68.0,57.800000000000004,71.4,53.040000000000006],\"type\":\"bar\"}]},{\"data\":[{\"marker\":{\"color\":\"rgba(75, 192, 192, 0.8)\"},\"name\":\"Charizard\",\"opacity\":0.8,\"text\":[53.81999999999999,57.959999999999994,53.81999999999999,75.21,58.65,69.0],\"textposition\":\"auto\",\"x\":[\"HP\",\"Ataque\",\"Defensa\",\"Atq. Esp.\",\"Def. Esp.\",\"Velocidad\"],\"y\":[53.81999999999999,57.959999999999994,53.81999999999999,75.21,58.65,69.0],\"type\":\"bar\"},{\"marker\":{\"color\":\"rgba(255, 99, 71, 0.8)\"},\"name\":\"Blastoise\",\"opacity\":0.8,\"text\":[54.51,57.269999999999996,69.0,58.65,72.44999999999999,53.81999999999999],\"textposition\":\"auto\",\"x\":[\"HP\",\"Ataque\",\"Defensa\",\"Atq. Esp.\",\"Def. Esp.\",\"Velocidad\"],\"y\":[54.51,57.269999999999996,69.0,58.65,72.44999999999999,53.81999999999999],\"type\":\"bar\"}]},{\"data\":[{\"marker\":{\"color\":\"rgba(75, 192, 192, 0.8)\"},\"name\":\"Charizard\",\"opacity\":0.8,\"text\":[54.599999999999994,58.8,54.599999999999994,76.3,59.49999999999999,70.0],\"textposition\":\"auto\",\"x\":[\"HP\",\"Ataque\",\"Defensa\",\"Atq. Esp.\",\"Def. Esp.\",\"Velocidad\"],\"y\":[54.599999999999994,58.8,54.599999999999994,76.3,59.49999999999999,70.0],\"type\":\"bar\"},{\"marker\":{\"color\":\"rgba(255, 99, 71, 0.8)\"},\"name\":\"Blastoise\",\"opacity\":0.8,\"text\":[55.3,58.099999999999994,70.0,59.49999999999999,73.5,54.599999999999994],\"textposition\":\"auto\",\"x\":[\"HP\",\"Ataque\",\"Defensa\",\"Atq. Esp.\",\"Def. Esp.\",\"Velocidad\"],\"y\":[55.3,58.099999999999994,70.0,59.49999999999999,73.5,54.599999999999994],\"type\":\"bar\"}]},{\"data\":[{\"marker\":{\"color\":\"rgba(75, 192, 192, 0.8)\"},\"name\":\"Charizard\",\"opacity\":0.8,\"text\":[55.379999999999995,59.64,55.379999999999995,77.39,60.349999999999994,71.0],\"textposition\":\"auto\",\"x\":[\"HP\",\"Ataque\",\"Defensa\",\"Atq. Esp.\",\"Def. Esp.\",\"Velocidad\"],\"y\":[55.379999999999995,59.64,55.379999999999995,77.39,60.349999999999994,71.0],\"type\":\"bar\"},{\"marker\":{\"color\":\"rgba(255, 99, 71, 0.8)\"},\"name\":\"Blastoise\",\"opacity\":0.8,\"text\":[56.089999999999996,58.93,71.0,60.349999999999994,74.55,55.379999999999995],\"textposition\":\"auto\",\"x\":[\"HP\",\"Ataque\",\"Defensa\",\"Atq. Esp.\",\"Def. Esp.\",\"Velocidad\"],\"y\":[56.089999999999996,58.93,71.0,60.349999999999994,74.55,55.379999999999995],\"type\":\"bar\"}]},{\"data\":[{\"marker\":{\"color\":\"rgba(75, 192, 192, 0.8)\"},\"name\":\"Charizard\",\"opacity\":0.8,\"text\":[56.16,60.48,56.16,78.48,61.199999999999996,72.0],\"textposition\":\"auto\",\"x\":[\"HP\",\"Ataque\",\"Defensa\",\"Atq. Esp.\",\"Def. Esp.\",\"Velocidad\"],\"y\":[56.16,60.48,56.16,78.48,61.199999999999996,72.0],\"type\":\"bar\"},{\"marker\":{\"color\":\"rgba(255, 99, 71, 0.8)\"},\"name\":\"Blastoise\",\"opacity\":0.8,\"text\":[56.879999999999995,59.76,72.0,61.199999999999996,75.6,56.16],\"textposition\":\"auto\",\"x\":[\"HP\",\"Ataque\",\"Defensa\",\"Atq. Esp.\",\"Def. Esp.\",\"Velocidad\"],\"y\":[56.879999999999995,59.76,72.0,61.199999999999996,75.6,56.16],\"type\":\"bar\"}]},{\"data\":[{\"marker\":{\"color\":\"rgba(75, 192, 192, 0.8)\"},\"name\":\"Charizard\",\"opacity\":0.8,\"text\":[56.94,61.32,56.94,79.57,62.05,73.0],\"textposition\":\"auto\",\"x\":[\"HP\",\"Ataque\",\"Defensa\",\"Atq. Esp.\",\"Def. Esp.\",\"Velocidad\"],\"y\":[56.94,61.32,56.94,79.57,62.05,73.0],\"type\":\"bar\"},{\"marker\":{\"color\":\"rgba(255, 99, 71, 0.8)\"},\"name\":\"Blastoise\",\"opacity\":0.8,\"text\":[57.67,60.589999999999996,73.0,62.05,76.64999999999999,56.94],\"textposition\":\"auto\",\"x\":[\"HP\",\"Ataque\",\"Defensa\",\"Atq. Esp.\",\"Def. Esp.\",\"Velocidad\"],\"y\":[57.67,60.589999999999996,73.0,62.05,76.64999999999999,56.94],\"type\":\"bar\"}]},{\"data\":[{\"marker\":{\"color\":\"rgba(75, 192, 192, 0.8)\"},\"name\":\"Charizard\",\"opacity\":0.8,\"text\":[57.72,62.16,57.72,80.66,62.9,74.0],\"textposition\":\"auto\",\"x\":[\"HP\",\"Ataque\",\"Defensa\",\"Atq. Esp.\",\"Def. Esp.\",\"Velocidad\"],\"y\":[57.72,62.16,57.72,80.66,62.9,74.0],\"type\":\"bar\"},{\"marker\":{\"color\":\"rgba(255, 99, 71, 0.8)\"},\"name\":\"Blastoise\",\"opacity\":0.8,\"text\":[58.46,61.42,74.0,62.9,77.7,57.72],\"textposition\":\"auto\",\"x\":[\"HP\",\"Ataque\",\"Defensa\",\"Atq. Esp.\",\"Def. Esp.\",\"Velocidad\"],\"y\":[58.46,61.42,74.0,62.9,77.7,57.72],\"type\":\"bar\"}]},{\"data\":[{\"marker\":{\"color\":\"rgba(75, 192, 192, 0.8)\"},\"name\":\"Charizard\",\"opacity\":0.8,\"text\":[58.5,63.0,58.5,81.75,63.75,75.0],\"textposition\":\"auto\",\"x\":[\"HP\",\"Ataque\",\"Defensa\",\"Atq. Esp.\",\"Def. Esp.\",\"Velocidad\"],\"y\":[58.5,63.0,58.5,81.75,63.75,75.0],\"type\":\"bar\"},{\"marker\":{\"color\":\"rgba(255, 99, 71, 0.8)\"},\"name\":\"Blastoise\",\"opacity\":0.8,\"text\":[59.25,62.25,75.0,63.75,78.75,58.5],\"textposition\":\"auto\",\"x\":[\"HP\",\"Ataque\",\"Defensa\",\"Atq. Esp.\",\"Def. Esp.\",\"Velocidad\"],\"y\":[59.25,62.25,75.0,63.75,78.75,58.5],\"type\":\"bar\"}]},{\"data\":[{\"marker\":{\"color\":\"rgba(75, 192, 192, 0.8)\"},\"name\":\"Charizard\",\"opacity\":0.8,\"text\":[59.28,63.84,59.28,82.84,64.6,76.0],\"textposition\":\"auto\",\"x\":[\"HP\",\"Ataque\",\"Defensa\",\"Atq. Esp.\",\"Def. Esp.\",\"Velocidad\"],\"y\":[59.28,63.84,59.28,82.84,64.6,76.0],\"type\":\"bar\"},{\"marker\":{\"color\":\"rgba(255, 99, 71, 0.8)\"},\"name\":\"Blastoise\",\"opacity\":0.8,\"text\":[60.04,63.08,76.0,64.6,79.8,59.28],\"textposition\":\"auto\",\"x\":[\"HP\",\"Ataque\",\"Defensa\",\"Atq. Esp.\",\"Def. Esp.\",\"Velocidad\"],\"y\":[60.04,63.08,76.0,64.6,79.8,59.28],\"type\":\"bar\"}]},{\"data\":[{\"marker\":{\"color\":\"rgba(75, 192, 192, 0.8)\"},\"name\":\"Charizard\",\"opacity\":0.8,\"text\":[60.06,64.68,60.06,83.93,65.45,77.0],\"textposition\":\"auto\",\"x\":[\"HP\",\"Ataque\",\"Defensa\",\"Atq. Esp.\",\"Def. Esp.\",\"Velocidad\"],\"y\":[60.06,64.68,60.06,83.93,65.45,77.0],\"type\":\"bar\"},{\"marker\":{\"color\":\"rgba(255, 99, 71, 0.8)\"},\"name\":\"Blastoise\",\"opacity\":0.8,\"text\":[60.83,63.910000000000004,77.0,65.45,80.85000000000001,60.06],\"textposition\":\"auto\",\"x\":[\"HP\",\"Ataque\",\"Defensa\",\"Atq. Esp.\",\"Def. Esp.\",\"Velocidad\"],\"y\":[60.83,63.910000000000004,77.0,65.45,80.85000000000001,60.06],\"type\":\"bar\"}]},{\"data\":[{\"marker\":{\"color\":\"rgba(75, 192, 192, 0.8)\"},\"name\":\"Charizard\",\"opacity\":0.8,\"text\":[60.84,65.52,60.84,85.02,66.3,78.0],\"textposition\":\"auto\",\"x\":[\"HP\",\"Ataque\",\"Defensa\",\"Atq. Esp.\",\"Def. Esp.\",\"Velocidad\"],\"y\":[60.84,65.52,60.84,85.02,66.3,78.0],\"type\":\"bar\"},{\"marker\":{\"color\":\"rgba(255, 99, 71, 0.8)\"},\"name\":\"Blastoise\",\"opacity\":0.8,\"text\":[61.620000000000005,64.74000000000001,78.0,66.3,81.9,60.84],\"textposition\":\"auto\",\"x\":[\"HP\",\"Ataque\",\"Defensa\",\"Atq. Esp.\",\"Def. Esp.\",\"Velocidad\"],\"y\":[61.620000000000005,64.74000000000001,78.0,66.3,81.9,60.84],\"type\":\"bar\"}]},{\"data\":[{\"marker\":{\"color\":\"rgba(75, 192, 192, 0.8)\"},\"name\":\"Charizard\",\"opacity\":0.8,\"text\":[61.620000000000005,66.36,61.620000000000005,86.11,67.15,79.0],\"textposition\":\"auto\",\"x\":[\"HP\",\"Ataque\",\"Defensa\",\"Atq. Esp.\",\"Def. Esp.\",\"Velocidad\"],\"y\":[61.620000000000005,66.36,61.620000000000005,86.11,67.15,79.0],\"type\":\"bar\"},{\"marker\":{\"color\":\"rgba(255, 99, 71, 0.8)\"},\"name\":\"Blastoise\",\"opacity\":0.8,\"text\":[62.410000000000004,65.57000000000001,79.0,67.15,82.95,61.620000000000005],\"textposition\":\"auto\",\"x\":[\"HP\",\"Ataque\",\"Defensa\",\"Atq. Esp.\",\"Def. Esp.\",\"Velocidad\"],\"y\":[62.410000000000004,65.57000000000001,79.0,67.15,82.95,61.620000000000005],\"type\":\"bar\"}]},{\"data\":[{\"marker\":{\"color\":\"rgba(75, 192, 192, 0.8)\"},\"name\":\"Charizard\",\"opacity\":0.8,\"text\":[62.400000000000006,67.2,62.400000000000006,87.2,68.0,80.0],\"textposition\":\"auto\",\"x\":[\"HP\",\"Ataque\",\"Defensa\",\"Atq. Esp.\",\"Def. Esp.\",\"Velocidad\"],\"y\":[62.400000000000006,67.2,62.400000000000006,87.2,68.0,80.0],\"type\":\"bar\"},{\"marker\":{\"color\":\"rgba(255, 99, 71, 0.8)\"},\"name\":\"Blastoise\",\"opacity\":0.8,\"text\":[63.2,66.4,80.0,68.0,84.0,62.400000000000006],\"textposition\":\"auto\",\"x\":[\"HP\",\"Ataque\",\"Defensa\",\"Atq. Esp.\",\"Def. Esp.\",\"Velocidad\"],\"y\":[63.2,66.4,80.0,68.0,84.0,62.400000000000006],\"type\":\"bar\"}]},{\"data\":[{\"marker\":{\"color\":\"rgba(75, 192, 192, 0.8)\"},\"name\":\"Charizard\",\"opacity\":0.8,\"text\":[63.18000000000001,68.04,63.18000000000001,88.29,68.85000000000001,81.0],\"textposition\":\"auto\",\"x\":[\"HP\",\"Ataque\",\"Defensa\",\"Atq. Esp.\",\"Def. Esp.\",\"Velocidad\"],\"y\":[63.18000000000001,68.04,63.18000000000001,88.29,68.85000000000001,81.0],\"type\":\"bar\"},{\"marker\":{\"color\":\"rgba(255, 99, 71, 0.8)\"},\"name\":\"Blastoise\",\"opacity\":0.8,\"text\":[63.99,67.23,81.0,68.85000000000001,85.05000000000001,63.18000000000001],\"textposition\":\"auto\",\"x\":[\"HP\",\"Ataque\",\"Defensa\",\"Atq. Esp.\",\"Def. Esp.\",\"Velocidad\"],\"y\":[63.99,67.23,81.0,68.85000000000001,85.05000000000001,63.18000000000001],\"type\":\"bar\"}]},{\"data\":[{\"marker\":{\"color\":\"rgba(75, 192, 192, 0.8)\"},\"name\":\"Charizard\",\"opacity\":0.8,\"text\":[63.959999999999994,68.88,63.959999999999994,89.38,69.7,82.0],\"textposition\":\"auto\",\"x\":[\"HP\",\"Ataque\",\"Defensa\",\"Atq. Esp.\",\"Def. Esp.\",\"Velocidad\"],\"y\":[63.959999999999994,68.88,63.959999999999994,89.38,69.7,82.0],\"type\":\"bar\"},{\"marker\":{\"color\":\"rgba(255, 99, 71, 0.8)\"},\"name\":\"Blastoise\",\"opacity\":0.8,\"text\":[64.78,68.06,82.0,69.7,86.1,63.959999999999994],\"textposition\":\"auto\",\"x\":[\"HP\",\"Ataque\",\"Defensa\",\"Atq. Esp.\",\"Def. Esp.\",\"Velocidad\"],\"y\":[64.78,68.06,82.0,69.7,86.1,63.959999999999994],\"type\":\"bar\"}]},{\"data\":[{\"marker\":{\"color\":\"rgba(75, 192, 192, 0.8)\"},\"name\":\"Charizard\",\"opacity\":0.8,\"text\":[64.74,69.72,64.74,90.47,70.55,83.0],\"textposition\":\"auto\",\"x\":[\"HP\",\"Ataque\",\"Defensa\",\"Atq. Esp.\",\"Def. Esp.\",\"Velocidad\"],\"y\":[64.74,69.72,64.74,90.47,70.55,83.0],\"type\":\"bar\"},{\"marker\":{\"color\":\"rgba(255, 99, 71, 0.8)\"},\"name\":\"Blastoise\",\"opacity\":0.8,\"text\":[65.57,68.89,83.0,70.55,87.14999999999999,64.74],\"textposition\":\"auto\",\"x\":[\"HP\",\"Ataque\",\"Defensa\",\"Atq. Esp.\",\"Def. Esp.\",\"Velocidad\"],\"y\":[65.57,68.89,83.0,70.55,87.14999999999999,64.74],\"type\":\"bar\"}]},{\"data\":[{\"marker\":{\"color\":\"rgba(75, 192, 192, 0.8)\"},\"name\":\"Charizard\",\"opacity\":0.8,\"text\":[65.52,70.56,65.52,91.56,71.39999999999999,84.0],\"textposition\":\"auto\",\"x\":[\"HP\",\"Ataque\",\"Defensa\",\"Atq. Esp.\",\"Def. Esp.\",\"Velocidad\"],\"y\":[65.52,70.56,65.52,91.56,71.39999999999999,84.0],\"type\":\"bar\"},{\"marker\":{\"color\":\"rgba(255, 99, 71, 0.8)\"},\"name\":\"Blastoise\",\"opacity\":0.8,\"text\":[66.36,69.72,84.0,71.39999999999999,88.2,65.52],\"textposition\":\"auto\",\"x\":[\"HP\",\"Ataque\",\"Defensa\",\"Atq. Esp.\",\"Def. Esp.\",\"Velocidad\"],\"y\":[66.36,69.72,84.0,71.39999999999999,88.2,65.52],\"type\":\"bar\"}]},{\"data\":[{\"marker\":{\"color\":\"rgba(75, 192, 192, 0.8)\"},\"name\":\"Charizard\",\"opacity\":0.8,\"text\":[66.3,71.39999999999999,66.3,92.64999999999999,72.25,85.0],\"textposition\":\"auto\",\"x\":[\"HP\",\"Ataque\",\"Defensa\",\"Atq. Esp.\",\"Def. Esp.\",\"Velocidad\"],\"y\":[66.3,71.39999999999999,66.3,92.64999999999999,72.25,85.0],\"type\":\"bar\"},{\"marker\":{\"color\":\"rgba(255, 99, 71, 0.8)\"},\"name\":\"Blastoise\",\"opacity\":0.8,\"text\":[67.14999999999999,70.55,85.0,72.25,89.25,66.3],\"textposition\":\"auto\",\"x\":[\"HP\",\"Ataque\",\"Defensa\",\"Atq. Esp.\",\"Def. Esp.\",\"Velocidad\"],\"y\":[67.14999999999999,70.55,85.0,72.25,89.25,66.3],\"type\":\"bar\"}]},{\"data\":[{\"marker\":{\"color\":\"rgba(75, 192, 192, 0.8)\"},\"name\":\"Charizard\",\"opacity\":0.8,\"text\":[67.08,72.24,67.08,93.74,73.1,86.0],\"textposition\":\"auto\",\"x\":[\"HP\",\"Ataque\",\"Defensa\",\"Atq. Esp.\",\"Def. Esp.\",\"Velocidad\"],\"y\":[67.08,72.24,67.08,93.74,73.1,86.0],\"type\":\"bar\"},{\"marker\":{\"color\":\"rgba(255, 99, 71, 0.8)\"},\"name\":\"Blastoise\",\"opacity\":0.8,\"text\":[67.94,71.38,86.0,73.1,90.3,67.08],\"textposition\":\"auto\",\"x\":[\"HP\",\"Ataque\",\"Defensa\",\"Atq. Esp.\",\"Def. Esp.\",\"Velocidad\"],\"y\":[67.94,71.38,86.0,73.1,90.3,67.08],\"type\":\"bar\"}]},{\"data\":[{\"marker\":{\"color\":\"rgba(75, 192, 192, 0.8)\"},\"name\":\"Charizard\",\"opacity\":0.8,\"text\":[67.86,73.08,67.86,94.83,73.95,87.0],\"textposition\":\"auto\",\"x\":[\"HP\",\"Ataque\",\"Defensa\",\"Atq. Esp.\",\"Def. Esp.\",\"Velocidad\"],\"y\":[67.86,73.08,67.86,94.83,73.95,87.0],\"type\":\"bar\"},{\"marker\":{\"color\":\"rgba(255, 99, 71, 0.8)\"},\"name\":\"Blastoise\",\"opacity\":0.8,\"text\":[68.73,72.21,87.0,73.95,91.35,67.86],\"textposition\":\"auto\",\"x\":[\"HP\",\"Ataque\",\"Defensa\",\"Atq. Esp.\",\"Def. Esp.\",\"Velocidad\"],\"y\":[68.73,72.21,87.0,73.95,91.35,67.86],\"type\":\"bar\"}]},{\"data\":[{\"marker\":{\"color\":\"rgba(75, 192, 192, 0.8)\"},\"name\":\"Charizard\",\"opacity\":0.8,\"text\":[68.64,73.92,68.64,95.92,74.8,88.0],\"textposition\":\"auto\",\"x\":[\"HP\",\"Ataque\",\"Defensa\",\"Atq. Esp.\",\"Def. Esp.\",\"Velocidad\"],\"y\":[68.64,73.92,68.64,95.92,74.8,88.0],\"type\":\"bar\"},{\"marker\":{\"color\":\"rgba(255, 99, 71, 0.8)\"},\"name\":\"Blastoise\",\"opacity\":0.8,\"text\":[69.52,73.04,88.0,74.8,92.4,68.64],\"textposition\":\"auto\",\"x\":[\"HP\",\"Ataque\",\"Defensa\",\"Atq. Esp.\",\"Def. Esp.\",\"Velocidad\"],\"y\":[69.52,73.04,88.0,74.8,92.4,68.64],\"type\":\"bar\"}]},{\"data\":[{\"marker\":{\"color\":\"rgba(75, 192, 192, 0.8)\"},\"name\":\"Charizard\",\"opacity\":0.8,\"text\":[69.42,74.76,69.42,97.01,75.65,89.0],\"textposition\":\"auto\",\"x\":[\"HP\",\"Ataque\",\"Defensa\",\"Atq. Esp.\",\"Def. Esp.\",\"Velocidad\"],\"y\":[69.42,74.76,69.42,97.01,75.65,89.0],\"type\":\"bar\"},{\"marker\":{\"color\":\"rgba(255, 99, 71, 0.8)\"},\"name\":\"Blastoise\",\"opacity\":0.8,\"text\":[70.31,73.87,89.0,75.65,93.45,69.42],\"textposition\":\"auto\",\"x\":[\"HP\",\"Ataque\",\"Defensa\",\"Atq. Esp.\",\"Def. Esp.\",\"Velocidad\"],\"y\":[70.31,73.87,89.0,75.65,93.45,69.42],\"type\":\"bar\"}]},{\"data\":[{\"marker\":{\"color\":\"rgba(75, 192, 192, 0.8)\"},\"name\":\"Charizard\",\"opacity\":0.8,\"text\":[70.2,75.60000000000001,70.2,98.10000000000001,76.5,90.0],\"textposition\":\"auto\",\"x\":[\"HP\",\"Ataque\",\"Defensa\",\"Atq. Esp.\",\"Def. Esp.\",\"Velocidad\"],\"y\":[70.2,75.60000000000001,70.2,98.10000000000001,76.5,90.0],\"type\":\"bar\"},{\"marker\":{\"color\":\"rgba(255, 99, 71, 0.8)\"},\"name\":\"Blastoise\",\"opacity\":0.8,\"text\":[71.10000000000001,74.7,90.0,76.5,94.5,70.2],\"textposition\":\"auto\",\"x\":[\"HP\",\"Ataque\",\"Defensa\",\"Atq. Esp.\",\"Def. Esp.\",\"Velocidad\"],\"y\":[71.10000000000001,74.7,90.0,76.5,94.5,70.2],\"type\":\"bar\"}]},{\"data\":[{\"marker\":{\"color\":\"rgba(75, 192, 192, 0.8)\"},\"name\":\"Charizard\",\"opacity\":0.8,\"text\":[70.98,76.44,70.98,99.19,77.35000000000001,91.0],\"textposition\":\"auto\",\"x\":[\"HP\",\"Ataque\",\"Defensa\",\"Atq. Esp.\",\"Def. Esp.\",\"Velocidad\"],\"y\":[70.98,76.44,70.98,99.19,77.35000000000001,91.0],\"type\":\"bar\"},{\"marker\":{\"color\":\"rgba(255, 99, 71, 0.8)\"},\"name\":\"Blastoise\",\"opacity\":0.8,\"text\":[71.89,75.53,91.0,77.35000000000001,95.55,70.98],\"textposition\":\"auto\",\"x\":[\"HP\",\"Ataque\",\"Defensa\",\"Atq. Esp.\",\"Def. Esp.\",\"Velocidad\"],\"y\":[71.89,75.53,91.0,77.35000000000001,95.55,70.98],\"type\":\"bar\"}]},{\"data\":[{\"marker\":{\"color\":\"rgba(75, 192, 192, 0.8)\"},\"name\":\"Charizard\",\"opacity\":0.8,\"text\":[71.76,77.28,71.76,100.28,78.2,92.0],\"textposition\":\"auto\",\"x\":[\"HP\",\"Ataque\",\"Defensa\",\"Atq. Esp.\",\"Def. Esp.\",\"Velocidad\"],\"y\":[71.76,77.28,71.76,100.28,78.2,92.0],\"type\":\"bar\"},{\"marker\":{\"color\":\"rgba(255, 99, 71, 0.8)\"},\"name\":\"Blastoise\",\"opacity\":0.8,\"text\":[72.68,76.36,92.0,78.2,96.60000000000001,71.76],\"textposition\":\"auto\",\"x\":[\"HP\",\"Ataque\",\"Defensa\",\"Atq. Esp.\",\"Def. Esp.\",\"Velocidad\"],\"y\":[72.68,76.36,92.0,78.2,96.60000000000001,71.76],\"type\":\"bar\"}]},{\"data\":[{\"marker\":{\"color\":\"rgba(75, 192, 192, 0.8)\"},\"name\":\"Charizard\",\"opacity\":0.8,\"text\":[72.54,78.12,72.54,101.37,79.05,93.0],\"textposition\":\"auto\",\"x\":[\"HP\",\"Ataque\",\"Defensa\",\"Atq. Esp.\",\"Def. Esp.\",\"Velocidad\"],\"y\":[72.54,78.12,72.54,101.37,79.05,93.0],\"type\":\"bar\"},{\"marker\":{\"color\":\"rgba(255, 99, 71, 0.8)\"},\"name\":\"Blastoise\",\"opacity\":0.8,\"text\":[73.47,77.19,93.0,79.05,97.65,72.54],\"textposition\":\"auto\",\"x\":[\"HP\",\"Ataque\",\"Defensa\",\"Atq. Esp.\",\"Def. Esp.\",\"Velocidad\"],\"y\":[73.47,77.19,93.0,79.05,97.65,72.54],\"type\":\"bar\"}]},{\"data\":[{\"marker\":{\"color\":\"rgba(75, 192, 192, 0.8)\"},\"name\":\"Charizard\",\"opacity\":0.8,\"text\":[73.32,78.96,73.32,102.46,79.89999999999999,94.0],\"textposition\":\"auto\",\"x\":[\"HP\",\"Ataque\",\"Defensa\",\"Atq. Esp.\",\"Def. Esp.\",\"Velocidad\"],\"y\":[73.32,78.96,73.32,102.46,79.89999999999999,94.0],\"type\":\"bar\"},{\"marker\":{\"color\":\"rgba(255, 99, 71, 0.8)\"},\"name\":\"Blastoise\",\"opacity\":0.8,\"text\":[74.25999999999999,78.02,94.0,79.89999999999999,98.69999999999999,73.32],\"textposition\":\"auto\",\"x\":[\"HP\",\"Ataque\",\"Defensa\",\"Atq. Esp.\",\"Def. Esp.\",\"Velocidad\"],\"y\":[74.25999999999999,78.02,94.0,79.89999999999999,98.69999999999999,73.32],\"type\":\"bar\"}]},{\"data\":[{\"marker\":{\"color\":\"rgba(75, 192, 192, 0.8)\"},\"name\":\"Charizard\",\"opacity\":0.8,\"text\":[74.1,79.8,74.1,103.55,80.75,95.0],\"textposition\":\"auto\",\"x\":[\"HP\",\"Ataque\",\"Defensa\",\"Atq. Esp.\",\"Def. Esp.\",\"Velocidad\"],\"y\":[74.1,79.8,74.1,103.55,80.75,95.0],\"type\":\"bar\"},{\"marker\":{\"color\":\"rgba(255, 99, 71, 0.8)\"},\"name\":\"Blastoise\",\"opacity\":0.8,\"text\":[75.05,78.85,95.0,80.75,99.75,74.1],\"textposition\":\"auto\",\"x\":[\"HP\",\"Ataque\",\"Defensa\",\"Atq. Esp.\",\"Def. Esp.\",\"Velocidad\"],\"y\":[75.05,78.85,95.0,80.75,99.75,74.1],\"type\":\"bar\"}]},{\"data\":[{\"marker\":{\"color\":\"rgba(75, 192, 192, 0.8)\"},\"name\":\"Charizard\",\"opacity\":0.8,\"text\":[74.88,80.64,74.88,104.64,81.6,96.0],\"textposition\":\"auto\",\"x\":[\"HP\",\"Ataque\",\"Defensa\",\"Atq. Esp.\",\"Def. Esp.\",\"Velocidad\"],\"y\":[74.88,80.64,74.88,104.64,81.6,96.0],\"type\":\"bar\"},{\"marker\":{\"color\":\"rgba(255, 99, 71, 0.8)\"},\"name\":\"Blastoise\",\"opacity\":0.8,\"text\":[75.84,79.67999999999999,96.0,81.6,100.8,74.88],\"textposition\":\"auto\",\"x\":[\"HP\",\"Ataque\",\"Defensa\",\"Atq. Esp.\",\"Def. Esp.\",\"Velocidad\"],\"y\":[75.84,79.67999999999999,96.0,81.6,100.8,74.88],\"type\":\"bar\"}]},{\"data\":[{\"marker\":{\"color\":\"rgba(75, 192, 192, 0.8)\"},\"name\":\"Charizard\",\"opacity\":0.8,\"text\":[75.66,81.48,75.66,105.73,82.45,97.0],\"textposition\":\"auto\",\"x\":[\"HP\",\"Ataque\",\"Defensa\",\"Atq. Esp.\",\"Def. Esp.\",\"Velocidad\"],\"y\":[75.66,81.48,75.66,105.73,82.45,97.0],\"type\":\"bar\"},{\"marker\":{\"color\":\"rgba(255, 99, 71, 0.8)\"},\"name\":\"Blastoise\",\"opacity\":0.8,\"text\":[76.63,80.50999999999999,97.0,82.45,101.85,75.66],\"textposition\":\"auto\",\"x\":[\"HP\",\"Ataque\",\"Defensa\",\"Atq. Esp.\",\"Def. Esp.\",\"Velocidad\"],\"y\":[76.63,80.50999999999999,97.0,82.45,101.85,75.66],\"type\":\"bar\"}]},{\"data\":[{\"marker\":{\"color\":\"rgba(75, 192, 192, 0.8)\"},\"name\":\"Charizard\",\"opacity\":0.8,\"text\":[76.44,82.32,76.44,106.82,83.3,98.0],\"textposition\":\"auto\",\"x\":[\"HP\",\"Ataque\",\"Defensa\",\"Atq. Esp.\",\"Def. Esp.\",\"Velocidad\"],\"y\":[76.44,82.32,76.44,106.82,83.3,98.0],\"type\":\"bar\"},{\"marker\":{\"color\":\"rgba(255, 99, 71, 0.8)\"},\"name\":\"Blastoise\",\"opacity\":0.8,\"text\":[77.42,81.34,98.0,83.3,102.89999999999999,76.44],\"textposition\":\"auto\",\"x\":[\"HP\",\"Ataque\",\"Defensa\",\"Atq. Esp.\",\"Def. Esp.\",\"Velocidad\"],\"y\":[77.42,81.34,98.0,83.3,102.89999999999999,76.44],\"type\":\"bar\"}]},{\"data\":[{\"marker\":{\"color\":\"rgba(75, 192, 192, 0.8)\"},\"name\":\"Charizard\",\"opacity\":0.8,\"text\":[77.22,83.16,77.22,107.91,84.15,99.0],\"textposition\":\"auto\",\"x\":[\"HP\",\"Ataque\",\"Defensa\",\"Atq. Esp.\",\"Def. Esp.\",\"Velocidad\"],\"y\":[77.22,83.16,77.22,107.91,84.15,99.0],\"type\":\"bar\"},{\"marker\":{\"color\":\"rgba(255, 99, 71, 0.8)\"},\"name\":\"Blastoise\",\"opacity\":0.8,\"text\":[78.21,82.17,99.0,84.15,103.95,77.22],\"textposition\":\"auto\",\"x\":[\"HP\",\"Ataque\",\"Defensa\",\"Atq. Esp.\",\"Def. Esp.\",\"Velocidad\"],\"y\":[78.21,82.17,99.0,84.15,103.95,77.22],\"type\":\"bar\"}]},{\"data\":[{\"marker\":{\"color\":\"rgba(75, 192, 192, 0.8)\"},\"name\":\"Charizard\",\"opacity\":0.8,\"text\":[78.0,84.0,78.0,109.0,85.0,100.0],\"textposition\":\"auto\",\"x\":[\"HP\",\"Ataque\",\"Defensa\",\"Atq. Esp.\",\"Def. Esp.\",\"Velocidad\"],\"y\":[78.0,84.0,78.0,109.0,85.0,100.0],\"type\":\"bar\"},{\"marker\":{\"color\":\"rgba(255, 99, 71, 0.8)\"},\"name\":\"Blastoise\",\"opacity\":0.8,\"text\":[79.0,83.0,100.0,85.0,105.0,78.0],\"textposition\":\"auto\",\"x\":[\"HP\",\"Ataque\",\"Defensa\",\"Atq. Esp.\",\"Def. Esp.\",\"Velocidad\"],\"y\":[79.0,83.0,100.0,85.0,105.0,78.0],\"type\":\"bar\"}]}]);\n                        }).then(function(){\n                            \nvar gd = document.getElementById('180da653-01bf-4516-936c-78b7dc2103d8');\nvar x = new MutationObserver(function (mutations, observer) {{\n        var display = window.getComputedStyle(gd).display;\n        if (!display || display === 'none') {{\n            console.log([gd, 'removed!']);\n            Plotly.purge(gd);\n            observer.disconnect();\n        }}\n}});\n\n// Listen for the removal of the full notebook cells\nvar notebookContainer = gd.closest('#notebook-container');\nif (notebookContainer) {{\n    x.observe(notebookContainer, {childList: true});\n}}\n\n// Listen for the clearing of the current output cell\nvar outputEl = gd.closest('.output');\nif (outputEl) {{\n    x.observe(outputEl, {childList: true});\n}}\n\n                        })                };                });            </script>        </div>"
     },
     "metadata": {},
     "output_type": "display_data"
    },
    {
     "name": "stdout",
     "output_type": "stream",
     "text": [
      "Charizard gana la batalla!\n"
     ]
    }
   ],
   "source": [
    "plot_stats(pokemon1, pokemon2)"
   ],
   "metadata": {
    "collapsed": false,
    "ExecuteTime": {
     "start_time": "2023-04-23T00:10:49.699644Z",
     "end_time": "2023-04-23T00:10:50.010657Z"
    }
   }
  },
  {
   "cell_type": "code",
   "execution_count": 60,
   "outputs": [
    {
     "name": "stdout",
     "output_type": "stream",
     "text": [
      "   feature  importance\n",
      "1   Attack    0.589039\n",
      "0       HP    0.159337\n",
      "2  Defense    0.079769\n",
      "5    Speed    0.020094\n",
      "3  Sp. Atk    0.019758\n",
      "4  Sp. Def    0.000000\n"
     ]
    }
   ],
   "source": [
    "# Extraer los nombres de las características de las estadísticas base\n",
    "feature_names = ['HP', 'Attack', 'Defense', 'Sp. Atk', 'Sp. Def', 'Speed']\n",
    "\n",
    "# Obtener las importancias de las características\n",
    "importances = model.feature_importances_[:6] # Solo queremos las importancias de las características de las estadísticas base\n",
    "\n",
    "# Crear un DataFrame para almacenar las importancias de las características\n",
    "importances_df = pd.DataFrame({'feature': feature_names, 'importance': importances})\n",
    "\n",
    "# Ordenar el DataFrame por importancia (de mayor a menor)\n",
    "importances_df.sort_values(by='importance', ascending=False, inplace=True)\n",
    "\n",
    "# Mostrar las importancias de las características\n",
    "print(importances_df)\n"
   ],
   "metadata": {
    "collapsed": false,
    "ExecuteTime": {
     "start_time": "2023-04-23T00:11:21.306915Z",
     "end_time": "2023-04-23T00:11:21.313732Z"
    }
   }
  },
  {
   "cell_type": "code",
   "execution_count": 61,
   "outputs": [
    {
     "data": {
      "application/vnd.plotly.v1+json": {
       "data": [
        {
         "x": [
          "Attack",
          "HP",
          "Defense",
          "Speed",
          "Sp. Atk",
          "Sp. Def"
         ],
         "y": [
          0.5890388420639459,
          0.15933736771421597,
          0.07976922262636546,
          0.020094191522762952,
          0.019757516356155837,
          0.0
         ],
         "type": "bar"
        }
       ],
       "layout": {
        "template": {
         "data": {
          "histogram2dcontour": [
           {
            "type": "histogram2dcontour",
            "colorbar": {
             "outlinewidth": 0,
             "ticks": ""
            },
            "colorscale": [
             [
              0.0,
              "#0d0887"
             ],
             [
              0.1111111111111111,
              "#46039f"
             ],
             [
              0.2222222222222222,
              "#7201a8"
             ],
             [
              0.3333333333333333,
              "#9c179e"
             ],
             [
              0.4444444444444444,
              "#bd3786"
             ],
             [
              0.5555555555555556,
              "#d8576b"
             ],
             [
              0.6666666666666666,
              "#ed7953"
             ],
             [
              0.7777777777777778,
              "#fb9f3a"
             ],
             [
              0.8888888888888888,
              "#fdca26"
             ],
             [
              1.0,
              "#f0f921"
             ]
            ]
           }
          ],
          "choropleth": [
           {
            "type": "choropleth",
            "colorbar": {
             "outlinewidth": 0,
             "ticks": ""
            }
           }
          ],
          "histogram2d": [
           {
            "type": "histogram2d",
            "colorbar": {
             "outlinewidth": 0,
             "ticks": ""
            },
            "colorscale": [
             [
              0.0,
              "#0d0887"
             ],
             [
              0.1111111111111111,
              "#46039f"
             ],
             [
              0.2222222222222222,
              "#7201a8"
             ],
             [
              0.3333333333333333,
              "#9c179e"
             ],
             [
              0.4444444444444444,
              "#bd3786"
             ],
             [
              0.5555555555555556,
              "#d8576b"
             ],
             [
              0.6666666666666666,
              "#ed7953"
             ],
             [
              0.7777777777777778,
              "#fb9f3a"
             ],
             [
              0.8888888888888888,
              "#fdca26"
             ],
             [
              1.0,
              "#f0f921"
             ]
            ]
           }
          ],
          "heatmap": [
           {
            "type": "heatmap",
            "colorbar": {
             "outlinewidth": 0,
             "ticks": ""
            },
            "colorscale": [
             [
              0.0,
              "#0d0887"
             ],
             [
              0.1111111111111111,
              "#46039f"
             ],
             [
              0.2222222222222222,
              "#7201a8"
             ],
             [
              0.3333333333333333,
              "#9c179e"
             ],
             [
              0.4444444444444444,
              "#bd3786"
             ],
             [
              0.5555555555555556,
              "#d8576b"
             ],
             [
              0.6666666666666666,
              "#ed7953"
             ],
             [
              0.7777777777777778,
              "#fb9f3a"
             ],
             [
              0.8888888888888888,
              "#fdca26"
             ],
             [
              1.0,
              "#f0f921"
             ]
            ]
           }
          ],
          "heatmapgl": [
           {
            "type": "heatmapgl",
            "colorbar": {
             "outlinewidth": 0,
             "ticks": ""
            },
            "colorscale": [
             [
              0.0,
              "#0d0887"
             ],
             [
              0.1111111111111111,
              "#46039f"
             ],
             [
              0.2222222222222222,
              "#7201a8"
             ],
             [
              0.3333333333333333,
              "#9c179e"
             ],
             [
              0.4444444444444444,
              "#bd3786"
             ],
             [
              0.5555555555555556,
              "#d8576b"
             ],
             [
              0.6666666666666666,
              "#ed7953"
             ],
             [
              0.7777777777777778,
              "#fb9f3a"
             ],
             [
              0.8888888888888888,
              "#fdca26"
             ],
             [
              1.0,
              "#f0f921"
             ]
            ]
           }
          ],
          "contourcarpet": [
           {
            "type": "contourcarpet",
            "colorbar": {
             "outlinewidth": 0,
             "ticks": ""
            }
           }
          ],
          "contour": [
           {
            "type": "contour",
            "colorbar": {
             "outlinewidth": 0,
             "ticks": ""
            },
            "colorscale": [
             [
              0.0,
              "#0d0887"
             ],
             [
              0.1111111111111111,
              "#46039f"
             ],
             [
              0.2222222222222222,
              "#7201a8"
             ],
             [
              0.3333333333333333,
              "#9c179e"
             ],
             [
              0.4444444444444444,
              "#bd3786"
             ],
             [
              0.5555555555555556,
              "#d8576b"
             ],
             [
              0.6666666666666666,
              "#ed7953"
             ],
             [
              0.7777777777777778,
              "#fb9f3a"
             ],
             [
              0.8888888888888888,
              "#fdca26"
             ],
             [
              1.0,
              "#f0f921"
             ]
            ]
           }
          ],
          "surface": [
           {
            "type": "surface",
            "colorbar": {
             "outlinewidth": 0,
             "ticks": ""
            },
            "colorscale": [
             [
              0.0,
              "#0d0887"
             ],
             [
              0.1111111111111111,
              "#46039f"
             ],
             [
              0.2222222222222222,
              "#7201a8"
             ],
             [
              0.3333333333333333,
              "#9c179e"
             ],
             [
              0.4444444444444444,
              "#bd3786"
             ],
             [
              0.5555555555555556,
              "#d8576b"
             ],
             [
              0.6666666666666666,
              "#ed7953"
             ],
             [
              0.7777777777777778,
              "#fb9f3a"
             ],
             [
              0.8888888888888888,
              "#fdca26"
             ],
             [
              1.0,
              "#f0f921"
             ]
            ]
           }
          ],
          "mesh3d": [
           {
            "type": "mesh3d",
            "colorbar": {
             "outlinewidth": 0,
             "ticks": ""
            }
           }
          ],
          "scatter": [
           {
            "marker": {
             "line": {
              "color": "#283442"
             }
            },
            "type": "scatter"
           }
          ],
          "parcoords": [
           {
            "type": "parcoords",
            "line": {
             "colorbar": {
              "outlinewidth": 0,
              "ticks": ""
             }
            }
           }
          ],
          "scatterpolargl": [
           {
            "type": "scatterpolargl",
            "marker": {
             "colorbar": {
              "outlinewidth": 0,
              "ticks": ""
             }
            }
           }
          ],
          "bar": [
           {
            "error_x": {
             "color": "#f2f5fa"
            },
            "error_y": {
             "color": "#f2f5fa"
            },
            "marker": {
             "line": {
              "color": "rgb(17,17,17)",
              "width": 0.5
             },
             "pattern": {
              "fillmode": "overlay",
              "size": 10,
              "solidity": 0.2
             }
            },
            "type": "bar"
           }
          ],
          "scattergeo": [
           {
            "type": "scattergeo",
            "marker": {
             "colorbar": {
              "outlinewidth": 0,
              "ticks": ""
             }
            }
           }
          ],
          "scatterpolar": [
           {
            "type": "scatterpolar",
            "marker": {
             "colorbar": {
              "outlinewidth": 0,
              "ticks": ""
             }
            }
           }
          ],
          "histogram": [
           {
            "marker": {
             "pattern": {
              "fillmode": "overlay",
              "size": 10,
              "solidity": 0.2
             }
            },
            "type": "histogram"
           }
          ],
          "scattergl": [
           {
            "marker": {
             "line": {
              "color": "#283442"
             }
            },
            "type": "scattergl"
           }
          ],
          "scatter3d": [
           {
            "type": "scatter3d",
            "line": {
             "colorbar": {
              "outlinewidth": 0,
              "ticks": ""
             }
            },
            "marker": {
             "colorbar": {
              "outlinewidth": 0,
              "ticks": ""
             }
            }
           }
          ],
          "scattermapbox": [
           {
            "type": "scattermapbox",
            "marker": {
             "colorbar": {
              "outlinewidth": 0,
              "ticks": ""
             }
            }
           }
          ],
          "scatterternary": [
           {
            "type": "scatterternary",
            "marker": {
             "colorbar": {
              "outlinewidth": 0,
              "ticks": ""
             }
            }
           }
          ],
          "scattercarpet": [
           {
            "type": "scattercarpet",
            "marker": {
             "colorbar": {
              "outlinewidth": 0,
              "ticks": ""
             }
            }
           }
          ],
          "carpet": [
           {
            "aaxis": {
             "endlinecolor": "#A2B1C6",
             "gridcolor": "#506784",
             "linecolor": "#506784",
             "minorgridcolor": "#506784",
             "startlinecolor": "#A2B1C6"
            },
            "baxis": {
             "endlinecolor": "#A2B1C6",
             "gridcolor": "#506784",
             "linecolor": "#506784",
             "minorgridcolor": "#506784",
             "startlinecolor": "#A2B1C6"
            },
            "type": "carpet"
           }
          ],
          "table": [
           {
            "cells": {
             "fill": {
              "color": "#506784"
             },
             "line": {
              "color": "rgb(17,17,17)"
             }
            },
            "header": {
             "fill": {
              "color": "#2a3f5f"
             },
             "line": {
              "color": "rgb(17,17,17)"
             }
            },
            "type": "table"
           }
          ],
          "barpolar": [
           {
            "marker": {
             "line": {
              "color": "rgb(17,17,17)",
              "width": 0.5
             },
             "pattern": {
              "fillmode": "overlay",
              "size": 10,
              "solidity": 0.2
             }
            },
            "type": "barpolar"
           }
          ],
          "pie": [
           {
            "automargin": true,
            "type": "pie"
           }
          ]
         },
         "layout": {
          "autotypenumbers": "strict",
          "colorway": [
           "#636efa",
           "#EF553B",
           "#00cc96",
           "#ab63fa",
           "#FFA15A",
           "#19d3f3",
           "#FF6692",
           "#B6E880",
           "#FF97FF",
           "#FECB52"
          ],
          "font": {
           "color": "#f2f5fa"
          },
          "hovermode": "closest",
          "hoverlabel": {
           "align": "left"
          },
          "paper_bgcolor": "rgb(17,17,17)",
          "plot_bgcolor": "rgb(17,17,17)",
          "polar": {
           "bgcolor": "rgb(17,17,17)",
           "angularaxis": {
            "gridcolor": "#506784",
            "linecolor": "#506784",
            "ticks": ""
           },
           "radialaxis": {
            "gridcolor": "#506784",
            "linecolor": "#506784",
            "ticks": ""
           }
          },
          "ternary": {
           "bgcolor": "rgb(17,17,17)",
           "aaxis": {
            "gridcolor": "#506784",
            "linecolor": "#506784",
            "ticks": ""
           },
           "baxis": {
            "gridcolor": "#506784",
            "linecolor": "#506784",
            "ticks": ""
           },
           "caxis": {
            "gridcolor": "#506784",
            "linecolor": "#506784",
            "ticks": ""
           }
          },
          "coloraxis": {
           "colorbar": {
            "outlinewidth": 0,
            "ticks": ""
           }
          },
          "colorscale": {
           "sequential": [
            [
             0.0,
             "#0d0887"
            ],
            [
             0.1111111111111111,
             "#46039f"
            ],
            [
             0.2222222222222222,
             "#7201a8"
            ],
            [
             0.3333333333333333,
             "#9c179e"
            ],
            [
             0.4444444444444444,
             "#bd3786"
            ],
            [
             0.5555555555555556,
             "#d8576b"
            ],
            [
             0.6666666666666666,
             "#ed7953"
            ],
            [
             0.7777777777777778,
             "#fb9f3a"
            ],
            [
             0.8888888888888888,
             "#fdca26"
            ],
            [
             1.0,
             "#f0f921"
            ]
           ],
           "sequentialminus": [
            [
             0.0,
             "#0d0887"
            ],
            [
             0.1111111111111111,
             "#46039f"
            ],
            [
             0.2222222222222222,
             "#7201a8"
            ],
            [
             0.3333333333333333,
             "#9c179e"
            ],
            [
             0.4444444444444444,
             "#bd3786"
            ],
            [
             0.5555555555555556,
             "#d8576b"
            ],
            [
             0.6666666666666666,
             "#ed7953"
            ],
            [
             0.7777777777777778,
             "#fb9f3a"
            ],
            [
             0.8888888888888888,
             "#fdca26"
            ],
            [
             1.0,
             "#f0f921"
            ]
           ],
           "diverging": [
            [
             0,
             "#8e0152"
            ],
            [
             0.1,
             "#c51b7d"
            ],
            [
             0.2,
             "#de77ae"
            ],
            [
             0.3,
             "#f1b6da"
            ],
            [
             0.4,
             "#fde0ef"
            ],
            [
             0.5,
             "#f7f7f7"
            ],
            [
             0.6,
             "#e6f5d0"
            ],
            [
             0.7,
             "#b8e186"
            ],
            [
             0.8,
             "#7fbc41"
            ],
            [
             0.9,
             "#4d9221"
            ],
            [
             1,
             "#276419"
            ]
           ]
          },
          "xaxis": {
           "gridcolor": "#283442",
           "linecolor": "#506784",
           "ticks": "",
           "title": {
            "standoff": 15
           },
           "zerolinecolor": "#283442",
           "automargin": true,
           "zerolinewidth": 2
          },
          "yaxis": {
           "gridcolor": "#283442",
           "linecolor": "#506784",
           "ticks": "",
           "title": {
            "standoff": 15
           },
           "zerolinecolor": "#283442",
           "automargin": true,
           "zerolinewidth": 2
          },
          "scene": {
           "xaxis": {
            "backgroundcolor": "rgb(17,17,17)",
            "gridcolor": "#506784",
            "linecolor": "#506784",
            "showbackground": true,
            "ticks": "",
            "zerolinecolor": "#C8D4E3",
            "gridwidth": 2
           },
           "yaxis": {
            "backgroundcolor": "rgb(17,17,17)",
            "gridcolor": "#506784",
            "linecolor": "#506784",
            "showbackground": true,
            "ticks": "",
            "zerolinecolor": "#C8D4E3",
            "gridwidth": 2
           },
           "zaxis": {
            "backgroundcolor": "rgb(17,17,17)",
            "gridcolor": "#506784",
            "linecolor": "#506784",
            "showbackground": true,
            "ticks": "",
            "zerolinecolor": "#C8D4E3",
            "gridwidth": 2
           }
          },
          "shapedefaults": {
           "line": {
            "color": "#f2f5fa"
           }
          },
          "annotationdefaults": {
           "arrowcolor": "#f2f5fa",
           "arrowhead": 0,
           "arrowwidth": 1
          },
          "geo": {
           "bgcolor": "rgb(17,17,17)",
           "landcolor": "rgb(17,17,17)",
           "subunitcolor": "#506784",
           "showland": true,
           "showlakes": true,
           "lakecolor": "rgb(17,17,17)"
          },
          "title": {
           "x": 0.05
          },
          "updatemenudefaults": {
           "bgcolor": "#506784",
           "borderwidth": 0
          },
          "sliderdefaults": {
           "bgcolor": "#C8D4E3",
           "borderwidth": 1,
           "bordercolor": "rgb(17,17,17)",
           "tickwidth": 0
          },
          "mapbox": {
           "style": "dark"
          }
         }
        },
        "title": {
         "text": "Importancia de las características"
        },
        "xaxis": {
         "title": {
          "text": "Características"
         }
        },
        "yaxis": {
         "title": {
          "text": "Importancia"
         }
        }
       },
       "config": {
        "plotlyServerURL": "https://plot.ly"
       }
      },
      "text/html": "<div>                            <div id=\"db1d9304-6b1e-47a6-b187-95609d68d67c\" class=\"plotly-graph-div\" style=\"height:525px; width:100%;\"></div>            <script type=\"text/javascript\">                require([\"plotly\"], function(Plotly) {                    window.PLOTLYENV=window.PLOTLYENV || {};                                    if (document.getElementById(\"db1d9304-6b1e-47a6-b187-95609d68d67c\")) {                    Plotly.newPlot(                        \"db1d9304-6b1e-47a6-b187-95609d68d67c\",                        [{\"x\":[\"Attack\",\"HP\",\"Defense\",\"Speed\",\"Sp. Atk\",\"Sp. Def\"],\"y\":[0.5890388420639459,0.15933736771421597,0.07976922262636546,0.020094191522762952,0.019757516356155837,0.0],\"type\":\"bar\"}],                        {\"template\":{\"data\":{\"histogram2dcontour\":[{\"type\":\"histogram2dcontour\",\"colorbar\":{\"outlinewidth\":0,\"ticks\":\"\"},\"colorscale\":[[0.0,\"#0d0887\"],[0.1111111111111111,\"#46039f\"],[0.2222222222222222,\"#7201a8\"],[0.3333333333333333,\"#9c179e\"],[0.4444444444444444,\"#bd3786\"],[0.5555555555555556,\"#d8576b\"],[0.6666666666666666,\"#ed7953\"],[0.7777777777777778,\"#fb9f3a\"],[0.8888888888888888,\"#fdca26\"],[1.0,\"#f0f921\"]]}],\"choropleth\":[{\"type\":\"choropleth\",\"colorbar\":{\"outlinewidth\":0,\"ticks\":\"\"}}],\"histogram2d\":[{\"type\":\"histogram2d\",\"colorbar\":{\"outlinewidth\":0,\"ticks\":\"\"},\"colorscale\":[[0.0,\"#0d0887\"],[0.1111111111111111,\"#46039f\"],[0.2222222222222222,\"#7201a8\"],[0.3333333333333333,\"#9c179e\"],[0.4444444444444444,\"#bd3786\"],[0.5555555555555556,\"#d8576b\"],[0.6666666666666666,\"#ed7953\"],[0.7777777777777778,\"#fb9f3a\"],[0.8888888888888888,\"#fdca26\"],[1.0,\"#f0f921\"]]}],\"heatmap\":[{\"type\":\"heatmap\",\"colorbar\":{\"outlinewidth\":0,\"ticks\":\"\"},\"colorscale\":[[0.0,\"#0d0887\"],[0.1111111111111111,\"#46039f\"],[0.2222222222222222,\"#7201a8\"],[0.3333333333333333,\"#9c179e\"],[0.4444444444444444,\"#bd3786\"],[0.5555555555555556,\"#d8576b\"],[0.6666666666666666,\"#ed7953\"],[0.7777777777777778,\"#fb9f3a\"],[0.8888888888888888,\"#fdca26\"],[1.0,\"#f0f921\"]]}],\"heatmapgl\":[{\"type\":\"heatmapgl\",\"colorbar\":{\"outlinewidth\":0,\"ticks\":\"\"},\"colorscale\":[[0.0,\"#0d0887\"],[0.1111111111111111,\"#46039f\"],[0.2222222222222222,\"#7201a8\"],[0.3333333333333333,\"#9c179e\"],[0.4444444444444444,\"#bd3786\"],[0.5555555555555556,\"#d8576b\"],[0.6666666666666666,\"#ed7953\"],[0.7777777777777778,\"#fb9f3a\"],[0.8888888888888888,\"#fdca26\"],[1.0,\"#f0f921\"]]}],\"contourcarpet\":[{\"type\":\"contourcarpet\",\"colorbar\":{\"outlinewidth\":0,\"ticks\":\"\"}}],\"contour\":[{\"type\":\"contour\",\"colorbar\":{\"outlinewidth\":0,\"ticks\":\"\"},\"colorscale\":[[0.0,\"#0d0887\"],[0.1111111111111111,\"#46039f\"],[0.2222222222222222,\"#7201a8\"],[0.3333333333333333,\"#9c179e\"],[0.4444444444444444,\"#bd3786\"],[0.5555555555555556,\"#d8576b\"],[0.6666666666666666,\"#ed7953\"],[0.7777777777777778,\"#fb9f3a\"],[0.8888888888888888,\"#fdca26\"],[1.0,\"#f0f921\"]]}],\"surface\":[{\"type\":\"surface\",\"colorbar\":{\"outlinewidth\":0,\"ticks\":\"\"},\"colorscale\":[[0.0,\"#0d0887\"],[0.1111111111111111,\"#46039f\"],[0.2222222222222222,\"#7201a8\"],[0.3333333333333333,\"#9c179e\"],[0.4444444444444444,\"#bd3786\"],[0.5555555555555556,\"#d8576b\"],[0.6666666666666666,\"#ed7953\"],[0.7777777777777778,\"#fb9f3a\"],[0.8888888888888888,\"#fdca26\"],[1.0,\"#f0f921\"]]}],\"mesh3d\":[{\"type\":\"mesh3d\",\"colorbar\":{\"outlinewidth\":0,\"ticks\":\"\"}}],\"scatter\":[{\"marker\":{\"line\":{\"color\":\"#283442\"}},\"type\":\"scatter\"}],\"parcoords\":[{\"type\":\"parcoords\",\"line\":{\"colorbar\":{\"outlinewidth\":0,\"ticks\":\"\"}}}],\"scatterpolargl\":[{\"type\":\"scatterpolargl\",\"marker\":{\"colorbar\":{\"outlinewidth\":0,\"ticks\":\"\"}}}],\"bar\":[{\"error_x\":{\"color\":\"#f2f5fa\"},\"error_y\":{\"color\":\"#f2f5fa\"},\"marker\":{\"line\":{\"color\":\"rgb(17,17,17)\",\"width\":0.5},\"pattern\":{\"fillmode\":\"overlay\",\"size\":10,\"solidity\":0.2}},\"type\":\"bar\"}],\"scattergeo\":[{\"type\":\"scattergeo\",\"marker\":{\"colorbar\":{\"outlinewidth\":0,\"ticks\":\"\"}}}],\"scatterpolar\":[{\"type\":\"scatterpolar\",\"marker\":{\"colorbar\":{\"outlinewidth\":0,\"ticks\":\"\"}}}],\"histogram\":[{\"marker\":{\"pattern\":{\"fillmode\":\"overlay\",\"size\":10,\"solidity\":0.2}},\"type\":\"histogram\"}],\"scattergl\":[{\"marker\":{\"line\":{\"color\":\"#283442\"}},\"type\":\"scattergl\"}],\"scatter3d\":[{\"type\":\"scatter3d\",\"line\":{\"colorbar\":{\"outlinewidth\":0,\"ticks\":\"\"}},\"marker\":{\"colorbar\":{\"outlinewidth\":0,\"ticks\":\"\"}}}],\"scattermapbox\":[{\"type\":\"scattermapbox\",\"marker\":{\"colorbar\":{\"outlinewidth\":0,\"ticks\":\"\"}}}],\"scatterternary\":[{\"type\":\"scatterternary\",\"marker\":{\"colorbar\":{\"outlinewidth\":0,\"ticks\":\"\"}}}],\"scattercarpet\":[{\"type\":\"scattercarpet\",\"marker\":{\"colorbar\":{\"outlinewidth\":0,\"ticks\":\"\"}}}],\"carpet\":[{\"aaxis\":{\"endlinecolor\":\"#A2B1C6\",\"gridcolor\":\"#506784\",\"linecolor\":\"#506784\",\"minorgridcolor\":\"#506784\",\"startlinecolor\":\"#A2B1C6\"},\"baxis\":{\"endlinecolor\":\"#A2B1C6\",\"gridcolor\":\"#506784\",\"linecolor\":\"#506784\",\"minorgridcolor\":\"#506784\",\"startlinecolor\":\"#A2B1C6\"},\"type\":\"carpet\"}],\"table\":[{\"cells\":{\"fill\":{\"color\":\"#506784\"},\"line\":{\"color\":\"rgb(17,17,17)\"}},\"header\":{\"fill\":{\"color\":\"#2a3f5f\"},\"line\":{\"color\":\"rgb(17,17,17)\"}},\"type\":\"table\"}],\"barpolar\":[{\"marker\":{\"line\":{\"color\":\"rgb(17,17,17)\",\"width\":0.5},\"pattern\":{\"fillmode\":\"overlay\",\"size\":10,\"solidity\":0.2}},\"type\":\"barpolar\"}],\"pie\":[{\"automargin\":true,\"type\":\"pie\"}]},\"layout\":{\"autotypenumbers\":\"strict\",\"colorway\":[\"#636efa\",\"#EF553B\",\"#00cc96\",\"#ab63fa\",\"#FFA15A\",\"#19d3f3\",\"#FF6692\",\"#B6E880\",\"#FF97FF\",\"#FECB52\"],\"font\":{\"color\":\"#f2f5fa\"},\"hovermode\":\"closest\",\"hoverlabel\":{\"align\":\"left\"},\"paper_bgcolor\":\"rgb(17,17,17)\",\"plot_bgcolor\":\"rgb(17,17,17)\",\"polar\":{\"bgcolor\":\"rgb(17,17,17)\",\"angularaxis\":{\"gridcolor\":\"#506784\",\"linecolor\":\"#506784\",\"ticks\":\"\"},\"radialaxis\":{\"gridcolor\":\"#506784\",\"linecolor\":\"#506784\",\"ticks\":\"\"}},\"ternary\":{\"bgcolor\":\"rgb(17,17,17)\",\"aaxis\":{\"gridcolor\":\"#506784\",\"linecolor\":\"#506784\",\"ticks\":\"\"},\"baxis\":{\"gridcolor\":\"#506784\",\"linecolor\":\"#506784\",\"ticks\":\"\"},\"caxis\":{\"gridcolor\":\"#506784\",\"linecolor\":\"#506784\",\"ticks\":\"\"}},\"coloraxis\":{\"colorbar\":{\"outlinewidth\":0,\"ticks\":\"\"}},\"colorscale\":{\"sequential\":[[0.0,\"#0d0887\"],[0.1111111111111111,\"#46039f\"],[0.2222222222222222,\"#7201a8\"],[0.3333333333333333,\"#9c179e\"],[0.4444444444444444,\"#bd3786\"],[0.5555555555555556,\"#d8576b\"],[0.6666666666666666,\"#ed7953\"],[0.7777777777777778,\"#fb9f3a\"],[0.8888888888888888,\"#fdca26\"],[1.0,\"#f0f921\"]],\"sequentialminus\":[[0.0,\"#0d0887\"],[0.1111111111111111,\"#46039f\"],[0.2222222222222222,\"#7201a8\"],[0.3333333333333333,\"#9c179e\"],[0.4444444444444444,\"#bd3786\"],[0.5555555555555556,\"#d8576b\"],[0.6666666666666666,\"#ed7953\"],[0.7777777777777778,\"#fb9f3a\"],[0.8888888888888888,\"#fdca26\"],[1.0,\"#f0f921\"]],\"diverging\":[[0,\"#8e0152\"],[0.1,\"#c51b7d\"],[0.2,\"#de77ae\"],[0.3,\"#f1b6da\"],[0.4,\"#fde0ef\"],[0.5,\"#f7f7f7\"],[0.6,\"#e6f5d0\"],[0.7,\"#b8e186\"],[0.8,\"#7fbc41\"],[0.9,\"#4d9221\"],[1,\"#276419\"]]},\"xaxis\":{\"gridcolor\":\"#283442\",\"linecolor\":\"#506784\",\"ticks\":\"\",\"title\":{\"standoff\":15},\"zerolinecolor\":\"#283442\",\"automargin\":true,\"zerolinewidth\":2},\"yaxis\":{\"gridcolor\":\"#283442\",\"linecolor\":\"#506784\",\"ticks\":\"\",\"title\":{\"standoff\":15},\"zerolinecolor\":\"#283442\",\"automargin\":true,\"zerolinewidth\":2},\"scene\":{\"xaxis\":{\"backgroundcolor\":\"rgb(17,17,17)\",\"gridcolor\":\"#506784\",\"linecolor\":\"#506784\",\"showbackground\":true,\"ticks\":\"\",\"zerolinecolor\":\"#C8D4E3\",\"gridwidth\":2},\"yaxis\":{\"backgroundcolor\":\"rgb(17,17,17)\",\"gridcolor\":\"#506784\",\"linecolor\":\"#506784\",\"showbackground\":true,\"ticks\":\"\",\"zerolinecolor\":\"#C8D4E3\",\"gridwidth\":2},\"zaxis\":{\"backgroundcolor\":\"rgb(17,17,17)\",\"gridcolor\":\"#506784\",\"linecolor\":\"#506784\",\"showbackground\":true,\"ticks\":\"\",\"zerolinecolor\":\"#C8D4E3\",\"gridwidth\":2}},\"shapedefaults\":{\"line\":{\"color\":\"#f2f5fa\"}},\"annotationdefaults\":{\"arrowcolor\":\"#f2f5fa\",\"arrowhead\":0,\"arrowwidth\":1},\"geo\":{\"bgcolor\":\"rgb(17,17,17)\",\"landcolor\":\"rgb(17,17,17)\",\"subunitcolor\":\"#506784\",\"showland\":true,\"showlakes\":true,\"lakecolor\":\"rgb(17,17,17)\"},\"title\":{\"x\":0.05},\"updatemenudefaults\":{\"bgcolor\":\"#506784\",\"borderwidth\":0},\"sliderdefaults\":{\"bgcolor\":\"#C8D4E3\",\"borderwidth\":1,\"bordercolor\":\"rgb(17,17,17)\",\"tickwidth\":0},\"mapbox\":{\"style\":\"dark\"}}},\"title\":{\"text\":\"Importancia de las caracter\\u00edsticas\"},\"xaxis\":{\"title\":{\"text\":\"Caracter\\u00edsticas\"}},\"yaxis\":{\"title\":{\"text\":\"Importancia\"}}},                        {\"responsive\": true}                    ).then(function(){\n                            \nvar gd = document.getElementById('db1d9304-6b1e-47a6-b187-95609d68d67c');\nvar x = new MutationObserver(function (mutations, observer) {{\n        var display = window.getComputedStyle(gd).display;\n        if (!display || display === 'none') {{\n            console.log([gd, 'removed!']);\n            Plotly.purge(gd);\n            observer.disconnect();\n        }}\n}});\n\n// Listen for the removal of the full notebook cells\nvar notebookContainer = gd.closest('#notebook-container');\nif (notebookContainer) {{\n    x.observe(notebookContainer, {childList: true});\n}}\n\n// Listen for the clearing of the current output cell\nvar outputEl = gd.closest('.output');\nif (outputEl) {{\n    x.observe(outputEl, {childList: true});\n}}\n\n                        })                };                });            </script>        </div>"
     },
     "metadata": {},
     "output_type": "display_data"
    }
   ],
   "source": [
    "# Crear un gráfico de barras para mostrar las importancias de las características\n",
    "\n",
    "fig = go.Figure()\n",
    "fig.add_trace(go.Bar(x=importances_df['feature'], y=importances_df['importance']))\n",
    "fig.update_layout(title='Importancia de las características', xaxis_title='Características', yaxis_title='Importancia')\n",
    "fig.show()\n"
   ],
   "metadata": {
    "collapsed": false,
    "ExecuteTime": {
     "start_time": "2023-04-23T00:11:22.045431Z",
     "end_time": "2023-04-23T00:11:22.056296Z"
    }
   }
  },
  {
   "cell_type": "code",
   "execution_count": null,
   "outputs": [],
   "source": [],
   "metadata": {
    "collapsed": false,
    "ExecuteTime": {
     "start_time": "2023-04-22T16:18:08.284123Z",
     "end_time": "2023-04-22T16:18:08.351446Z"
    }
   }
  }
 ],
 "metadata": {
  "kernelspec": {
   "display_name": "Python 3",
   "language": "python",
   "name": "python3"
  },
  "language_info": {
   "codemirror_mode": {
    "name": "ipython",
    "version": 2
   },
   "file_extension": ".py",
   "mimetype": "text/x-python",
   "name": "python",
   "nbconvert_exporter": "python",
   "pygments_lexer": "ipython2",
   "version": "2.7.6"
  }
 },
 "nbformat": 4,
 "nbformat_minor": 0
}
